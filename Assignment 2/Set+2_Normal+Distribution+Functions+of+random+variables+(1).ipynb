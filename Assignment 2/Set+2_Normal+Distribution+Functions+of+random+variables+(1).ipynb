{
 "cells": [
  {
   "cell_type": "markdown",
   "id": "fccad5c0",
   "metadata": {},
   "source": [
    "##  Set+2_Normal+Distribution+Functions+of+random+variables+(1)"
   ]
  },
  {
   "cell_type": "markdown",
   "id": "9b71c1c7",
   "metadata": {},
   "source": [
    "1.\tThe time required for servicing transmissions is normally distributed with  = 45 minutes and  = 8 minutes. The service manager plans to have work begin on the transmission of a customer’s car 10 minutes after the car is dropped off and the customer is told that the car will be ready within 1 hour from drop-off. What is the probability that the service manager cannot meet his commitment? \n",
    "\n",
    "A.\t0.3875   \n",
    "B.\t0.2676   \n",
    "C.\t0.5   \n",
    "D.\t0.6987 \n"
   ]
  },
  {
   "cell_type": "code",
   "execution_count": 3,
   "id": "3fc9d155",
   "metadata": {},
   "outputs": [
    {
     "data": {
      "text/plain": [
       "0.26598552904870054"
      ]
     },
     "execution_count": 3,
     "metadata": {},
     "output_type": "execute_result"
    }
   ],
   "source": [
    "from scipy import stats\n",
    "    \n",
    "prob = 1-stats.norm.cdf(60, 45+10, 8)\n",
    "prob\n",
    "\n",
    "Ans:B"
   ]
  },
  {
   "cell_type": "code",
   "execution_count": null,
   "id": "b8822ea0",
   "metadata": {},
   "outputs": [],
   "source": [
    "Ans: b"
   ]
  },
  {
   "cell_type": "markdown",
   "id": "bddfacd1",
   "metadata": {},
   "source": [
    "2.\tThe current age (in years) of 400 clerical employees at an insurance claims processing center is normally distributed with mean  = 38 and Standard deviation  =6. For each statement below, please specify True/False. If false, briefly explain why.?\n",
    "\n",
    "\n",
    "A.\tMore employees at the processing center are older than 44 than between 38 and 44.\n",
    "\n",
    "B.\tA training program for employees under the age of 30 at the center would be expected to attract about 36 employees.\n"
   ]
  },
  {
   "cell_type": "code",
   "execution_count": 6,
   "id": "b1bb6ca3",
   "metadata": {},
   "outputs": [
    {
     "data": {
      "text/plain": [
       "0.15865525393145707"
      ]
     },
     "execution_count": 6,
     "metadata": {},
     "output_type": "execute_result"
    }
   ],
   "source": [
    "# More employees at the processing center are older than 44 than between 38 and 44.\n",
    "# p(X>44); Employees older than 44 yrs of age\n",
    "1-stats.norm.cdf(44,loc=38,scale=6)"
   ]
  },
  {
   "cell_type": "code",
   "execution_count": 5,
   "id": "c2fb53d6",
   "metadata": {},
   "outputs": [
    {
     "data": {
      "text/plain": [
       "0.3413447460685429"
      ]
     },
     "execution_count": 5,
     "metadata": {},
     "output_type": "execute_result"
    }
   ],
   "source": [
    "# p(38<X<44); Employees between 38 to 44 yrs of age\n",
    "stats.norm.cdf(44,38,6)-stats.norm.cdf(38,38,6)"
   ]
  },
  {
   "cell_type": "code",
   "execution_count": 7,
   "id": "019f3cd2",
   "metadata": {},
   "outputs": [
    {
     "data": {
      "text/plain": [
       "0.09121121972586788"
      ]
     },
     "execution_count": 7,
     "metadata": {},
     "output_type": "execute_result"
    }
   ],
   "source": [
    "#B. A training program for employees under the age of 30 at the center would be expected to attract about 36 employees.\n",
    "# P(X<30); Employees under 30 yrs of age\n",
    "stats.norm.cdf(30,38,6)"
   ]
  },
  {
   "cell_type": "code",
   "execution_count": 8,
   "id": "c74b61e3",
   "metadata": {},
   "outputs": [
    {
     "data": {
      "text/plain": [
       "36.484487890347154"
      ]
     },
     "execution_count": 8,
     "metadata": {},
     "output_type": "execute_result"
    }
   ],
   "source": [
    "# No. of employees attending training program from 400 nos. is N*P(X<30)\n",
    "400*stats.norm.cdf(30,38,6)"
   ]
  },
  {
   "cell_type": "markdown",
   "id": "b1a5f31b",
   "metadata": {},
   "source": [
    "Q3.\tIf X1 ~ N(μ, σ2) and X2 ~ N(μ, σ2) are iid normal random variables, then what is the difference between 2 X1 and X1 + X2? \n",
    "Discuss both their distributions and parameters.       "
   ]
  },
  {
   "cell_type": "code",
   "execution_count": 21,
   "id": "28f4137b",
   "metadata": {},
   "outputs": [],
   "source": [
    "#ANS: The Normal Distribution has its link with the Central Limit Theorem,\n",
    "#     which states that ‘Any large sum of independent identically distribution random variables are \n",
    "#     approximately Normal then (X1 + X2) and (2X1) tends to have Normal distribution \n",
    "#      only If X1 and X2 are i.i.d and n is Large."
   ]
  },
  {
   "cell_type": "markdown",
   "id": "d3a341f7",
   "metadata": {},
   "source": [
    "4.\tLet X ~ N(100, 202). Find two values, a and b, symmetric about the mean, such that the probability of the random variable taking a value between them is 0.99. \n",
    "\n",
    "A.\t90.5, 105.9 \n",
    "B.\t80.2, 119.8 \n",
    "C.\t22, 78 \n",
    "D.\t48.5, 151.5 \n",
    "E.\t90.1, 109.9\n"
   ]
  },
  {
   "cell_type": "code",
   "execution_count": 9,
   "id": "b7d3da13",
   "metadata": {},
   "outputs": [
    {
     "data": {
      "text/plain": [
       "(48.48341392902199, 151.516586070978)"
      ]
     },
     "execution_count": 9,
     "metadata": {},
     "output_type": "execute_result"
    }
   ],
   "source": [
    "stats.norm.interval(0.99,100,20)"
   ]
  },
  {
   "cell_type": "code",
   "execution_count": 11,
   "id": "a191098f",
   "metadata": {},
   "outputs": [],
   "source": [
    "#Ans: D"
   ]
  },
  {
   "cell_type": "markdown",
   "id": "da72e100",
   "metadata": {},
   "source": [
    "5.\tConsider a company that has two different divisions. The annual profits from the two divisions are independent and have distributions Profit1 ~ N(5, 32) and Profit2 ~ N(7, 42) respectively. Both the profits are in $ Million. \n",
    "\n",
    "Answer the following questions about the total profit of the company in Rupees. Assume that $1 = Rs. 45\n",
    "\n",
    "\n",
    "A.\tSpecify a Rupee range (centered on the mean) such that it contains 95% probability for the annual profit of the company.\n",
    "\n",
    "B.\tSpecify the 5th percentile of profit (in Rupees) for the company\n",
    "\n",
    "C.\tWhich of the two divisions has a larger probability of making a loss in a given year?\n"
   ]
  },
  {
   "cell_type": "code",
   "execution_count": 12,
   "id": "1bf68c6e",
   "metadata": {},
   "outputs": [
    {
     "name": "stdout",
     "output_type": "stream",
     "text": [
      "Mean Profit is Rs 540 Million\n"
     ]
    }
   ],
   "source": [
    "# Mean profits from two different divisions of a company = Mean1 + Mean2\n",
    "Mean = 5+7\n",
    "print('Mean Profit is Rs', Mean*45,'Million')"
   ]
  },
  {
   "cell_type": "code",
   "execution_count": 14,
   "id": "d51fe5ac",
   "metadata": {},
   "outputs": [
    {
     "name": "stdout",
     "output_type": "stream",
     "text": [
      "Standard Deviation is Rs 225.0 Million\n"
     ]
    }
   ],
   "source": [
    "# Variance of profits from two different divisions of a company = SD^2 = SD1^2 + SD2^2\n",
    "import numpy as np\n",
    "\n",
    "SD = np.sqrt((9)+(16))\n",
    "print('Standard Deviation is Rs', SD*45, 'Million')"
   ]
  },
  {
   "cell_type": "code",
   "execution_count": 15,
   "id": "eed4c5d9",
   "metadata": {},
   "outputs": [
    {
     "name": "stdout",
     "output_type": "stream",
     "text": [
      "Range is Rs (99.00810347848784, 980.9918965215122) in Millions\n"
     ]
    }
   ],
   "source": [
    "# A. Specify a Rupee range (centered on the mean) such that it contains 95% probability for the annual profit of the company.\n",
    "print('Range is Rs',(stats.norm.interval(0.95,540,225)),'in Millions')"
   ]
  },
  {
   "cell_type": "code",
   "execution_count": 16,
   "id": "852b3215",
   "metadata": {},
   "outputs": [
    {
     "name": "stdout",
     "output_type": "stream",
     "text": [
      "5th percentile of profit (in Million Rupees) is 170.0\n"
     ]
    }
   ],
   "source": [
    "# B. Specify the 5th percentile of profit (in Rupees) for the company\n",
    "# To compute 5th Percentile, we use the formula X=μ + Zσ; wherein from z table, 5 percentile = -1.645\n",
    "X= 540+(-1.645)*(225)\n",
    "print('5th percentile of profit (in Million Rupees) is',np.round(X,))"
   ]
  },
  {
   "cell_type": "code",
   "execution_count": 17,
   "id": "7258c3b0",
   "metadata": {},
   "outputs": [],
   "source": [
    "# C. Which of the two divisions has a larger probability of making a loss in a given year?"
   ]
  },
  {
   "cell_type": "code",
   "execution_count": 18,
   "id": "a781c2fc",
   "metadata": {},
   "outputs": [
    {
     "data": {
      "text/plain": [
       "0.0477903522728147"
      ]
     },
     "execution_count": 18,
     "metadata": {},
     "output_type": "execute_result"
    }
   ],
   "source": [
    "# Probability of Division 1 making a loss P(X<0)\n",
    "stats.norm.cdf(0,5,3)"
   ]
  },
  {
   "cell_type": "code",
   "execution_count": 19,
   "id": "18817097",
   "metadata": {},
   "outputs": [
    {
     "data": {
      "text/plain": [
       "0.040059156863817086"
      ]
     },
     "execution_count": 19,
     "metadata": {},
     "output_type": "execute_result"
    }
   ],
   "source": [
    "# Probability of Division 2 making a loss P(X<0)\n",
    "stats.norm.cdf(0,7,4)"
   ]
  },
  {
   "cell_type": "code",
   "execution_count": null,
   "id": "041cbb1e",
   "metadata": {},
   "outputs": [],
   "source": []
  }
 ],
 "metadata": {
  "kernelspec": {
   "display_name": "Python 3 (ipykernel)",
   "language": "python",
   "name": "python3"
  },
  "language_info": {
   "codemirror_mode": {
    "name": "ipython",
    "version": 3
   },
   "file_extension": ".py",
   "mimetype": "text/x-python",
   "name": "python",
   "nbconvert_exporter": "python",
   "pygments_lexer": "ipython3",
   "version": "3.9.12"
  }
 },
 "nbformat": 4,
 "nbformat_minor": 5
}
