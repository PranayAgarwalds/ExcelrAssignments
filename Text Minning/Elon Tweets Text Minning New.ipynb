{
 "cells": [
  {
   "cell_type": "markdown",
   "id": "f9b6da2d",
   "metadata": {},
   "source": [
    "## Eon Musk Tweets"
   ]
  },
  {
   "cell_type": "code",
   "execution_count": 3,
   "id": "ea4a02de",
   "metadata": {},
   "outputs": [],
   "source": [
    "import nltk\n",
    "from nltk.stem import PorterStemmer, WordNetLemmatizer\n",
    "import re\n",
    "from nltk.corpus import stopwords\n",
    "import pandas as pd"
   ]
  },
  {
   "cell_type": "code",
   "execution_count": 4,
   "id": "8ac3558a",
   "metadata": {},
   "outputs": [
    {
     "data": {
      "text/html": [
       "<div>\n",
       "<style scoped>\n",
       "    .dataframe tbody tr th:only-of-type {\n",
       "        vertical-align: middle;\n",
       "    }\n",
       "\n",
       "    .dataframe tbody tr th {\n",
       "        vertical-align: top;\n",
       "    }\n",
       "\n",
       "    .dataframe thead th {\n",
       "        text-align: right;\n",
       "    }\n",
       "</style>\n",
       "<table border=\"1\" class=\"dataframe\">\n",
       "  <thead>\n",
       "    <tr style=\"text-align: right;\">\n",
       "      <th></th>\n",
       "      <th>Text</th>\n",
       "    </tr>\n",
       "  </thead>\n",
       "  <tbody>\n",
       "    <tr>\n",
       "      <th>1</th>\n",
       "      <td>@kunalb11 Im an alien</td>\n",
       "    </tr>\n",
       "    <tr>\n",
       "      <th>2</th>\n",
       "      <td>@ID_AA_Carmack Ray tracing on Cyberpunk with H...</td>\n",
       "    </tr>\n",
       "    <tr>\n",
       "      <th>3</th>\n",
       "      <td>@joerogan @Spotify Great interview!</td>\n",
       "    </tr>\n",
       "    <tr>\n",
       "      <th>4</th>\n",
       "      <td>@gtera27 Doge is underestimated</td>\n",
       "    </tr>\n",
       "    <tr>\n",
       "      <th>5</th>\n",
       "      <td>@teslacn Congratulations Tesla China for amazi...</td>\n",
       "    </tr>\n",
       "    <tr>\n",
       "      <th>...</th>\n",
       "      <td>...</td>\n",
       "    </tr>\n",
       "    <tr>\n",
       "      <th>1995</th>\n",
       "      <td>@flcnhvy True, it sounds so surreal, but the n...</td>\n",
       "    </tr>\n",
       "    <tr>\n",
       "      <th>1996</th>\n",
       "      <td>@PPathole Make sure to read ur terms &amp;amp; con...</td>\n",
       "    </tr>\n",
       "    <tr>\n",
       "      <th>1997</th>\n",
       "      <td>@TeslaGong @PPathole Samwise Gamgee</td>\n",
       "    </tr>\n",
       "    <tr>\n",
       "      <th>1998</th>\n",
       "      <td>@PPathole Altho Dumb and Dumber is &lt;U+0001F525...</td>\n",
       "    </tr>\n",
       "    <tr>\n",
       "      <th>1999</th>\n",
       "      <td>Progress update August 28</td>\n",
       "    </tr>\n",
       "  </tbody>\n",
       "</table>\n",
       "<p>1999 rows × 1 columns</p>\n",
       "</div>"
      ],
      "text/plain": [
       "                                                   Text\n",
       "1                                @kunalb11 Im an alien\n",
       "2     @ID_AA_Carmack Ray tracing on Cyberpunk with H...\n",
       "3                   @joerogan @Spotify Great interview!\n",
       "4                       @gtera27 Doge is underestimated\n",
       "5     @teslacn Congratulations Tesla China for amazi...\n",
       "...                                                 ...\n",
       "1995  @flcnhvy True, it sounds so surreal, but the n...\n",
       "1996  @PPathole Make sure to read ur terms &amp; con...\n",
       "1997                @TeslaGong @PPathole Samwise Gamgee\n",
       "1998  @PPathole Altho Dumb and Dumber is <U+0001F525...\n",
       "1999                          Progress update August 28\n",
       "\n",
       "[1999 rows x 1 columns]"
      ]
     },
     "execution_count": 4,
     "metadata": {},
     "output_type": "execute_result"
    }
   ],
   "source": [
    "elon=pd.read_csv(\"Elon_musk.csv\",encoding='Latin-1',index_col=0)\n",
    "elon"
   ]
  },
  {
   "cell_type": "code",
   "execution_count": 85,
   "id": "9fbd0c96",
   "metadata": {},
   "outputs": [
    {
     "data": {
      "text/html": [
       "<div>\n",
       "<style scoped>\n",
       "    .dataframe tbody tr th:only-of-type {\n",
       "        vertical-align: middle;\n",
       "    }\n",
       "\n",
       "    .dataframe tbody tr th {\n",
       "        vertical-align: top;\n",
       "    }\n",
       "\n",
       "    .dataframe thead th {\n",
       "        text-align: right;\n",
       "    }\n",
       "</style>\n",
       "<table border=\"1\" class=\"dataframe\">\n",
       "  <thead>\n",
       "    <tr style=\"text-align: right;\">\n",
       "      <th></th>\n",
       "      <th>Text</th>\n",
       "    </tr>\n",
       "  </thead>\n",
       "  <tbody>\n",
       "    <tr>\n",
       "      <th>1998</th>\n",
       "      <td>@PPathole Altho Dumb and Dumber is &lt;U+0001F525...</td>\n",
       "    </tr>\n",
       "    <tr>\n",
       "      <th>1999</th>\n",
       "      <td>Progress update August 28</td>\n",
       "    </tr>\n",
       "  </tbody>\n",
       "</table>\n",
       "</div>"
      ],
      "text/plain": [
       "                                                   Text\n",
       "1998  @PPathole Altho Dumb and Dumber is <U+0001F525...\n",
       "1999                          Progress update August 28"
      ]
     },
     "execution_count": 85,
     "metadata": {},
     "output_type": "execute_result"
    }
   ],
   "source": [
    "elon.tail(2)"
   ]
  },
  {
   "cell_type": "code",
   "execution_count": 7,
   "id": "c37b28e0",
   "metadata": {},
   "outputs": [
    {
     "data": {
      "text/plain": [
       "(1999, 1)"
      ]
     },
     "execution_count": 7,
     "metadata": {},
     "output_type": "execute_result"
    }
   ],
   "source": [
    "elon.shape"
   ]
  },
  {
   "cell_type": "code",
   "execution_count": 6,
   "id": "0a599b07",
   "metadata": {},
   "outputs": [
    {
     "data": {
      "text/plain": [
       "1999"
      ]
     },
     "execution_count": 6,
     "metadata": {},
     "output_type": "execute_result"
    }
   ],
   "source": [
    "len(elon[\"Text\"])"
   ]
  },
  {
   "cell_type": "code",
   "execution_count": 17,
   "id": "500b1443",
   "metadata": {},
   "outputs": [
    {
     "name": "stdout",
     "output_type": "stream",
     "text": [
      "                                    kunalb   I m an alien          ID AA Carmack Ray tracing on Cyberpunk with H                           joerogan  Spotify Great interview                             gtera   Doge is underestimated          teslacn Congratulations Tesla China for amazi                                                                       flcnhvy True  it sounds so surreal  but the n             PPathole Make sure to read ur terms  amp  con                           TeslaGong  PPathole Samwise Gamgee          PPathole Altho Dumb and Dumber is  U     F                                       Progress update August    Name  Text  Length        dtype  object\n"
     ]
    }
   ],
   "source": [
    "# removing all characters other than string\n",
    "\n",
    "x = re.sub('[^a-zA-Z]',' ', str(elon[\"Text\"]))\n",
    "print(x)"
   ]
  },
  {
   "cell_type": "code",
   "execution_count": 84,
   "id": "92c2f251",
   "metadata": {},
   "outputs": [
    {
     "data": {
      "text/plain": [
       "91"
      ]
     },
     "execution_count": 84,
     "metadata": {},
     "output_type": "execute_result"
    }
   ],
   "source": [
    "len(x)"
   ]
  },
  {
   "cell_type": "code",
   "execution_count": 21,
   "id": "5ea3d390",
   "metadata": {},
   "outputs": [
    {
     "data": {
      "text/plain": [
       "['                                    kunalb   I m an alien          ID AA Carmack Ray tracing on Cyberpunk with H                           joerogan  Spotify Great interview                             gtera   Doge is underestimated          teslacn Congratulations Tesla China for amazi                                                                       flcnhvy True  it sounds so surreal  but the n             PPathole Make sure to read ur terms  amp  con                           TeslaGong  PPathole Samwise Gamgee          PPathole Altho Dumb and Dumber is  U     F                                       Progress update August    Name  Text  Length        dtype  object']"
      ]
     },
     "execution_count": 21,
     "metadata": {},
     "output_type": "execute_result"
    }
   ],
   "source": [
    "# Sentence Tokenization\n",
    "\n",
    "sent = nltk.sent_tokenize(x)\n",
    "sent"
   ]
  },
  {
   "cell_type": "code",
   "execution_count": 22,
   "id": "a0610058",
   "metadata": {},
   "outputs": [
    {
     "data": {
      "text/plain": [
       "['                                    kunalb   i m an alien          id aa carmack ray tracing on cyberpunk with h                           joerogan  spotify great interview                             gtera   doge is underestimated          teslacn congratulations tesla china for amazi                                                                       flcnhvy true  it sounds so surreal  but the n             ppathole make sure to read ur terms  amp  con                           teslagong  ppathole samwise gamgee          ppathole altho dumb and dumber is  u     f                                       progress update august    name  text  length        dtype  object']"
      ]
     },
     "execution_count": 22,
     "metadata": {},
     "output_type": "execute_result"
    }
   ],
   "source": [
    "# Converting corpus  into lower case \n",
    "\n",
    "lowercase_list = [e.lower() for e in sent]\n",
    "lowercase_list"
   ]
  },
  {
   "cell_type": "code",
   "execution_count": 24,
   "id": "4e3d89d3",
   "metadata": {},
   "outputs": [],
   "source": [
    "#Stemming\n",
    "stemmer = PorterStemmer()"
   ]
  },
  {
   "cell_type": "code",
   "execution_count": 27,
   "id": "04de6326",
   "metadata": {
    "collapsed": true
   },
   "outputs": [
    {
     "name": "stdout",
     "output_type": "stream",
     "text": [
      "kunalb\n",
      "alien\n",
      "id\n",
      "aa\n",
      "carmack\n",
      "ray\n",
      "trace\n",
      "cyberpunk\n",
      "h\n",
      "joerogan\n",
      "spotifi\n",
      "great\n",
      "interview\n",
      "gtera\n",
      "doge\n",
      "underestim\n",
      "teslacn\n",
      "congratul\n",
      "tesla\n",
      "china\n",
      "amazi\n",
      "flcnhvi\n",
      "true\n",
      "sound\n",
      "surreal\n",
      "n\n",
      "ppathol\n",
      "make\n",
      "sure\n",
      "read\n",
      "ur\n",
      "term\n",
      "amp\n",
      "con\n",
      "teslagong\n",
      "ppathol\n",
      "samwis\n",
      "gamge\n",
      "ppathol\n",
      "altho\n",
      "dumb\n",
      "dumber\n",
      "u\n",
      "f\n",
      "progress\n",
      "updat\n",
      "august\n",
      "name\n",
      "text\n",
      "length\n",
      "dtype\n",
      "object\n"
     ]
    }
   ],
   "source": [
    "for i in lowercase_list:\n",
    "    words = nltk.word_tokenize(i) # Word Tokenization\n",
    "    for i in words:\n",
    "        if i not in set(stopwords.words('english')): # Removing all the stop words\n",
    "            print(stemmer.stem(i))# Stemming"
   ]
  },
  {
   "cell_type": "code",
   "execution_count": 30,
   "id": "eceb9147",
   "metadata": {},
   "outputs": [
    {
     "name": "stderr",
     "output_type": "stream",
     "text": [
      "[nltk_data] Downloading package wordnet to\n",
      "[nltk_data]     C:\\Users\\ppran\\AppData\\Roaming\\nltk_data...\n"
     ]
    },
    {
     "data": {
      "text/plain": [
       "True"
      ]
     },
     "execution_count": 30,
     "metadata": {},
     "output_type": "execute_result"
    }
   ],
   "source": [
    "nltk.download('wordnet')"
   ]
  },
  {
   "cell_type": "code",
   "execution_count": 34,
   "id": "4e652cf2",
   "metadata": {},
   "outputs": [
    {
     "name": "stderr",
     "output_type": "stream",
     "text": [
      "[nltk_data] Downloading package omw-1.4 to\n",
      "[nltk_data]     C:\\Users\\ppran\\AppData\\Roaming\\nltk_data...\n"
     ]
    },
    {
     "data": {
      "text/plain": [
       "True"
      ]
     },
     "execution_count": 34,
     "metadata": {},
     "output_type": "execute_result"
    }
   ],
   "source": [
    "nltk.download('omw-1.4')"
   ]
  },
  {
   "cell_type": "code",
   "execution_count": 32,
   "id": "a7fb1f5b",
   "metadata": {},
   "outputs": [],
   "source": [
    "import nltk"
   ]
  },
  {
   "cell_type": "code",
   "execution_count": 35,
   "id": "9e04f4f8",
   "metadata": {
    "collapsed": true
   },
   "outputs": [
    {
     "name": "stdout",
     "output_type": "stream",
     "text": [
      "kunalb\n",
      "alien\n",
      "id\n",
      "aa\n",
      "carmack\n",
      "ray\n",
      "tracing\n",
      "cyberpunk\n",
      "h\n",
      "joerogan\n",
      "spotify\n",
      "great\n",
      "interview\n",
      "gtera\n",
      "doge\n",
      "underestimated\n",
      "teslacn\n",
      "congratulation\n",
      "tesla\n",
      "china\n",
      "amazi\n",
      "flcnhvy\n",
      "true\n",
      "sound\n",
      "surreal\n",
      "n\n",
      "ppathole\n",
      "make\n",
      "sure\n",
      "read\n",
      "ur\n",
      "term\n",
      "amp\n",
      "con\n",
      "teslagong\n",
      "ppathole\n",
      "samwise\n",
      "gamgee\n",
      "ppathole\n",
      "altho\n",
      "dumb\n",
      "dumber\n",
      "u\n",
      "f\n",
      "progress\n",
      "update\n",
      "august\n",
      "name\n",
      "text\n",
      "length\n",
      "dtype\n",
      "object\n"
     ]
    }
   ],
   "source": [
    "# Lemmatization\n",
    "lemma = WordNetLemmatizer()\n",
    "\n",
    "for i in lowercase_list:\n",
    "    words = nltk.word_tokenize(i)# Word Tokenization\n",
    "    for i in words:\n",
    "        if i not in set(stopwords.words('english')):# Removing all the stop words\n",
    "            print(lemma.lemmatize(i)) # lemmatization"
   ]
  },
  {
   "cell_type": "markdown",
   "id": "519ec821",
   "metadata": {},
   "source": [
    "## Feature Extraction For Model Building"
   ]
  },
  {
   "cell_type": "code",
   "execution_count": 39,
   "id": "8b2a8069",
   "metadata": {},
   "outputs": [],
   "source": [
    "import pandas as pd\n",
    "from sklearn.feature_extraction.text import CountVectorizer, TfidfVectorizer"
   ]
  },
  {
   "cell_type": "code",
   "execution_count": 40,
   "id": "a77c1882",
   "metadata": {},
   "outputs": [],
   "source": [
    "tf = TfidfVectorizer()\n",
    "\n",
    "x = tf.fit_transform(lowercase_list)"
   ]
  },
  {
   "cell_type": "code",
   "execution_count": 44,
   "id": "6e7d8912",
   "metadata": {},
   "outputs": [
    {
     "data": {
      "text/plain": [
       "{'kunalb': 28,\n",
       " 'an': 5,\n",
       " 'alien': 1,\n",
       " 'id': 23,\n",
       " 'aa': 0,\n",
       " 'carmack': 9,\n",
       " 'ray': 36,\n",
       " 'tracing': 51,\n",
       " 'on': 33,\n",
       " 'cyberpunk': 13,\n",
       " 'with': 56,\n",
       " 'joerogan': 27,\n",
       " 'spotify': 41,\n",
       " 'great': 21,\n",
       " 'interview': 24,\n",
       " 'gtera': 22,\n",
       " 'doge': 14,\n",
       " 'is': 25,\n",
       " 'underestimated': 53,\n",
       " 'teslacn': 46,\n",
       " 'congratulations': 12,\n",
       " 'tesla': 45,\n",
       " 'china': 10,\n",
       " 'for': 19,\n",
       " 'amazi': 3,\n",
       " 'flcnhvy': 18,\n",
       " 'true': 52,\n",
       " 'it': 26,\n",
       " 'sounds': 40,\n",
       " 'so': 39,\n",
       " 'surreal': 43,\n",
       " 'but': 8,\n",
       " 'the': 49,\n",
       " 'ppathole': 34,\n",
       " 'make': 30,\n",
       " 'sure': 42,\n",
       " 'to': 50,\n",
       " 'read': 37,\n",
       " 'ur': 55,\n",
       " 'terms': 44,\n",
       " 'amp': 4,\n",
       " 'con': 11,\n",
       " 'teslagong': 47,\n",
       " 'samwise': 38,\n",
       " 'gamgee': 20,\n",
       " 'altho': 2,\n",
       " 'dumb': 16,\n",
       " 'and': 6,\n",
       " 'dumber': 17,\n",
       " 'progress': 35,\n",
       " 'update': 54,\n",
       " 'august': 7,\n",
       " 'name': 31,\n",
       " 'text': 48,\n",
       " 'length': 29,\n",
       " 'dtype': 15,\n",
       " 'object': 32}"
      ]
     },
     "execution_count": 44,
     "metadata": {},
     "output_type": "execute_result"
    }
   ],
   "source": [
    "tf.vocabulary_ # Vocabulary"
   ]
  },
  {
   "cell_type": "code",
   "execution_count": 41,
   "id": "2a4e2e0b",
   "metadata": {},
   "outputs": [
    {
     "data": {
      "text/plain": [
       "array([[0.12126781, 0.12126781, 0.12126781, 0.12126781, 0.12126781,\n",
       "        0.12126781, 0.12126781, 0.12126781, 0.12126781, 0.12126781,\n",
       "        0.12126781, 0.12126781, 0.12126781, 0.12126781, 0.12126781,\n",
       "        0.12126781, 0.12126781, 0.12126781, 0.12126781, 0.12126781,\n",
       "        0.12126781, 0.12126781, 0.12126781, 0.12126781, 0.12126781,\n",
       "        0.24253563, 0.12126781, 0.12126781, 0.12126781, 0.12126781,\n",
       "        0.12126781, 0.12126781, 0.12126781, 0.12126781, 0.36380344,\n",
       "        0.12126781, 0.12126781, 0.12126781, 0.12126781, 0.12126781,\n",
       "        0.12126781, 0.12126781, 0.12126781, 0.12126781, 0.12126781,\n",
       "        0.12126781, 0.12126781, 0.12126781, 0.12126781, 0.12126781,\n",
       "        0.12126781, 0.12126781, 0.12126781, 0.12126781, 0.12126781,\n",
       "        0.12126781, 0.12126781]])"
      ]
     },
     "execution_count": 41,
     "metadata": {},
     "output_type": "execute_result"
    }
   ],
   "source": [
    "x.toarray()"
   ]
  },
  {
   "cell_type": "code",
   "execution_count": 42,
   "id": "b8d9e595",
   "metadata": {},
   "outputs": [
    {
     "data": {
      "text/html": [
       "<div>\n",
       "<style scoped>\n",
       "    .dataframe tbody tr th:only-of-type {\n",
       "        vertical-align: middle;\n",
       "    }\n",
       "\n",
       "    .dataframe tbody tr th {\n",
       "        vertical-align: top;\n",
       "    }\n",
       "\n",
       "    .dataframe thead th {\n",
       "        text-align: right;\n",
       "    }\n",
       "</style>\n",
       "<table border=\"1\" class=\"dataframe\">\n",
       "  <thead>\n",
       "    <tr style=\"text-align: right;\">\n",
       "      <th></th>\n",
       "      <th>aa</th>\n",
       "      <th>alien</th>\n",
       "      <th>altho</th>\n",
       "      <th>amazi</th>\n",
       "      <th>amp</th>\n",
       "      <th>an</th>\n",
       "      <th>and</th>\n",
       "      <th>august</th>\n",
       "      <th>but</th>\n",
       "      <th>carmack</th>\n",
       "      <th>...</th>\n",
       "      <th>teslagong</th>\n",
       "      <th>text</th>\n",
       "      <th>the</th>\n",
       "      <th>to</th>\n",
       "      <th>tracing</th>\n",
       "      <th>true</th>\n",
       "      <th>underestimated</th>\n",
       "      <th>update</th>\n",
       "      <th>ur</th>\n",
       "      <th>with</th>\n",
       "    </tr>\n",
       "  </thead>\n",
       "  <tbody>\n",
       "    <tr>\n",
       "      <th>0</th>\n",
       "      <td>0.121268</td>\n",
       "      <td>0.121268</td>\n",
       "      <td>0.121268</td>\n",
       "      <td>0.121268</td>\n",
       "      <td>0.121268</td>\n",
       "      <td>0.121268</td>\n",
       "      <td>0.121268</td>\n",
       "      <td>0.121268</td>\n",
       "      <td>0.121268</td>\n",
       "      <td>0.121268</td>\n",
       "      <td>...</td>\n",
       "      <td>0.121268</td>\n",
       "      <td>0.121268</td>\n",
       "      <td>0.121268</td>\n",
       "      <td>0.121268</td>\n",
       "      <td>0.121268</td>\n",
       "      <td>0.121268</td>\n",
       "      <td>0.121268</td>\n",
       "      <td>0.121268</td>\n",
       "      <td>0.121268</td>\n",
       "      <td>0.121268</td>\n",
       "    </tr>\n",
       "  </tbody>\n",
       "</table>\n",
       "<p>1 rows × 57 columns</p>\n",
       "</div>"
      ],
      "text/plain": [
       "         aa     alien     altho     amazi       amp        an       and  \\\n",
       "0  0.121268  0.121268  0.121268  0.121268  0.121268  0.121268  0.121268   \n",
       "\n",
       "     august       but   carmack  ...  teslagong      text       the        to  \\\n",
       "0  0.121268  0.121268  0.121268  ...   0.121268  0.121268  0.121268  0.121268   \n",
       "\n",
       "    tracing      true  underestimated    update        ur      with  \n",
       "0  0.121268  0.121268        0.121268  0.121268  0.121268  0.121268  \n",
       "\n",
       "[1 rows x 57 columns]"
      ]
     },
     "execution_count": 42,
     "metadata": {},
     "output_type": "execute_result"
    }
   ],
   "source": [
    "x = pd.DataFrame(x.toarray(),columns= tf.get_feature_names_out())\n",
    "x"
   ]
  },
  {
   "cell_type": "markdown",
   "id": "d40f03c3",
   "metadata": {},
   "source": [
    "## Ner And Word Cloud"
   ]
  },
  {
   "cell_type": "code",
   "execution_count": 72,
   "id": "e50c27e5",
   "metadata": {},
   "outputs": [],
   "source": [
    "import spacy\n",
    "from spacy import displacy"
   ]
  },
  {
   "cell_type": "code",
   "execution_count": 73,
   "id": "6bf2b27e",
   "metadata": {},
   "outputs": [
    {
     "data": {
      "text/html": [
       "<div>\n",
       "<style scoped>\n",
       "    .dataframe tbody tr th:only-of-type {\n",
       "        vertical-align: middle;\n",
       "    }\n",
       "\n",
       "    .dataframe tbody tr th {\n",
       "        vertical-align: top;\n",
       "    }\n",
       "\n",
       "    .dataframe thead th {\n",
       "        text-align: right;\n",
       "    }\n",
       "</style>\n",
       "<table border=\"1\" class=\"dataframe\">\n",
       "  <thead>\n",
       "    <tr style=\"text-align: right;\">\n",
       "      <th></th>\n",
       "      <th>Text</th>\n",
       "    </tr>\n",
       "  </thead>\n",
       "  <tbody>\n",
       "    <tr>\n",
       "      <th>1</th>\n",
       "      <td>@kunalb11 Im an alien</td>\n",
       "    </tr>\n",
       "    <tr>\n",
       "      <th>2</th>\n",
       "      <td>@ID_AA_Carmack Ray tracing on Cyberpunk with H...</td>\n",
       "    </tr>\n",
       "    <tr>\n",
       "      <th>3</th>\n",
       "      <td>@joerogan @Spotify Great interview!</td>\n",
       "    </tr>\n",
       "    <tr>\n",
       "      <th>4</th>\n",
       "      <td>@gtera27 Doge is underestimated</td>\n",
       "    </tr>\n",
       "    <tr>\n",
       "      <th>5</th>\n",
       "      <td>@teslacn Congratulations Tesla China for amazi...</td>\n",
       "    </tr>\n",
       "    <tr>\n",
       "      <th>...</th>\n",
       "      <td>...</td>\n",
       "    </tr>\n",
       "    <tr>\n",
       "      <th>1995</th>\n",
       "      <td>@flcnhvy True, it sounds so surreal, but the n...</td>\n",
       "    </tr>\n",
       "    <tr>\n",
       "      <th>1996</th>\n",
       "      <td>@PPathole Make sure to read ur terms &amp;amp; con...</td>\n",
       "    </tr>\n",
       "    <tr>\n",
       "      <th>1997</th>\n",
       "      <td>@TeslaGong @PPathole Samwise Gamgee</td>\n",
       "    </tr>\n",
       "    <tr>\n",
       "      <th>1998</th>\n",
       "      <td>@PPathole Altho Dumb and Dumber is &lt;U+0001F525...</td>\n",
       "    </tr>\n",
       "    <tr>\n",
       "      <th>1999</th>\n",
       "      <td>Progress update August 28</td>\n",
       "    </tr>\n",
       "  </tbody>\n",
       "</table>\n",
       "<p>1999 rows × 1 columns</p>\n",
       "</div>"
      ],
      "text/plain": [
       "                                                   Text\n",
       "1                                @kunalb11 Im an alien\n",
       "2     @ID_AA_Carmack Ray tracing on Cyberpunk with H...\n",
       "3                   @joerogan @Spotify Great interview!\n",
       "4                       @gtera27 Doge is underestimated\n",
       "5     @teslacn Congratulations Tesla China for amazi...\n",
       "...                                                 ...\n",
       "1995  @flcnhvy True, it sounds so surreal, but the n...\n",
       "1996  @PPathole Make sure to read ur terms &amp; con...\n",
       "1997                @TeslaGong @PPathole Samwise Gamgee\n",
       "1998  @PPathole Altho Dumb and Dumber is <U+0001F525...\n",
       "1999                          Progress update August 28\n",
       "\n",
       "[1999 rows x 1 columns]"
      ]
     },
     "execution_count": 73,
     "metadata": {},
     "output_type": "execute_result"
    }
   ],
   "source": [
    "df=pd.read_csv(\"Elon_musk.csv\",encoding='Latin-1',index_col=0)\n",
    "df"
   ]
  },
  {
   "cell_type": "code",
   "execution_count": 74,
   "id": "8d4220ec",
   "metadata": {},
   "outputs": [],
   "source": [
    "nlp= spacy.load(\"en_core_web_sm\")"
   ]
  },
  {
   "cell_type": "code",
   "execution_count": 75,
   "id": "e6afa5a8",
   "metadata": {},
   "outputs": [
    {
     "name": "stdout",
     "output_type": "stream",
     "text": [
      "                                    kunalb   I m an alien          ID AA Carmack Ray tracing on Cyberpunk with H                           joerogan  Spotify Great interview                             gtera   Doge is underestimated          teslacn Congratulations Tesla China for amazi                                                                       flcnhvy True  it sounds so surreal  but the n             PPathole Make sure to read ur terms  amp  con                           TeslaGong  PPathole Samwise Gamgee          PPathole Altho Dumb and Dumber is  U     F                                       Progress update August    Name  Text  Length        dtype  object\n"
     ]
    }
   ],
   "source": [
    "# removing all characters other than string\n",
    "\n",
    "x = re.sub('[^a-zA-Z]',' ', str(df[\"Text\"]))\n",
    "print(x)"
   ]
  },
  {
   "cell_type": "code",
   "execution_count": 76,
   "id": "93195147",
   "metadata": {},
   "outputs": [
    {
     "data": {
      "text/plain": [
       "'                                    kunalb   I m an alien          ID AA Carmack Ray tracing on Cyberpunk with H                           joerogan  Spotify Great interview                             gtera   Doge is underestimated          teslacn Congratulations Tesla China for amazi                                                                       flcnhvy True  it sounds so surreal  but the n             PPathole Make sure to read ur terms  amp  con                           TeslaGong  PPathole Samwise Gamgee          PPathole Altho Dumb and Dumber is  U     F                                       Progress update August    Name  Text  Length        dtype  object'"
      ]
     },
     "execution_count": 76,
     "metadata": {},
     "output_type": "execute_result"
    }
   ],
   "source": [
    "txt=\"\".join(x) # Converting all sentences to one paragraph\n",
    "txt"
   ]
  },
  {
   "cell_type": "code",
   "execution_count": 77,
   "id": "58d983d1",
   "metadata": {},
   "outputs": [],
   "source": [
    "x=nlp(txt)"
   ]
  },
  {
   "cell_type": "code",
   "execution_count": 78,
   "id": "8a85851f",
   "metadata": {},
   "outputs": [
    {
     "data": {
      "text/html": [
       "<span class=\"tex2jax_ignore\"><div class=\"entities\" style=\"line-height: 2.5; direction: ltr\">                                    kunalb   I m an alien          ID AA Carmack Ray tracing on Cyberpunk with H                           joerogan  Spotify Great interview                             gtera   \n",
       "<mark class=\"entity\" style=\"background: #aa9cfc; padding: 0.45em 0.6em; margin: 0 0.25em; line-height: 1; border-radius: 0.35em;\">\n",
       "    Doge\n",
       "    <span style=\"font-size: 0.8em; font-weight: bold; line-height: 1; border-radius: 0.35em; vertical-align: middle; margin-left: 0.5rem\">PERSON</span>\n",
       "</mark>\n",
       " is underestimated          teslacn Congratulations Tesla \n",
       "<mark class=\"entity\" style=\"background: #feca74; padding: 0.45em 0.6em; margin: 0 0.25em; line-height: 1; border-radius: 0.35em;\">\n",
       "    China\n",
       "    <span style=\"font-size: 0.8em; font-weight: bold; line-height: 1; border-radius: 0.35em; vertical-align: middle; margin-left: 0.5rem\">GPE</span>\n",
       "</mark>\n",
       " for amazi                                                                       flcnhvy True  it sounds so surreal  but the n             PPathole Make sure to read ur terms  amp  con                           TeslaGong  PPathole Samwise Gamgee          PPathole Altho Dumb and Dumber is  U     F                                       Progress update \n",
       "<mark class=\"entity\" style=\"background: #bfe1d9; padding: 0.45em 0.6em; margin: 0 0.25em; line-height: 1; border-radius: 0.35em;\">\n",
       "    August\n",
       "    <span style=\"font-size: 0.8em; font-weight: bold; line-height: 1; border-radius: 0.35em; vertical-align: middle; margin-left: 0.5rem\">DATE</span>\n",
       "</mark>\n",
       "    Name  Text  Length        dtype  object</div></span>"
      ],
      "text/plain": [
       "<IPython.core.display.HTML object>"
      ]
     },
     "metadata": {},
     "output_type": "display_data"
    }
   ],
   "source": [
    "displacy.render(x,style=\"ent\")"
   ]
  },
  {
   "cell_type": "code",
   "execution_count": 79,
   "id": "dcd3d84c",
   "metadata": {},
   "outputs": [
    {
     "name": "stdout",
     "output_type": "stream",
     "text": [
      "                                     SPACE\n",
      "kunalb NOUN\n",
      "   SPACE\n",
      "I PRON\n",
      "m VERB\n",
      "an DET\n",
      "alien ADJ\n",
      "          SPACE\n",
      "ID PROPN\n",
      "AA PROPN\n",
      "Carmack PROPN\n",
      "Ray PROPN\n",
      "tracing VERB\n",
      "on ADP\n",
      "Cyberpunk PROPN\n",
      "with ADP\n",
      "H PROPN\n",
      "                           SPACE\n",
      "joerogan PROPN\n",
      "  SPACE\n",
      "Spotify VERB\n",
      "Great ADJ\n",
      "interview NOUN\n",
      "                             SPACE\n",
      "gtera NOUN\n",
      "   SPACE\n",
      "Doge PROPN\n",
      "is AUX\n",
      "underestimated VERB\n",
      "          SPACE\n",
      "teslacn NOUN\n",
      "Congratulations PROPN\n",
      "Tesla PROPN\n",
      "China PROPN\n",
      "for ADP\n",
      "amazi PROPN\n",
      "                                                                       SPACE\n",
      "flcnhvy PROPN\n",
      "True PROPN\n",
      "  SPACE\n",
      "it PRON\n",
      "sounds VERB\n",
      "so ADV\n",
      "surreal ADJ\n",
      "  SPACE\n",
      "but CCONJ\n",
      "the DET\n",
      "n NOUN\n",
      "             SPACE\n",
      "PPathole PROPN\n",
      "Make VERB\n",
      "sure ADJ\n",
      "to PART\n",
      "read VERB\n",
      "ur PRON\n",
      "terms NOUN\n",
      "  SPACE\n",
      "amp PROPN\n",
      "  SPACE\n",
      "con PROPN\n",
      "                           SPACE\n",
      "TeslaGong PROPN\n",
      "  SPACE\n",
      "PPathole PROPN\n",
      "Samwise PROPN\n",
      "Gamgee PROPN\n",
      "          SPACE\n",
      "PPathole PROPN\n",
      "Altho PROPN\n",
      "Dumb PROPN\n",
      "and CCONJ\n",
      "Dumber PROPN\n",
      "is AUX\n",
      "  SPACE\n",
      "U PROPN\n",
      "     SPACE\n",
      "F PROPN\n",
      "                                       SPACE\n",
      "Progress PROPN\n",
      "update NOUN\n",
      "August PROPN\n",
      "    SPACE\n",
      "Name PROPN\n",
      "  SPACE\n",
      "Text PROPN\n",
      "  SPACE\n",
      "Length PROPN\n",
      "        SPACE\n",
      "dtype NOUN\n",
      "  SPACE\n",
      "object NOUN\n"
     ]
    }
   ],
   "source": [
    "for i in x:\n",
    "    print(i,i.pos_)"
   ]
  },
  {
   "cell_type": "markdown",
   "id": "4013cda0",
   "metadata": {},
   "source": [
    "## Word Cloud"
   ]
  },
  {
   "cell_type": "code",
   "execution_count": 80,
   "id": "9ca30e1c",
   "metadata": {},
   "outputs": [],
   "source": [
    "from wordcloud import WordCloud, STOPWORDS\n",
    "import matplotlib.pyplot as plt"
   ]
  },
  {
   "cell_type": "code",
   "execution_count": 81,
   "id": "14dde6fd",
   "metadata": {},
   "outputs": [],
   "source": [
    "stop=STOPWORDS"
   ]
  },
  {
   "cell_type": "code",
   "execution_count": 82,
   "id": "15d93b2c",
   "metadata": {},
   "outputs": [
    {
     "data": {
      "text/plain": [
       "<matplotlib.image.AxesImage at 0x1c8488b7fd0>"
      ]
     },
     "execution_count": 82,
     "metadata": {},
     "output_type": "execute_result"
    },
    {
     "data": {
      "image/png": "[encoded data removed]",
      "text/plain": [
       "<Figure size 432x288 with 1 Axes>"
      ]
     },
     "metadata": {
      "needs_background": "light"
     },
     "output_type": "display_data"
    }
   ],
   "source": [
    "wc=WordCloud(background_color=\"white\",stopwords=stop).generate(txt)\n",
    "plt.imshow(wc)"
   ]
  },
  {
   "cell_type": "code",
   "execution_count": null,
   "id": "df9c46b8",
   "metadata": {},
   "outputs": [],
   "source": []
  }
 ],
 "metadata": {
  "kernelspec": {
   "display_name": "Python 3 (ipykernel)",
   "language": "python",
   "name": "python3"
  },
  "language_info": {
   "codemirror_mode": {
    "name": "ipython",
    "version": 3
   },
   "file_extension": ".py",
   "mimetype": "text/x-python",
   "name": "python",
   "nbconvert_exporter": "python",
   "pygments_lexer": "ipython3",
   "version": "3.9.12"
  }
 },
 "nbformat": 4,
 "nbformat_minor": 5
}
