{
 "cells": [
  {
   "cell_type": "markdown",
   "id": "94eb407f",
   "metadata": {},
   "source": [
    "## Crime Data Clustering"
   ]
  },
  {
   "cell_type": "code",
   "execution_count": 1,
   "id": "bc668983",
   "metadata": {},
   "outputs": [],
   "source": [
    "import pandas as pd\n",
    "import numpy as np\n",
    "import matplotlib.pyplot as plt\n",
    "import seaborn as sns\n",
    "import warnings\n",
    "warnings.filterwarnings('ignore')"
   ]
  },
  {
   "cell_type": "code",
   "execution_count": 2,
   "id": "773cf3c4",
   "metadata": {},
   "outputs": [],
   "source": [
    "df=pd.read_csv(\"crime_data.csv\")"
   ]
  },
  {
   "cell_type": "code",
   "execution_count": 5,
   "id": "5e39f399",
   "metadata": {},
   "outputs": [],
   "source": [
    "df=df.drop(columns=[\"Unnamed: 0\"],axis=1)"
   ]
  },
  {
   "cell_type": "code",
   "execution_count": 6,
   "id": "31c0c190",
   "metadata": {},
   "outputs": [
    {
     "data": {
      "text/html": [
       "<div>\n",
       "<style scoped>\n",
       "    .dataframe tbody tr th:only-of-type {\n",
       "        vertical-align: middle;\n",
       "    }\n",
       "\n",
       "    .dataframe tbody tr th {\n",
       "        vertical-align: top;\n",
       "    }\n",
       "\n",
       "    .dataframe thead th {\n",
       "        text-align: right;\n",
       "    }\n",
       "</style>\n",
       "<table border=\"1\" class=\"dataframe\">\n",
       "  <thead>\n",
       "    <tr style=\"text-align: right;\">\n",
       "      <th></th>\n",
       "      <th>Murder</th>\n",
       "      <th>Assault</th>\n",
       "      <th>UrbanPop</th>\n",
       "      <th>Rape</th>\n",
       "    </tr>\n",
       "  </thead>\n",
       "  <tbody>\n",
       "    <tr>\n",
       "      <th>0</th>\n",
       "      <td>13.2</td>\n",
       "      <td>236</td>\n",
       "      <td>58</td>\n",
       "      <td>21.2</td>\n",
       "    </tr>\n",
       "    <tr>\n",
       "      <th>1</th>\n",
       "      <td>10.0</td>\n",
       "      <td>263</td>\n",
       "      <td>48</td>\n",
       "      <td>44.5</td>\n",
       "    </tr>\n",
       "    <tr>\n",
       "      <th>2</th>\n",
       "      <td>8.1</td>\n",
       "      <td>294</td>\n",
       "      <td>80</td>\n",
       "      <td>31.0</td>\n",
       "    </tr>\n",
       "    <tr>\n",
       "      <th>3</th>\n",
       "      <td>8.8</td>\n",
       "      <td>190</td>\n",
       "      <td>50</td>\n",
       "      <td>19.5</td>\n",
       "    </tr>\n",
       "    <tr>\n",
       "      <th>4</th>\n",
       "      <td>9.0</td>\n",
       "      <td>276</td>\n",
       "      <td>91</td>\n",
       "      <td>40.6</td>\n",
       "    </tr>\n",
       "  </tbody>\n",
       "</table>\n",
       "</div>"
      ],
      "text/plain": [
       "   Murder  Assault  UrbanPop  Rape\n",
       "0    13.2      236        58  21.2\n",
       "1    10.0      263        48  44.5\n",
       "2     8.1      294        80  31.0\n",
       "3     8.8      190        50  19.5\n",
       "4     9.0      276        91  40.6"
      ]
     },
     "execution_count": 6,
     "metadata": {},
     "output_type": "execute_result"
    }
   ],
   "source": [
    "df.head()"
   ]
  },
  {
   "cell_type": "code",
   "execution_count": 17,
   "id": "2b028f49",
   "metadata": {},
   "outputs": [
    {
     "data": {
      "text/plain": [
       "(50, 4)"
      ]
     },
     "execution_count": 17,
     "metadata": {},
     "output_type": "execute_result"
    }
   ],
   "source": [
    "df.shape"
   ]
  },
  {
   "cell_type": "code",
   "execution_count": 18,
   "id": "e40ea75e",
   "metadata": {},
   "outputs": [
    {
     "name": "stdout",
     "output_type": "stream",
     "text": [
      "<class 'pandas.core.frame.DataFrame'>\n",
      "RangeIndex: 50 entries, 0 to 49\n",
      "Data columns (total 4 columns):\n",
      " #   Column    Non-Null Count  Dtype  \n",
      "---  ------    --------------  -----  \n",
      " 0   Murder    50 non-null     float64\n",
      " 1   Assault   50 non-null     int64  \n",
      " 2   UrbanPop  50 non-null     int64  \n",
      " 3   Rape      50 non-null     float64\n",
      "dtypes: float64(2), int64(2)\n",
      "memory usage: 1.7 KB\n"
     ]
    }
   ],
   "source": [
    "df.info()"
   ]
  },
  {
   "cell_type": "code",
   "execution_count": 19,
   "id": "e7c8141e",
   "metadata": {},
   "outputs": [
    {
     "data": {
      "text/html": [
       "<div>\n",
       "<style scoped>\n",
       "    .dataframe tbody tr th:only-of-type {\n",
       "        vertical-align: middle;\n",
       "    }\n",
       "\n",
       "    .dataframe tbody tr th {\n",
       "        vertical-align: top;\n",
       "    }\n",
       "\n",
       "    .dataframe thead th {\n",
       "        text-align: right;\n",
       "    }\n",
       "</style>\n",
       "<table border=\"1\" class=\"dataframe\">\n",
       "  <thead>\n",
       "    <tr style=\"text-align: right;\">\n",
       "      <th></th>\n",
       "      <th>Murder</th>\n",
       "      <th>Assault</th>\n",
       "      <th>UrbanPop</th>\n",
       "      <th>Rape</th>\n",
       "    </tr>\n",
       "  </thead>\n",
       "  <tbody>\n",
       "    <tr>\n",
       "      <th>count</th>\n",
       "      <td>50.00000</td>\n",
       "      <td>50.000000</td>\n",
       "      <td>50.000000</td>\n",
       "      <td>50.000000</td>\n",
       "    </tr>\n",
       "    <tr>\n",
       "      <th>mean</th>\n",
       "      <td>7.78800</td>\n",
       "      <td>170.760000</td>\n",
       "      <td>65.540000</td>\n",
       "      <td>21.232000</td>\n",
       "    </tr>\n",
       "    <tr>\n",
       "      <th>std</th>\n",
       "      <td>4.35551</td>\n",
       "      <td>83.337661</td>\n",
       "      <td>14.474763</td>\n",
       "      <td>9.366385</td>\n",
       "    </tr>\n",
       "    <tr>\n",
       "      <th>min</th>\n",
       "      <td>0.80000</td>\n",
       "      <td>45.000000</td>\n",
       "      <td>32.000000</td>\n",
       "      <td>7.300000</td>\n",
       "    </tr>\n",
       "    <tr>\n",
       "      <th>25%</th>\n",
       "      <td>4.07500</td>\n",
       "      <td>109.000000</td>\n",
       "      <td>54.500000</td>\n",
       "      <td>15.075000</td>\n",
       "    </tr>\n",
       "    <tr>\n",
       "      <th>50%</th>\n",
       "      <td>7.25000</td>\n",
       "      <td>159.000000</td>\n",
       "      <td>66.000000</td>\n",
       "      <td>20.100000</td>\n",
       "    </tr>\n",
       "    <tr>\n",
       "      <th>75%</th>\n",
       "      <td>11.25000</td>\n",
       "      <td>249.000000</td>\n",
       "      <td>77.750000</td>\n",
       "      <td>26.175000</td>\n",
       "    </tr>\n",
       "    <tr>\n",
       "      <th>max</th>\n",
       "      <td>17.40000</td>\n",
       "      <td>337.000000</td>\n",
       "      <td>91.000000</td>\n",
       "      <td>46.000000</td>\n",
       "    </tr>\n",
       "  </tbody>\n",
       "</table>\n",
       "</div>"
      ],
      "text/plain": [
       "         Murder     Assault   UrbanPop       Rape\n",
       "count  50.00000   50.000000  50.000000  50.000000\n",
       "mean    7.78800  170.760000  65.540000  21.232000\n",
       "std     4.35551   83.337661  14.474763   9.366385\n",
       "min     0.80000   45.000000  32.000000   7.300000\n",
       "25%     4.07500  109.000000  54.500000  15.075000\n",
       "50%     7.25000  159.000000  66.000000  20.100000\n",
       "75%    11.25000  249.000000  77.750000  26.175000\n",
       "max    17.40000  337.000000  91.000000  46.000000"
      ]
     },
     "execution_count": 19,
     "metadata": {},
     "output_type": "execute_result"
    }
   ],
   "source": [
    "df.describe()"
   ]
  },
  {
   "cell_type": "code",
   "execution_count": 7,
   "id": "e5d0a88a",
   "metadata": {},
   "outputs": [
    {
     "data": {
      "text/plain": [
       "Murder      0\n",
       "Assault     0\n",
       "UrbanPop    0\n",
       "Rape        0\n",
       "dtype: int64"
      ]
     },
     "execution_count": 7,
     "metadata": {},
     "output_type": "execute_result"
    }
   ],
   "source": [
    "df.isnull().sum()"
   ]
  },
  {
   "cell_type": "code",
   "execution_count": 9,
   "id": "221029df",
   "metadata": {},
   "outputs": [
    {
     "data": {
      "text/plain": [
       "0"
      ]
     },
     "execution_count": 9,
     "metadata": {},
     "output_type": "execute_result"
    }
   ],
   "source": [
    "df.duplicated().sum()"
   ]
  },
  {
   "cell_type": "code",
   "execution_count": 11,
   "id": "66b56824",
   "metadata": {},
   "outputs": [
    {
     "data": {
      "text/html": [
       "<div>\n",
       "<style scoped>\n",
       "    .dataframe tbody tr th:only-of-type {\n",
       "        vertical-align: middle;\n",
       "    }\n",
       "\n",
       "    .dataframe tbody tr th {\n",
       "        vertical-align: top;\n",
       "    }\n",
       "\n",
       "    .dataframe thead th {\n",
       "        text-align: right;\n",
       "    }\n",
       "</style>\n",
       "<table border=\"1\" class=\"dataframe\">\n",
       "  <thead>\n",
       "    <tr style=\"text-align: right;\">\n",
       "      <th></th>\n",
       "      <th>Murder</th>\n",
       "      <th>Assault</th>\n",
       "      <th>UrbanPop</th>\n",
       "      <th>Rape</th>\n",
       "    </tr>\n",
       "  </thead>\n",
       "  <tbody>\n",
       "    <tr>\n",
       "      <th>Murder</th>\n",
       "      <td>1.000000</td>\n",
       "      <td>0.801873</td>\n",
       "      <td>0.069573</td>\n",
       "      <td>0.563579</td>\n",
       "    </tr>\n",
       "    <tr>\n",
       "      <th>Assault</th>\n",
       "      <td>0.801873</td>\n",
       "      <td>1.000000</td>\n",
       "      <td>0.258872</td>\n",
       "      <td>0.665241</td>\n",
       "    </tr>\n",
       "    <tr>\n",
       "      <th>UrbanPop</th>\n",
       "      <td>0.069573</td>\n",
       "      <td>0.258872</td>\n",
       "      <td>1.000000</td>\n",
       "      <td>0.411341</td>\n",
       "    </tr>\n",
       "    <tr>\n",
       "      <th>Rape</th>\n",
       "      <td>0.563579</td>\n",
       "      <td>0.665241</td>\n",
       "      <td>0.411341</td>\n",
       "      <td>1.000000</td>\n",
       "    </tr>\n",
       "  </tbody>\n",
       "</table>\n",
       "</div>"
      ],
      "text/plain": [
       "            Murder   Assault  UrbanPop      Rape\n",
       "Murder    1.000000  0.801873  0.069573  0.563579\n",
       "Assault   0.801873  1.000000  0.258872  0.665241\n",
       "UrbanPop  0.069573  0.258872  1.000000  0.411341\n",
       "Rape      0.563579  0.665241  0.411341  1.000000"
      ]
     },
     "execution_count": 11,
     "metadata": {},
     "output_type": "execute_result"
    }
   ],
   "source": [
    "#Checking CoRelation \n",
    "df.corr()"
   ]
  },
  {
   "cell_type": "code",
   "execution_count": 12,
   "id": "35be23ba",
   "metadata": {},
   "outputs": [
    {
     "data": {
      "text/plain": [
       "Murder      0.0\n",
       "Assault     0.0\n",
       "UrbanPop    0.0\n",
       "Rape        0.0\n",
       "dtype: float64"
      ]
     },
     "execution_count": 12,
     "metadata": {},
     "output_type": "execute_result"
    }
   ],
   "source": [
    "df[df.corr()>80].sum() # No High Correlation Found between Features"
   ]
  },
  {
   "cell_type": "code",
   "execution_count": 13,
   "id": "e26faa69",
   "metadata": {},
   "outputs": [
    {
     "data": {
      "text/html": [
       "<div>\n",
       "<style scoped>\n",
       "    .dataframe tbody tr th:only-of-type {\n",
       "        vertical-align: middle;\n",
       "    }\n",
       "\n",
       "    .dataframe tbody tr th {\n",
       "        vertical-align: top;\n",
       "    }\n",
       "\n",
       "    .dataframe thead th {\n",
       "        text-align: right;\n",
       "    }\n",
       "</style>\n",
       "<table border=\"1\" class=\"dataframe\">\n",
       "  <thead>\n",
       "    <tr style=\"text-align: right;\">\n",
       "      <th></th>\n",
       "      <th>Murder</th>\n",
       "      <th>Assault</th>\n",
       "      <th>UrbanPop</th>\n",
       "      <th>Rape</th>\n",
       "    </tr>\n",
       "  </thead>\n",
       "  <tbody>\n",
       "    <tr>\n",
       "      <th>Murder</th>\n",
       "      <td>1.000000</td>\n",
       "      <td>0.817274</td>\n",
       "      <td>0.106716</td>\n",
       "      <td>0.679427</td>\n",
       "    </tr>\n",
       "    <tr>\n",
       "      <th>Assault</th>\n",
       "      <td>0.817274</td>\n",
       "      <td>1.000000</td>\n",
       "      <td>0.275213</td>\n",
       "      <td>0.714368</td>\n",
       "    </tr>\n",
       "    <tr>\n",
       "      <th>UrbanPop</th>\n",
       "      <td>0.106716</td>\n",
       "      <td>0.275213</td>\n",
       "      <td>1.000000</td>\n",
       "      <td>0.438107</td>\n",
       "    </tr>\n",
       "    <tr>\n",
       "      <th>Rape</th>\n",
       "      <td>0.679427</td>\n",
       "      <td>0.714368</td>\n",
       "      <td>0.438107</td>\n",
       "      <td>1.000000</td>\n",
       "    </tr>\n",
       "  </tbody>\n",
       "</table>\n",
       "</div>"
      ],
      "text/plain": [
       "            Murder   Assault  UrbanPop      Rape\n",
       "Murder    1.000000  0.817274  0.106716  0.679427\n",
       "Assault   0.817274  1.000000  0.275213  0.714368\n",
       "UrbanPop  0.106716  0.275213  1.000000  0.438107\n",
       "Rape      0.679427  0.714368  0.438107  1.000000"
      ]
     },
     "execution_count": 13,
     "metadata": {},
     "output_type": "execute_result"
    }
   ],
   "source": [
    "#Checking CoRelation  using Spearman Rank \n",
    "df.corr(method ='spearman')"
   ]
  },
  {
   "cell_type": "code",
   "execution_count": 14,
   "id": "ecd0f483",
   "metadata": {},
   "outputs": [
    {
     "data": {
      "text/plain": [
       "Murder      0.0\n",
       "Assault     0.0\n",
       "UrbanPop    0.0\n",
       "Rape        0.0\n",
       "dtype: float64"
      ]
     },
     "execution_count": 14,
     "metadata": {},
     "output_type": "execute_result"
    }
   ],
   "source": [
    "df[df.corr()>80].sum() # No correation Found"
   ]
  },
  {
   "cell_type": "code",
   "execution_count": 15,
   "id": "0c395f76",
   "metadata": {},
   "outputs": [
    {
     "data": {
      "text/plain": [
       "<AxesSubplot:>"
      ]
     },
     "execution_count": 15,
     "metadata": {},
     "output_type": "execute_result"
    },
    {
     "data": {
      "image/png": "[encoded data removed]",
      "text/plain": [
       "<Figure size 432x288 with 1 Axes>"
      ]
     },
     "metadata": {
      "needs_background": "light"
     },
     "output_type": "display_data"
    }
   ],
   "source": [
    "df.boxplot()"
   ]
  },
  {
   "cell_type": "code",
   "execution_count": 22,
   "id": "adaf4d0f",
   "metadata": {},
   "outputs": [
    {
     "data": {
      "text/plain": [
       "array([[ 1.25517927,  0.79078716, -0.52619514, -0.00345116],\n",
       "       [ 0.51301858,  1.11805959, -1.22406668,  2.50942392],\n",
       "       [ 0.07236067,  1.49381682,  1.00912225,  1.05346626],\n",
       "       [ 0.23470832,  0.23321191, -1.08449238, -0.18679398],\n",
       "       [ 0.28109336,  1.2756352 ,  1.77678094,  2.08881393],\n",
       "       [ 0.02597562,  0.40290872,  0.86954794,  1.88390137],\n",
       "       [-1.04088037, -0.73648418,  0.79976079, -1.09272319],\n",
       "       [-0.43787481,  0.81502956,  0.45082502, -0.58583422],\n",
       "       [ 1.76541475,  1.99078607,  1.00912225,  1.1505301 ],\n",
       "       [ 2.22926518,  0.48775713, -0.38662083,  0.49265293],\n",
       "       [-0.57702994, -1.51224105,  1.21848371, -0.11129987],\n",
       "       [-1.20322802, -0.61527217, -0.80534376, -0.75839217],\n",
       "       [ 0.60578867,  0.94836277,  1.21848371,  0.29852525],\n",
       "       [-0.13637203, -0.70012057, -0.03768506, -0.0250209 ],\n",
       "       [-1.29599811, -1.39102904, -0.5959823 , -1.07115345],\n",
       "       [-0.41468229, -0.67587817,  0.03210209, -0.34856705],\n",
       "       [ 0.44344101, -0.74860538, -0.94491807, -0.53190987],\n",
       "       [ 1.76541475,  0.94836277,  0.03210209,  0.10439756],\n",
       "       [-1.31919063, -1.06375661, -1.01470522, -1.44862395],\n",
       "       [ 0.81452136,  1.56654403,  0.10188925,  0.70835037],\n",
       "       [-0.78576263, -0.26375734,  1.35805802, -0.53190987],\n",
       "       [ 1.00006153,  1.02108998,  0.59039932,  1.49564599],\n",
       "       [-1.1800355 , -1.19708982,  0.03210209, -0.68289807],\n",
       "       [ 1.9277624 ,  1.06957478, -1.5032153 , -0.44563089],\n",
       "       [ 0.28109336,  0.0877575 ,  0.31125071,  0.75148985],\n",
       "       [-0.41468229, -0.74860538, -0.87513091, -0.521125  ],\n",
       "       [-0.80895515, -0.83345379, -0.24704653, -0.51034012],\n",
       "       [ 1.02325405,  0.98472638,  1.0789094 ,  2.671197  ],\n",
       "       [-1.31919063, -1.37890783, -0.66576945, -1.26528114],\n",
       "       [-0.08998698, -0.14254532,  1.63720664, -0.26228808],\n",
       "       [ 0.83771388,  1.38472601,  0.31125071,  1.17209984],\n",
       "       [ 0.76813632,  1.00896878,  1.42784517,  0.52500755],\n",
       "       [ 1.20879423,  2.01502847, -1.43342815, -0.55347961],\n",
       "       [-1.62069341, -1.52436225, -1.5032153 , -1.50254831],\n",
       "       [-0.11317951, -0.61527217,  0.66018648,  0.01811858],\n",
       "       [-0.27552716, -0.23951493,  0.1716764 , -0.13286962],\n",
       "       [-0.66980002, -0.14254532,  0.10188925,  0.87012344],\n",
       "       [-0.34510472, -0.78496898,  0.45082502, -0.68289807],\n",
       "       [-1.01768785,  0.03927269,  1.49763233, -1.39469959],\n",
       "       [ 1.53348953,  1.3119988 , -1.22406668,  0.13675217],\n",
       "       [-0.92491776, -1.027393  , -1.43342815, -0.90938037],\n",
       "       [ 1.25517927,  0.20896951, -0.45640799,  0.61128652],\n",
       "       [ 1.13921666,  0.36654512,  1.00912225,  0.46029832],\n",
       "       [-1.06407289, -0.61527217,  1.00912225,  0.17989166],\n",
       "       [-1.29599811, -1.48799864, -2.34066115, -1.08193832],\n",
       "       [ 0.16513075, -0.17890893, -0.17725937, -0.05737552],\n",
       "       [-0.87853272, -0.31224214,  0.52061217,  0.53579242],\n",
       "       [-0.48425985, -1.08799901, -1.85215107, -1.28685088],\n",
       "       [-1.20322802, -1.42739264,  0.03210209, -1.1250778 ],\n",
       "       [-0.22914211, -0.11830292, -0.38662083, -0.60740397]])"
      ]
     },
     "execution_count": 22,
     "metadata": {},
     "output_type": "execute_result"
    }
   ],
   "source": [
    "from sklearn.preprocessing import StandardScaler\n",
    "sc= StandardScaler()\n",
    "aggscaled=sc.fit_transform(df)\n",
    "aggscaled"
   ]
  },
  {
   "cell_type": "code",
   "execution_count": 23,
   "id": "b07ccc0f",
   "metadata": {},
   "outputs": [
    {
     "data": {
      "image/png": "[encoded data removed]",
      "text/plain": [
       "<Figure size 432x288 with 1 Axes>"
      ]
     },
     "metadata": {
      "needs_background": "light"
     },
     "output_type": "display_data"
    }
   ],
   "source": [
    "import scipy.cluster.hierarchy as sch\n",
    "from sklearn.cluster import AgglomerativeClustering\n",
    "\n",
    "# create dendrogram\n",
    "dendrogram = sch.dendrogram(sch.linkage(aggscaled, method='single'))"
   ]
  },
  {
   "cell_type": "code",
   "execution_count": 31,
   "id": "6a49df61",
   "metadata": {},
   "outputs": [],
   "source": [
    "# create clusters\n",
    "hc = AgglomerativeClustering(n_clusters=5, affinity = 'euclidean', linkage = 'single')"
   ]
  },
  {
   "cell_type": "code",
   "execution_count": 32,
   "id": "fd19cb29",
   "metadata": {},
   "outputs": [
    {
     "data": {
      "text/plain": [
       "array([4, 3, 0, 0, 1, 0, 0, 0, 2, 4, 0, 0, 0, 0, 0, 0, 0, 4, 0, 0, 0, 0,\n",
       "       0, 4, 0, 0, 0, 1, 0, 0, 0, 0, 4, 0, 0, 0, 0, 0, 0, 4, 0, 4, 0, 0,\n",
       "       0, 0, 0, 0, 0, 0], dtype=int64)"
      ]
     },
     "execution_count": 32,
     "metadata": {},
     "output_type": "execute_result"
    }
   ],
   "source": [
    "# save clusters for chart\n",
    "y_hc = hc.fit_predict(aggscaled)\n",
    "y_hc"
   ]
  },
  {
   "cell_type": "code",
   "execution_count": 35,
   "id": "3a319438",
   "metadata": {},
   "outputs": [
    {
     "data": {
      "text/plain": [
       "0.21127138005172738"
      ]
     },
     "execution_count": 35,
     "metadata": {},
     "output_type": "execute_result"
    }
   ],
   "source": [
    "from sklearn.metrics import silhouette_score\n",
    "silhouette_score(aggscaled,y_hc)"
   ]
  },
  {
   "cell_type": "code",
   "execution_count": 60,
   "id": "fc84a05f",
   "metadata": {},
   "outputs": [
    {
     "data": {
      "text/plain": [
       "0.23455598753159795"
      ]
     },
     "execution_count": 60,
     "metadata": {},
     "output_type": "execute_result"
    }
   ],
   "source": [
    "# create clusters with 2\n",
    "hc = AgglomerativeClustering(n_clusters=2, affinity = 'euclidean', linkage = 'single')\n",
    "\n",
    "# save clusters for chart\n",
    "y_hc = hc.fit_predict(aggscaled)\n",
    "y_hc\n",
    "\n",
    "silhouette_score(aggscaled,y_hc)"
   ]
  },
  {
   "cell_type": "markdown",
   "id": "53adb73f",
   "metadata": {},
   "source": [
    "## Kmeans Clustering"
   ]
  },
  {
   "cell_type": "code",
   "execution_count": 61,
   "id": "812f0afe",
   "metadata": {},
   "outputs": [
    {
     "data": {
      "text/html": [
       "<div>\n",
       "<style scoped>\n",
       "    .dataframe tbody tr th:only-of-type {\n",
       "        vertical-align: middle;\n",
       "    }\n",
       "\n",
       "    .dataframe tbody tr th {\n",
       "        vertical-align: top;\n",
       "    }\n",
       "\n",
       "    .dataframe thead th {\n",
       "        text-align: right;\n",
       "    }\n",
       "</style>\n",
       "<table border=\"1\" class=\"dataframe\">\n",
       "  <thead>\n",
       "    <tr style=\"text-align: right;\">\n",
       "      <th></th>\n",
       "      <th>Murder</th>\n",
       "      <th>Assault</th>\n",
       "      <th>UrbanPop</th>\n",
       "      <th>Rape</th>\n",
       "    </tr>\n",
       "  </thead>\n",
       "  <tbody>\n",
       "    <tr>\n",
       "      <th>0</th>\n",
       "      <td>13.2</td>\n",
       "      <td>236</td>\n",
       "      <td>58</td>\n",
       "      <td>21.2</td>\n",
       "    </tr>\n",
       "    <tr>\n",
       "      <th>1</th>\n",
       "      <td>10.0</td>\n",
       "      <td>263</td>\n",
       "      <td>48</td>\n",
       "      <td>44.5</td>\n",
       "    </tr>\n",
       "    <tr>\n",
       "      <th>2</th>\n",
       "      <td>8.1</td>\n",
       "      <td>294</td>\n",
       "      <td>80</td>\n",
       "      <td>31.0</td>\n",
       "    </tr>\n",
       "    <tr>\n",
       "      <th>3</th>\n",
       "      <td>8.8</td>\n",
       "      <td>190</td>\n",
       "      <td>50</td>\n",
       "      <td>19.5</td>\n",
       "    </tr>\n",
       "    <tr>\n",
       "      <th>4</th>\n",
       "      <td>9.0</td>\n",
       "      <td>276</td>\n",
       "      <td>91</td>\n",
       "      <td>40.6</td>\n",
       "    </tr>\n",
       "  </tbody>\n",
       "</table>\n",
       "</div>"
      ],
      "text/plain": [
       "   Murder  Assault  UrbanPop  Rape\n",
       "0    13.2      236        58  21.2\n",
       "1    10.0      263        48  44.5\n",
       "2     8.1      294        80  31.0\n",
       "3     8.8      190        50  19.5\n",
       "4     9.0      276        91  40.6"
      ]
     },
     "execution_count": 61,
     "metadata": {},
     "output_type": "execute_result"
    }
   ],
   "source": [
    "df.head()"
   ]
  },
  {
   "cell_type": "code",
   "execution_count": 65,
   "id": "5b890fbd",
   "metadata": {},
   "outputs": [
    {
     "data": {
      "text/plain": [
       "array([[ 1.25517927,  0.79078716, -0.52619514, -0.00345116],\n",
       "       [ 0.51301858,  1.11805959, -1.22406668,  2.50942392],\n",
       "       [ 0.07236067,  1.49381682,  1.00912225,  1.05346626],\n",
       "       [ 0.23470832,  0.23321191, -1.08449238, -0.18679398],\n",
       "       [ 0.28109336,  1.2756352 ,  1.77678094,  2.08881393],\n",
       "       [ 0.02597562,  0.40290872,  0.86954794,  1.88390137],\n",
       "       [-1.04088037, -0.73648418,  0.79976079, -1.09272319],\n",
       "       [-0.43787481,  0.81502956,  0.45082502, -0.58583422],\n",
       "       [ 1.76541475,  1.99078607,  1.00912225,  1.1505301 ],\n",
       "       [ 2.22926518,  0.48775713, -0.38662083,  0.49265293],\n",
       "       [-0.57702994, -1.51224105,  1.21848371, -0.11129987],\n",
       "       [-1.20322802, -0.61527217, -0.80534376, -0.75839217],\n",
       "       [ 0.60578867,  0.94836277,  1.21848371,  0.29852525],\n",
       "       [-0.13637203, -0.70012057, -0.03768506, -0.0250209 ],\n",
       "       [-1.29599811, -1.39102904, -0.5959823 , -1.07115345],\n",
       "       [-0.41468229, -0.67587817,  0.03210209, -0.34856705],\n",
       "       [ 0.44344101, -0.74860538, -0.94491807, -0.53190987],\n",
       "       [ 1.76541475,  0.94836277,  0.03210209,  0.10439756],\n",
       "       [-1.31919063, -1.06375661, -1.01470522, -1.44862395],\n",
       "       [ 0.81452136,  1.56654403,  0.10188925,  0.70835037],\n",
       "       [-0.78576263, -0.26375734,  1.35805802, -0.53190987],\n",
       "       [ 1.00006153,  1.02108998,  0.59039932,  1.49564599],\n",
       "       [-1.1800355 , -1.19708982,  0.03210209, -0.68289807],\n",
       "       [ 1.9277624 ,  1.06957478, -1.5032153 , -0.44563089],\n",
       "       [ 0.28109336,  0.0877575 ,  0.31125071,  0.75148985],\n",
       "       [-0.41468229, -0.74860538, -0.87513091, -0.521125  ],\n",
       "       [-0.80895515, -0.83345379, -0.24704653, -0.51034012],\n",
       "       [ 1.02325405,  0.98472638,  1.0789094 ,  2.671197  ],\n",
       "       [-1.31919063, -1.37890783, -0.66576945, -1.26528114],\n",
       "       [-0.08998698, -0.14254532,  1.63720664, -0.26228808],\n",
       "       [ 0.83771388,  1.38472601,  0.31125071,  1.17209984],\n",
       "       [ 0.76813632,  1.00896878,  1.42784517,  0.52500755],\n",
       "       [ 1.20879423,  2.01502847, -1.43342815, -0.55347961],\n",
       "       [-1.62069341, -1.52436225, -1.5032153 , -1.50254831],\n",
       "       [-0.11317951, -0.61527217,  0.66018648,  0.01811858],\n",
       "       [-0.27552716, -0.23951493,  0.1716764 , -0.13286962],\n",
       "       [-0.66980002, -0.14254532,  0.10188925,  0.87012344],\n",
       "       [-0.34510472, -0.78496898,  0.45082502, -0.68289807],\n",
       "       [-1.01768785,  0.03927269,  1.49763233, -1.39469959],\n",
       "       [ 1.53348953,  1.3119988 , -1.22406668,  0.13675217],\n",
       "       [-0.92491776, -1.027393  , -1.43342815, -0.90938037],\n",
       "       [ 1.25517927,  0.20896951, -0.45640799,  0.61128652],\n",
       "       [ 1.13921666,  0.36654512,  1.00912225,  0.46029832],\n",
       "       [-1.06407289, -0.61527217,  1.00912225,  0.17989166],\n",
       "       [-1.29599811, -1.48799864, -2.34066115, -1.08193832],\n",
       "       [ 0.16513075, -0.17890893, -0.17725937, -0.05737552],\n",
       "       [-0.87853272, -0.31224214,  0.52061217,  0.53579242],\n",
       "       [-0.48425985, -1.08799901, -1.85215107, -1.28685088],\n",
       "       [-1.20322802, -1.42739264,  0.03210209, -1.1250778 ],\n",
       "       [-0.22914211, -0.11830292, -0.38662083, -0.60740397]])"
      ]
     },
     "execution_count": 65,
     "metadata": {},
     "output_type": "execute_result"
    }
   ],
   "source": [
    "from sklearn.cluster import KMeans\n",
    "from sklearn.preprocessing import StandardScaler\n",
    "sc= StandardScaler()\n",
    "kmeans_scaled=sc.fit_transform(df)\n",
    "kmeans_scaled"
   ]
  },
  {
   "cell_type": "code",
   "execution_count": 68,
   "id": "c791940b",
   "metadata": {},
   "outputs": [
    {
     "data": {
      "image/png": "[encoded data removed]",
      "text/plain": [
       "<Figure size 432x288 with 1 Axes>"
      ]
     },
     "metadata": {
      "needs_background": "light"
     },
     "output_type": "display_data"
    }
   ],
   "source": [
    "# Finding optimum K value\n",
    "wcss = []\n",
    "for i in range(1, 25):\n",
    "    kmeans = KMeans(n_clusters=i,random_state=0)\n",
    "    kmeans.fit(kmeans_scaled)\n",
    "    wcss.append(kmeans.inertia_)\n",
    "    \n",
    "plt.plot(range(1, 25), wcss)\n",
    "plt.title('Elbow Method')\n",
    "plt.xlabel('Number of clusters')\n",
    "plt.ylabel('WCSS')\n",
    "plt.show()"
   ]
  },
  {
   "cell_type": "code",
   "execution_count": 70,
   "id": "2250a6ba",
   "metadata": {},
   "outputs": [
    {
     "data": {
      "text/plain": [
       "KMeans(n_clusters=11, random_state=42)"
      ]
     },
     "execution_count": 70,
     "metadata": {},
     "output_type": "execute_result"
    }
   ],
   "source": [
    "#Build Cluster algorithm\n",
    "\n",
    "kmeans_cluster = KMeans(11, random_state=42)\n",
    "kmeans_cluster.fit(kmeans_scaled)"
   ]
  },
  {
   "cell_type": "code",
   "execution_count": 72,
   "id": "aaac9846",
   "metadata": {},
   "outputs": [
    {
     "data": {
      "text/plain": [
       "array([ 4,  6,  1,  0,  2,  2, 10,  0,  1,  4, 10,  3,  9,  0,  3,  0,  0,\n",
       "        4,  3,  1,  7,  1, 10,  5,  8,  0,  0,  2,  3,  7,  1,  9,  5,  3,\n",
       "        8,  0,  8, 10,  7,  5,  3,  4,  9,  7,  3,  0,  8,  3, 10,  0])"
      ]
     },
     "execution_count": 72,
     "metadata": {},
     "output_type": "execute_result"
    }
   ],
   "source": [
    "kmeans_cluster.labels_"
   ]
  },
  {
   "cell_type": "code",
   "execution_count": 73,
   "id": "2a544533",
   "metadata": {},
   "outputs": [],
   "source": [
    "# Adding Kmeans prdicted labels to original dataframe\n",
    "\n",
    "\n",
    "df[\"Kmeans_labels\"] =kmeans_cluster.labels_"
   ]
  },
  {
   "cell_type": "code",
   "execution_count": 74,
   "id": "9f322332",
   "metadata": {},
   "outputs": [
    {
     "data": {
      "text/html": [
       "<div>\n",
       "<style scoped>\n",
       "    .dataframe tbody tr th:only-of-type {\n",
       "        vertical-align: middle;\n",
       "    }\n",
       "\n",
       "    .dataframe tbody tr th {\n",
       "        vertical-align: top;\n",
       "    }\n",
       "\n",
       "    .dataframe thead th {\n",
       "        text-align: right;\n",
       "    }\n",
       "</style>\n",
       "<table border=\"1\" class=\"dataframe\">\n",
       "  <thead>\n",
       "    <tr style=\"text-align: right;\">\n",
       "      <th></th>\n",
       "      <th>Murder</th>\n",
       "      <th>Assault</th>\n",
       "      <th>UrbanPop</th>\n",
       "      <th>Rape</th>\n",
       "      <th>Kmeans_labels</th>\n",
       "    </tr>\n",
       "  </thead>\n",
       "  <tbody>\n",
       "    <tr>\n",
       "      <th>0</th>\n",
       "      <td>13.2</td>\n",
       "      <td>236</td>\n",
       "      <td>58</td>\n",
       "      <td>21.2</td>\n",
       "      <td>4</td>\n",
       "    </tr>\n",
       "    <tr>\n",
       "      <th>1</th>\n",
       "      <td>10.0</td>\n",
       "      <td>263</td>\n",
       "      <td>48</td>\n",
       "      <td>44.5</td>\n",
       "      <td>6</td>\n",
       "    </tr>\n",
       "    <tr>\n",
       "      <th>2</th>\n",
       "      <td>8.1</td>\n",
       "      <td>294</td>\n",
       "      <td>80</td>\n",
       "      <td>31.0</td>\n",
       "      <td>1</td>\n",
       "    </tr>\n",
       "    <tr>\n",
       "      <th>3</th>\n",
       "      <td>8.8</td>\n",
       "      <td>190</td>\n",
       "      <td>50</td>\n",
       "      <td>19.5</td>\n",
       "      <td>0</td>\n",
       "    </tr>\n",
       "    <tr>\n",
       "      <th>4</th>\n",
       "      <td>9.0</td>\n",
       "      <td>276</td>\n",
       "      <td>91</td>\n",
       "      <td>40.6</td>\n",
       "      <td>2</td>\n",
       "    </tr>\n",
       "  </tbody>\n",
       "</table>\n",
       "</div>"
      ],
      "text/plain": [
       "   Murder  Assault  UrbanPop  Rape  Kmeans_labels\n",
       "0    13.2      236        58  21.2              4\n",
       "1    10.0      263        48  44.5              6\n",
       "2     8.1      294        80  31.0              1\n",
       "3     8.8      190        50  19.5              0\n",
       "4     9.0      276        91  40.6              2"
      ]
     },
     "execution_count": 74,
     "metadata": {},
     "output_type": "execute_result"
    }
   ],
   "source": [
    "df.head()"
   ]
  },
  {
   "cell_type": "code",
   "execution_count": 76,
   "id": "195ce42f",
   "metadata": {},
   "outputs": [
    {
     "data": {
      "text/plain": [
       "0.26493570475748723"
      ]
     },
     "execution_count": 76,
     "metadata": {},
     "output_type": "execute_result"
    }
   ],
   "source": [
    "silhouette_score(kmeans_scaled,kmeans_cluster.labels_)"
   ]
  },
  {
   "cell_type": "code",
   "execution_count": null,
   "id": "12e88051",
   "metadata": {},
   "outputs": [],
   "source": [
    "kmeans()"
   ]
  },
  {
   "cell_type": "code",
   "execution_count": 78,
   "id": "1461645f",
   "metadata": {},
   "outputs": [
    {
     "data": {
      "text/plain": [
       "GridSearchCV(cv=5, estimator=KMeans(n_clusters=24, random_state=0),\n",
       "             param_grid={'n_clusters': [1, 2, 3, 4, 5, 9, 6, 7, 8, 9, 10, 11,\n",
       "                                        12, 13, 14, 15]},\n",
       "             scoring='accuracy')"
      ]
     },
     "execution_count": 78,
     "metadata": {},
     "output_type": "execute_result"
    }
   ],
   "source": [
    "from sklearn.model_selection import GridSearchCV\n",
    "\n",
    "params={'n_clusters':[1,2,3,4,5,9,6,7,8,9,10,11,12,13,14,15]\n",
    "         }\n",
    "\n",
    "grid=GridSearchCV(kmeans,param_grid=params,cv=5,scoring='accuracy')\n",
    "grid.fit(kmeans_scaled)"
   ]
  },
  {
   "cell_type": "code",
   "execution_count": 79,
   "id": "e78f2bf8",
   "metadata": {},
   "outputs": [
    {
     "data": {
      "text/plain": [
       "{'n_clusters': 1}"
      ]
     },
     "execution_count": 79,
     "metadata": {},
     "output_type": "execute_result"
    }
   ],
   "source": [
    "grid.best_params_"
   ]
  },
  {
   "cell_type": "code",
   "execution_count": 113,
   "id": "43fb2f6c",
   "metadata": {},
   "outputs": [
    {
     "ename": "SyntaxError",
     "evalue": "unexpected EOF while parsing (1549115660.py, line 4)",
     "output_type": "error",
     "traceback": [
      "\u001b[1;36m  Input \u001b[1;32mIn [113]\u001b[1;36m\u001b[0m\n\u001b[1;33m    print(\"silhouette_score With 2 Clusters:-\",silhouette_score(kmeans_scaled,kmeans_cluster.labels_)\u001b[0m\n\u001b[1;37m                                                                                                     ^\u001b[0m\n\u001b[1;31mSyntaxError\u001b[0m\u001b[1;31m:\u001b[0m unexpected EOF while parsing\n"
     ]
    }
   ],
   "source": [
    "kmeans_cluster = KMeans(2, random_state=42)\n",
    "kmeans_cluster.fit(kmeans_scaled)\n",
    "kmeans_cluster.labels_\n",
    "print(\"silhouette_score With 2 Clusters:-\",silhouette_score(kmeans_scaled,kmeans_cluster.labels_)"
   ]
  },
  {
   "cell_type": "markdown",
   "id": "c529c4b9",
   "metadata": {},
   "source": [
    "## DBscan"
   ]
  },
  {
   "cell_type": "code",
   "execution_count": 114,
   "id": "b21cdb96",
   "metadata": {},
   "outputs": [
    {
     "data": {
      "text/html": [
       "<div>\n",
       "<style scoped>\n",
       "    .dataframe tbody tr th:only-of-type {\n",
       "        vertical-align: middle;\n",
       "    }\n",
       "\n",
       "    .dataframe tbody tr th {\n",
       "        vertical-align: top;\n",
       "    }\n",
       "\n",
       "    .dataframe thead th {\n",
       "        text-align: right;\n",
       "    }\n",
       "</style>\n",
       "<table border=\"1\" class=\"dataframe\">\n",
       "  <thead>\n",
       "    <tr style=\"text-align: right;\">\n",
       "      <th></th>\n",
       "      <th>Murder</th>\n",
       "      <th>Assault</th>\n",
       "      <th>UrbanPop</th>\n",
       "      <th>Rape</th>\n",
       "      <th>Kmeans_labels</th>\n",
       "    </tr>\n",
       "  </thead>\n",
       "  <tbody>\n",
       "    <tr>\n",
       "      <th>0</th>\n",
       "      <td>13.2</td>\n",
       "      <td>236</td>\n",
       "      <td>58</td>\n",
       "      <td>21.2</td>\n",
       "      <td>4</td>\n",
       "    </tr>\n",
       "    <tr>\n",
       "      <th>1</th>\n",
       "      <td>10.0</td>\n",
       "      <td>263</td>\n",
       "      <td>48</td>\n",
       "      <td>44.5</td>\n",
       "      <td>6</td>\n",
       "    </tr>\n",
       "    <tr>\n",
       "      <th>2</th>\n",
       "      <td>8.1</td>\n",
       "      <td>294</td>\n",
       "      <td>80</td>\n",
       "      <td>31.0</td>\n",
       "      <td>1</td>\n",
       "    </tr>\n",
       "    <tr>\n",
       "      <th>3</th>\n",
       "      <td>8.8</td>\n",
       "      <td>190</td>\n",
       "      <td>50</td>\n",
       "      <td>19.5</td>\n",
       "      <td>0</td>\n",
       "    </tr>\n",
       "    <tr>\n",
       "      <th>4</th>\n",
       "      <td>9.0</td>\n",
       "      <td>276</td>\n",
       "      <td>91</td>\n",
       "      <td>40.6</td>\n",
       "      <td>2</td>\n",
       "    </tr>\n",
       "  </tbody>\n",
       "</table>\n",
       "</div>"
      ],
      "text/plain": [
       "   Murder  Assault  UrbanPop  Rape  Kmeans_labels\n",
       "0    13.2      236        58  21.2              4\n",
       "1    10.0      263        48  44.5              6\n",
       "2     8.1      294        80  31.0              1\n",
       "3     8.8      190        50  19.5              0\n",
       "4     9.0      276        91  40.6              2"
      ]
     },
     "execution_count": 114,
     "metadata": {},
     "output_type": "execute_result"
    }
   ],
   "source": [
    "df.head()"
   ]
  },
  {
   "cell_type": "code",
   "execution_count": 116,
   "id": "3de60404",
   "metadata": {},
   "outputs": [
    {
     "data": {
      "text/plain": [
       "array([[ 1.25517927,  0.79078716, -0.52619514, -0.00345116, -0.0526064 ],\n",
       "       [ 0.51301858,  1.11805959, -1.22406668,  2.50942392,  0.53190914],\n",
       "       [ 0.07236067,  1.49381682,  1.00912225,  1.05346626, -0.9293797 ],\n",
       "       [ 0.23470832,  0.23321191, -1.08449238, -0.18679398, -1.22163747],\n",
       "       [ 0.28109336,  1.2756352 ,  1.77678094,  2.08881393, -0.63712193],\n",
       "       [ 0.02597562,  0.40290872,  0.86954794,  1.88390137, -0.63712193],\n",
       "       [-1.04088037, -0.73648418,  0.79976079, -1.09272319,  1.70094021],\n",
       "       [-0.43787481,  0.81502956,  0.45082502, -0.58583422, -1.22163747],\n",
       "       [ 1.76541475,  1.99078607,  1.00912225,  1.1505301 , -0.9293797 ],\n",
       "       [ 2.22926518,  0.48775713, -0.38662083,  0.49265293, -0.0526064 ],\n",
       "       [-0.57702994, -1.51224105,  1.21848371, -0.11129987,  1.70094021],\n",
       "       [-1.20322802, -0.61527217, -0.80534376, -0.75839217, -0.34486417],\n",
       "       [ 0.60578867,  0.94836277,  1.21848371,  0.29852525,  1.40868244],\n",
       "       [-0.13637203, -0.70012057, -0.03768506, -0.0250209 , -1.22163747],\n",
       "       [-1.29599811, -1.39102904, -0.5959823 , -1.07115345, -0.34486417],\n",
       "       [-0.41468229, -0.67587817,  0.03210209, -0.34856705, -1.22163747],\n",
       "       [ 0.44344101, -0.74860538, -0.94491807, -0.53190987, -1.22163747],\n",
       "       [ 1.76541475,  0.94836277,  0.03210209,  0.10439756, -0.0526064 ],\n",
       "       [-1.31919063, -1.06375661, -1.01470522, -1.44862395, -0.34486417],\n",
       "       [ 0.81452136,  1.56654403,  0.10188925,  0.70835037, -0.9293797 ],\n",
       "       [-0.78576263, -0.26375734,  1.35805802, -0.53190987,  0.8241669 ],\n",
       "       [ 1.00006153,  1.02108998,  0.59039932,  1.49564599, -0.9293797 ],\n",
       "       [-1.1800355 , -1.19708982,  0.03210209, -0.68289807,  1.70094021],\n",
       "       [ 1.9277624 ,  1.06957478, -1.5032153 , -0.44563089,  0.23965137],\n",
       "       [ 0.28109336,  0.0877575 ,  0.31125071,  0.75148985,  1.11642467],\n",
       "       [-0.41468229, -0.74860538, -0.87513091, -0.521125  , -1.22163747],\n",
       "       [-0.80895515, -0.83345379, -0.24704653, -0.51034012, -1.22163747],\n",
       "       [ 1.02325405,  0.98472638,  1.0789094 ,  2.671197  , -0.63712193],\n",
       "       [-1.31919063, -1.37890783, -0.66576945, -1.26528114, -0.34486417],\n",
       "       [-0.08998698, -0.14254532,  1.63720664, -0.26228808,  0.8241669 ],\n",
       "       [ 0.83771388,  1.38472601,  0.31125071,  1.17209984, -0.9293797 ],\n",
       "       [ 0.76813632,  1.00896878,  1.42784517,  0.52500755,  1.40868244],\n",
       "       [ 1.20879423,  2.01502847, -1.43342815, -0.55347961,  0.23965137],\n",
       "       [-1.62069341, -1.52436225, -1.5032153 , -1.50254831, -0.34486417],\n",
       "       [-0.11317951, -0.61527217,  0.66018648,  0.01811858,  1.11642467],\n",
       "       [-0.27552716, -0.23951493,  0.1716764 , -0.13286962, -1.22163747],\n",
       "       [-0.66980002, -0.14254532,  0.10188925,  0.87012344,  1.11642467],\n",
       "       [-0.34510472, -0.78496898,  0.45082502, -0.68289807,  1.70094021],\n",
       "       [-1.01768785,  0.03927269,  1.49763233, -1.39469959,  0.8241669 ],\n",
       "       [ 1.53348953,  1.3119988 , -1.22406668,  0.13675217,  0.23965137],\n",
       "       [-0.92491776, -1.027393  , -1.43342815, -0.90938037, -0.34486417],\n",
       "       [ 1.25517927,  0.20896951, -0.45640799,  0.61128652, -0.0526064 ],\n",
       "       [ 1.13921666,  0.36654512,  1.00912225,  0.46029832,  1.40868244],\n",
       "       [-1.06407289, -0.61527217,  1.00912225,  0.17989166,  0.8241669 ],\n",
       "       [-1.29599811, -1.48799864, -2.34066115, -1.08193832, -0.34486417],\n",
       "       [ 0.16513075, -0.17890893, -0.17725937, -0.05737552, -1.22163747],\n",
       "       [-0.87853272, -0.31224214,  0.52061217,  0.53579242,  1.11642467],\n",
       "       [-0.48425985, -1.08799901, -1.85215107, -1.28685088, -0.34486417],\n",
       "       [-1.20322802, -1.42739264,  0.03210209, -1.1250778 ,  1.70094021],\n",
       "       [-0.22914211, -0.11830292, -0.38662083, -0.60740397, -1.22163747]])"
      ]
     },
     "execution_count": 116,
     "metadata": {},
     "output_type": "execute_result"
    }
   ],
   "source": [
    "from sklearn.cluster import DBSCAN\n",
    "\n",
    "from sklearn.preprocessing import StandardScaler\n",
    "sc= StandardScaler()\n",
    "dbscan_scaled=sc.fit_transform(df)\n",
    "dbscan_scaled"
   ]
  },
  {
   "cell_type": "code",
   "execution_count": 117,
   "id": "4ac33f58",
   "metadata": {},
   "outputs": [
    {
     "data": {
      "text/plain": [
       "array([-1, -1, -1, -1, -1, -1, -1, -1, -1, -1, -1, -1, -1, -1, -1, -1, -1,\n",
       "       -1, -1, -1, -1, -1, -1, -1, -1, -1, -1, -1, -1, -1, -1, -1, -1, -1,\n",
       "       -1, -1, -1, -1, -1, -1, -1, -1, -1, -1, -1, -1, -1, -1, -1, -1],\n",
       "      dtype=int64)"
      ]
     },
     "execution_count": 117,
     "metadata": {},
     "output_type": "execute_result"
    }
   ],
   "source": [
    "db=DBSCAN()\n",
    "db.fit_predict(dbscan_scaled)"
   ]
  },
  {
   "cell_type": "code",
   "execution_count": 118,
   "id": "e28e9512",
   "metadata": {},
   "outputs": [
    {
     "data": {
      "text/plain": [
       "GridSearchCV(cv=5, estimator=DBSCAN(),\n",
       "             param_grid={'eps': [1, 2, 3, 4, 5, 6, 7, 8, 9, 10],\n",
       "                         'min_samples': [1, 2, 3, 4, 5, 6, 7, 8, 9, 10]},\n",
       "             scoring='accuracy')"
      ]
     },
     "execution_count": 118,
     "metadata": {},
     "output_type": "execute_result"
    }
   ],
   "source": [
    "from sklearn.model_selection import GridSearchCV\n",
    "\n",
    "params={'eps':[1,2,3,4,5,6,7,8,9,10],\n",
    "         'min_samples': [1,2,3,4,5,6,7,8,9,10]\n",
    "     }\n",
    "\n",
    "grid=GridSearchCV(DBSCAN(),param_grid=params,cv=5,scoring='accuracy')\n",
    "grid.fit(dbscan_scaled)"
   ]
  },
  {
   "cell_type": "code",
   "execution_count": 119,
   "id": "d322ce1b",
   "metadata": {},
   "outputs": [
    {
     "data": {
      "text/plain": [
       "{'eps': 1, 'min_samples': 1}"
      ]
     },
     "execution_count": 119,
     "metadata": {},
     "output_type": "execute_result"
    }
   ],
   "source": [
    "grid.best_params_"
   ]
  },
  {
   "cell_type": "code",
   "execution_count": 121,
   "id": "9f31cb99",
   "metadata": {},
   "outputs": [
    {
     "data": {
      "text/plain": [
       "array([ 0,  1,  2,  3,  4,  5,  6,  7,  8,  0,  9, 10, 11, 12, 10, 12, 12,\n",
       "        0, 10, 13,  6, 13,  6,  0, 14, 12, 12, 15, 10,  6, 13, 11, 16, 10,\n",
       "        6, 12,  6,  6,  6,  0, 10,  0, 11,  6, 10, 12,  6, 10,  6, 12],\n",
       "      dtype=int64)"
      ]
     },
     "execution_count": 121,
     "metadata": {},
     "output_type": "execute_result"
    }
   ],
   "source": [
    "db=DBSCAN(eps= 1,min_samples=1)\n",
    "y_pred=db.fit_predict(dbscan_scaled)\n",
    "y_pred"
   ]
  },
  {
   "cell_type": "code",
   "execution_count": 122,
   "id": "50a3d47b",
   "metadata": {},
   "outputs": [
    {
     "data": {
      "text/plain": [
       "0.174714431305716"
      ]
     },
     "execution_count": 122,
     "metadata": {},
     "output_type": "execute_result"
    }
   ],
   "source": [
    "silhouette_score(dbscan_scaled,y_pred)"
   ]
  },
  {
   "cell_type": "code",
   "execution_count": 129,
   "id": "df0eef7d",
   "metadata": {},
   "outputs": [],
   "source": [
    "# Adding prediction of dbscan to original dataframe\n",
    "\n",
    "\n",
    "df[\"Dbscan_cluster\"]=y_pred"
   ]
  },
  {
   "cell_type": "code",
   "execution_count": 137,
   "id": "cc230d4e",
   "metadata": {},
   "outputs": [
    {
     "data": {
      "text/html": [
       "<div>\n",
       "<style scoped>\n",
       "    .dataframe tbody tr th:only-of-type {\n",
       "        vertical-align: middle;\n",
       "    }\n",
       "\n",
       "    .dataframe tbody tr th {\n",
       "        vertical-align: top;\n",
       "    }\n",
       "\n",
       "    .dataframe thead th {\n",
       "        text-align: right;\n",
       "    }\n",
       "</style>\n",
       "<table border=\"1\" class=\"dataframe\">\n",
       "  <thead>\n",
       "    <tr style=\"text-align: right;\">\n",
       "      <th></th>\n",
       "      <th>Murder</th>\n",
       "      <th>Assault</th>\n",
       "      <th>UrbanPop</th>\n",
       "      <th>Rape</th>\n",
       "      <th>Kmeans_labels</th>\n",
       "      <th>Dbscan_cluster</th>\n",
       "    </tr>\n",
       "  </thead>\n",
       "  <tbody>\n",
       "    <tr>\n",
       "      <th>0</th>\n",
       "      <td>13.2</td>\n",
       "      <td>236</td>\n",
       "      <td>58</td>\n",
       "      <td>21.2</td>\n",
       "      <td>4</td>\n",
       "      <td>0</td>\n",
       "    </tr>\n",
       "    <tr>\n",
       "      <th>1</th>\n",
       "      <td>10.0</td>\n",
       "      <td>263</td>\n",
       "      <td>48</td>\n",
       "      <td>44.5</td>\n",
       "      <td>6</td>\n",
       "      <td>1</td>\n",
       "    </tr>\n",
       "    <tr>\n",
       "      <th>2</th>\n",
       "      <td>8.1</td>\n",
       "      <td>294</td>\n",
       "      <td>80</td>\n",
       "      <td>31.0</td>\n",
       "      <td>1</td>\n",
       "      <td>2</td>\n",
       "    </tr>\n",
       "    <tr>\n",
       "      <th>3</th>\n",
       "      <td>8.8</td>\n",
       "      <td>190</td>\n",
       "      <td>50</td>\n",
       "      <td>19.5</td>\n",
       "      <td>0</td>\n",
       "      <td>3</td>\n",
       "    </tr>\n",
       "    <tr>\n",
       "      <th>4</th>\n",
       "      <td>9.0</td>\n",
       "      <td>276</td>\n",
       "      <td>91</td>\n",
       "      <td>40.6</td>\n",
       "      <td>2</td>\n",
       "      <td>4</td>\n",
       "    </tr>\n",
       "  </tbody>\n",
       "</table>\n",
       "</div>"
      ],
      "text/plain": [
       "   Murder  Assault  UrbanPop  Rape  Kmeans_labels  Dbscan_cluster\n",
       "0    13.2      236        58  21.2              4               0\n",
       "1    10.0      263        48  44.5              6               1\n",
       "2     8.1      294        80  31.0              1               2\n",
       "3     8.8      190        50  19.5              0               3\n",
       "4     9.0      276        91  40.6              2               4"
      ]
     },
     "execution_count": 137,
     "metadata": {},
     "output_type": "execute_result"
    }
   ],
   "source": [
    "df.head()\n"
   ]
  },
  {
   "cell_type": "code",
   "execution_count": 136,
   "id": "43d58376",
   "metadata": {},
   "outputs": [
    {
     "data": {
      "text/html": [
       "<div>\n",
       "<style scoped>\n",
       "    .dataframe tbody tr th:only-of-type {\n",
       "        vertical-align: middle;\n",
       "    }\n",
       "\n",
       "    .dataframe tbody tr th {\n",
       "        vertical-align: top;\n",
       "    }\n",
       "\n",
       "    .dataframe thead th {\n",
       "        text-align: right;\n",
       "    }\n",
       "</style>\n",
       "<table border=\"1\" class=\"dataframe\">\n",
       "  <thead>\n",
       "    <tr style=\"text-align: right;\">\n",
       "      <th></th>\n",
       "      <th>Murder</th>\n",
       "      <th>Assault</th>\n",
       "      <th>UrbanPop</th>\n",
       "      <th>Rape</th>\n",
       "      <th>Kmeans_labels</th>\n",
       "    </tr>\n",
       "    <tr>\n",
       "      <th>Dbscan_cluster</th>\n",
       "      <th></th>\n",
       "      <th></th>\n",
       "      <th></th>\n",
       "      <th></th>\n",
       "      <th></th>\n",
       "    </tr>\n",
       "  </thead>\n",
       "  <tbody>\n",
       "    <tr>\n",
       "      <th>0</th>\n",
       "      <td>14.9500</td>\n",
       "      <td>237.000000</td>\n",
       "      <td>55.833333</td>\n",
       "      <td>22.616667</td>\n",
       "      <td>4.333333</td>\n",
       "    </tr>\n",
       "    <tr>\n",
       "      <th>1</th>\n",
       "      <td>10.0000</td>\n",
       "      <td>263.000000</td>\n",
       "      <td>48.000000</td>\n",
       "      <td>44.500000</td>\n",
       "      <td>6.000000</td>\n",
       "    </tr>\n",
       "    <tr>\n",
       "      <th>2</th>\n",
       "      <td>8.1000</td>\n",
       "      <td>294.000000</td>\n",
       "      <td>80.000000</td>\n",
       "      <td>31.000000</td>\n",
       "      <td>1.000000</td>\n",
       "    </tr>\n",
       "    <tr>\n",
       "      <th>3</th>\n",
       "      <td>8.8000</td>\n",
       "      <td>190.000000</td>\n",
       "      <td>50.000000</td>\n",
       "      <td>19.500000</td>\n",
       "      <td>0.000000</td>\n",
       "    </tr>\n",
       "    <tr>\n",
       "      <th>4</th>\n",
       "      <td>9.0000</td>\n",
       "      <td>276.000000</td>\n",
       "      <td>91.000000</td>\n",
       "      <td>40.600000</td>\n",
       "      <td>2.000000</td>\n",
       "    </tr>\n",
       "    <tr>\n",
       "      <th>5</th>\n",
       "      <td>7.9000</td>\n",
       "      <td>204.000000</td>\n",
       "      <td>78.000000</td>\n",
       "      <td>38.700000</td>\n",
       "      <td>2.000000</td>\n",
       "    </tr>\n",
       "    <tr>\n",
       "      <th>6</th>\n",
       "      <td>4.5000</td>\n",
       "      <td>124.272727</td>\n",
       "      <td>76.090909</td>\n",
       "      <td>17.718182</td>\n",
       "      <td>8.363636</td>\n",
       "    </tr>\n",
       "    <tr>\n",
       "      <th>7</th>\n",
       "      <td>5.9000</td>\n",
       "      <td>238.000000</td>\n",
       "      <td>72.000000</td>\n",
       "      <td>15.800000</td>\n",
       "      <td>0.000000</td>\n",
       "    </tr>\n",
       "    <tr>\n",
       "      <th>8</th>\n",
       "      <td>15.4000</td>\n",
       "      <td>335.000000</td>\n",
       "      <td>80.000000</td>\n",
       "      <td>31.900000</td>\n",
       "      <td>1.000000</td>\n",
       "    </tr>\n",
       "    <tr>\n",
       "      <th>9</th>\n",
       "      <td>5.3000</td>\n",
       "      <td>46.000000</td>\n",
       "      <td>83.000000</td>\n",
       "      <td>20.200000</td>\n",
       "      <td>10.000000</td>\n",
       "    </tr>\n",
       "    <tr>\n",
       "      <th>10</th>\n",
       "      <td>2.6875</td>\n",
       "      <td>72.000000</td>\n",
       "      <td>47.250000</td>\n",
       "      <td>10.425000</td>\n",
       "      <td>3.000000</td>\n",
       "    </tr>\n",
       "    <tr>\n",
       "      <th>11</th>\n",
       "      <td>11.4000</td>\n",
       "      <td>234.666667</td>\n",
       "      <td>83.000000</td>\n",
       "      <td>25.200000</td>\n",
       "      <td>9.000000</td>\n",
       "    </tr>\n",
       "    <tr>\n",
       "      <th>12</th>\n",
       "      <td>6.8875</td>\n",
       "      <td>127.000000</td>\n",
       "      <td>61.125000</td>\n",
       "      <td>18.062500</td>\n",
       "      <td>0.000000</td>\n",
       "    </tr>\n",
       "    <tr>\n",
       "      <th>13</th>\n",
       "      <td>11.6000</td>\n",
       "      <td>280.000000</td>\n",
       "      <td>70.333333</td>\n",
       "      <td>31.666667</td>\n",
       "      <td>1.000000</td>\n",
       "    </tr>\n",
       "    <tr>\n",
       "      <th>14</th>\n",
       "      <td>9.0000</td>\n",
       "      <td>178.000000</td>\n",
       "      <td>70.000000</td>\n",
       "      <td>28.200000</td>\n",
       "      <td>8.000000</td>\n",
       "    </tr>\n",
       "    <tr>\n",
       "      <th>15</th>\n",
       "      <td>12.2000</td>\n",
       "      <td>252.000000</td>\n",
       "      <td>81.000000</td>\n",
       "      <td>46.000000</td>\n",
       "      <td>2.000000</td>\n",
       "    </tr>\n",
       "    <tr>\n",
       "      <th>16</th>\n",
       "      <td>13.0000</td>\n",
       "      <td>337.000000</td>\n",
       "      <td>45.000000</td>\n",
       "      <td>16.100000</td>\n",
       "      <td>5.000000</td>\n",
       "    </tr>\n",
       "  </tbody>\n",
       "</table>\n",
       "</div>"
      ],
      "text/plain": [
       "                 Murder     Assault   UrbanPop       Rape  Kmeans_labels\n",
       "Dbscan_cluster                                                          \n",
       "0               14.9500  237.000000  55.833333  22.616667       4.333333\n",
       "1               10.0000  263.000000  48.000000  44.500000       6.000000\n",
       "2                8.1000  294.000000  80.000000  31.000000       1.000000\n",
       "3                8.8000  190.000000  50.000000  19.500000       0.000000\n",
       "4                9.0000  276.000000  91.000000  40.600000       2.000000\n",
       "5                7.9000  204.000000  78.000000  38.700000       2.000000\n",
       "6                4.5000  124.272727  76.090909  17.718182       8.363636\n",
       "7                5.9000  238.000000  72.000000  15.800000       0.000000\n",
       "8               15.4000  335.000000  80.000000  31.900000       1.000000\n",
       "9                5.3000   46.000000  83.000000  20.200000      10.000000\n",
       "10               2.6875   72.000000  47.250000  10.425000       3.000000\n",
       "11              11.4000  234.666667  83.000000  25.200000       9.000000\n",
       "12               6.8875  127.000000  61.125000  18.062500       0.000000\n",
       "13              11.6000  280.000000  70.333333  31.666667       1.000000\n",
       "14               9.0000  178.000000  70.000000  28.200000       8.000000\n",
       "15              12.2000  252.000000  81.000000  46.000000       2.000000\n",
       "16              13.0000  337.000000  45.000000  16.100000       5.000000"
      ]
     },
     "execution_count": 136,
     "metadata": {},
     "output_type": "execute_result"
    }
   ],
   "source": [
    "df.groupby('Dbscan_cluster').agg('mean')"
   ]
  },
  {
   "cell_type": "markdown",
   "id": "6290df9e",
   "metadata": {},
   "source": [
    "# Outcomes\n",
    "\n",
    "Cluster 8 has highest Murder cases\n",
    "\n",
    "Cluster 1 has highest rape cases\n",
    "\n",
    "Cluster 1 has highest assault cases\n",
    "\n",
    "Cluster 4 has highest UrbanPop cases\n",
    "\n",
    "\n",
    "Cluster 1 is the Place to be Avoided For Staying..\n",
    "\n",
    "Cluster 10 is the safest place to stay.."
   ]
  },
  {
   "cell_type": "code",
   "execution_count": null,
   "id": "070237c6",
   "metadata": {},
   "outputs": [],
   "source": []
  }
 ],
 "metadata": {
  "kernelspec": {
   "display_name": "Python 3 (ipykernel)",
   "language": "python",
   "name": "python3"
  },
  "language_info": {
   "codemirror_mode": {
    "name": "ipython",
    "version": 3
   },
   "file_extension": ".py",
   "mimetype": "text/x-python",
   "name": "python",
   "nbconvert_exporter": "python",
   "pygments_lexer": "ipython3",
   "version": "3.9.12"
  }
 },
 "nbformat": 4,
 "nbformat_minor": 5
}
