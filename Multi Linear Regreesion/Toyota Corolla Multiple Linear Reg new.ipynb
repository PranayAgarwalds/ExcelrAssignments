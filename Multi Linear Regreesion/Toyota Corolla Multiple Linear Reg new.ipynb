{
 "cells": [
  {
   "cell_type": "markdown",
   "id": "cd23c03e",
   "metadata": {},
   "source": [
    "## Toyota Corolla Multiple Linear Reg"
   ]
  },
  {
   "cell_type": "code",
   "execution_count": 1,
   "id": "d45a5a44",
   "metadata": {},
   "outputs": [],
   "source": [
    "import pandas as pd\n",
    "import numpy as np\n",
    "import matplotlib.pyplot as plt\n",
    "import seaborn as sns"
   ]
  },
  {
   "cell_type": "code",
   "execution_count": 2,
   "id": "bafa2b0f",
   "metadata": {},
   "outputs": [],
   "source": [
    "df=pd.read_csv(\"ToyotaCorolla.csv\", encoding='latin1')"
   ]
  },
  {
   "cell_type": "code",
   "execution_count": 3,
   "id": "de139587",
   "metadata": {},
   "outputs": [
    {
     "data": {
      "text/html": [
       "<div>\n",
       "<style scoped>\n",
       "    .dataframe tbody tr th:only-of-type {\n",
       "        vertical-align: middle;\n",
       "    }\n",
       "\n",
       "    .dataframe tbody tr th {\n",
       "        vertical-align: top;\n",
       "    }\n",
       "\n",
       "    .dataframe thead th {\n",
       "        text-align: right;\n",
       "    }\n",
       "</style>\n",
       "<table border=\"1\" class=\"dataframe\">\n",
       "  <thead>\n",
       "    <tr style=\"text-align: right;\">\n",
       "      <th></th>\n",
       "      <th>Id</th>\n",
       "      <th>Model</th>\n",
       "      <th>Price</th>\n",
       "      <th>Age_08_04</th>\n",
       "      <th>Mfg_Month</th>\n",
       "      <th>Mfg_Year</th>\n",
       "      <th>KM</th>\n",
       "      <th>Fuel_Type</th>\n",
       "      <th>HP</th>\n",
       "      <th>Met_Color</th>\n",
       "      <th>...</th>\n",
       "      <th>Central_Lock</th>\n",
       "      <th>Powered_Windows</th>\n",
       "      <th>Power_Steering</th>\n",
       "      <th>Radio</th>\n",
       "      <th>Mistlamps</th>\n",
       "      <th>Sport_Model</th>\n",
       "      <th>Backseat_Divider</th>\n",
       "      <th>Metallic_Rim</th>\n",
       "      <th>Radio_cassette</th>\n",
       "      <th>Tow_Bar</th>\n",
       "    </tr>\n",
       "  </thead>\n",
       "  <tbody>\n",
       "    <tr>\n",
       "      <th>0</th>\n",
       "      <td>1</td>\n",
       "      <td>TOYOTA Corolla 2.0 D4D HATCHB TERRA 2/3-Doors</td>\n",
       "      <td>13500</td>\n",
       "      <td>23</td>\n",
       "      <td>10</td>\n",
       "      <td>2002</td>\n",
       "      <td>46986</td>\n",
       "      <td>Diesel</td>\n",
       "      <td>90</td>\n",
       "      <td>1</td>\n",
       "      <td>...</td>\n",
       "      <td>1</td>\n",
       "      <td>1</td>\n",
       "      <td>1</td>\n",
       "      <td>0</td>\n",
       "      <td>0</td>\n",
       "      <td>0</td>\n",
       "      <td>1</td>\n",
       "      <td>0</td>\n",
       "      <td>0</td>\n",
       "      <td>0</td>\n",
       "    </tr>\n",
       "  </tbody>\n",
       "</table>\n",
       "<p>1 rows × 38 columns</p>\n",
       "</div>"
      ],
      "text/plain": [
       "   Id                                          Model  Price  Age_08_04  \\\n",
       "0   1  TOYOTA Corolla 2.0 D4D HATCHB TERRA 2/3-Doors  13500         23   \n",
       "\n",
       "   Mfg_Month  Mfg_Year     KM Fuel_Type  HP  Met_Color  ... Central_Lock  \\\n",
       "0         10      2002  46986    Diesel  90          1  ...            1   \n",
       "\n",
       "   Powered_Windows  Power_Steering  Radio  Mistlamps  Sport_Model  \\\n",
       "0                1               1      0          0            0   \n",
       "\n",
       "   Backseat_Divider  Metallic_Rim  Radio_cassette  Tow_Bar  \n",
       "0                 1             0               0        0  \n",
       "\n",
       "[1 rows x 38 columns]"
      ]
     },
     "execution_count": 3,
     "metadata": {},
     "output_type": "execute_result"
    }
   ],
   "source": [
    "df.head(1)"
   ]
  },
  {
   "cell_type": "code",
   "execution_count": 4,
   "id": "8e40b03f",
   "metadata": {},
   "outputs": [
    {
     "data": {
      "text/html": [
       "<div>\n",
       "<style scoped>\n",
       "    .dataframe tbody tr th:only-of-type {\n",
       "        vertical-align: middle;\n",
       "    }\n",
       "\n",
       "    .dataframe tbody tr th {\n",
       "        vertical-align: top;\n",
       "    }\n",
       "\n",
       "    .dataframe thead th {\n",
       "        text-align: right;\n",
       "    }\n",
       "</style>\n",
       "<table border=\"1\" class=\"dataframe\">\n",
       "  <thead>\n",
       "    <tr style=\"text-align: right;\">\n",
       "      <th></th>\n",
       "      <th>Age_08_04</th>\n",
       "      <th>KM</th>\n",
       "      <th>HP</th>\n",
       "      <th>cc</th>\n",
       "      <th>Doors</th>\n",
       "      <th>Gears</th>\n",
       "      <th>Quarterly_Tax</th>\n",
       "      <th>Weight</th>\n",
       "      <th>Price</th>\n",
       "    </tr>\n",
       "  </thead>\n",
       "  <tbody>\n",
       "    <tr>\n",
       "      <th>0</th>\n",
       "      <td>23</td>\n",
       "      <td>46986</td>\n",
       "      <td>90</td>\n",
       "      <td>2000</td>\n",
       "      <td>3</td>\n",
       "      <td>5</td>\n",
       "      <td>210</td>\n",
       "      <td>1165</td>\n",
       "      <td>13500</td>\n",
       "    </tr>\n",
       "    <tr>\n",
       "      <th>1</th>\n",
       "      <td>23</td>\n",
       "      <td>72937</td>\n",
       "      <td>90</td>\n",
       "      <td>2000</td>\n",
       "      <td>3</td>\n",
       "      <td>5</td>\n",
       "      <td>210</td>\n",
       "      <td>1165</td>\n",
       "      <td>13750</td>\n",
       "    </tr>\n",
       "    <tr>\n",
       "      <th>2</th>\n",
       "      <td>24</td>\n",
       "      <td>41711</td>\n",
       "      <td>90</td>\n",
       "      <td>2000</td>\n",
       "      <td>3</td>\n",
       "      <td>5</td>\n",
       "      <td>210</td>\n",
       "      <td>1165</td>\n",
       "      <td>13950</td>\n",
       "    </tr>\n",
       "    <tr>\n",
       "      <th>3</th>\n",
       "      <td>26</td>\n",
       "      <td>48000</td>\n",
       "      <td>90</td>\n",
       "      <td>2000</td>\n",
       "      <td>3</td>\n",
       "      <td>5</td>\n",
       "      <td>210</td>\n",
       "      <td>1165</td>\n",
       "      <td>14950</td>\n",
       "    </tr>\n",
       "    <tr>\n",
       "      <th>4</th>\n",
       "      <td>30</td>\n",
       "      <td>38500</td>\n",
       "      <td>90</td>\n",
       "      <td>2000</td>\n",
       "      <td>3</td>\n",
       "      <td>5</td>\n",
       "      <td>210</td>\n",
       "      <td>1170</td>\n",
       "      <td>13750</td>\n",
       "    </tr>\n",
       "  </tbody>\n",
       "</table>\n",
       "</div>"
      ],
      "text/plain": [
       "   Age_08_04     KM  HP    cc  Doors  Gears  Quarterly_Tax  Weight  Price\n",
       "0         23  46986  90  2000      3      5            210    1165  13500\n",
       "1         23  72937  90  2000      3      5            210    1165  13750\n",
       "2         24  41711  90  2000      3      5            210    1165  13950\n",
       "3         26  48000  90  2000      3      5            210    1165  14950\n",
       "4         30  38500  90  2000      3      5            210    1170  13750"
      ]
     },
     "execution_count": 4,
     "metadata": {},
     "output_type": "execute_result"
    }
   ],
   "source": [
    "new_df=df[[\"Age_08_04\",\"KM\",\"HP\",\"cc\",\"Doors\",\"Gears\",\"Quarterly_Tax\",\"Weight\",\"Price\"]]\n",
    "\n",
    "\n",
    "new_df.head()"
   ]
  },
  {
   "cell_type": "code",
   "execution_count": 5,
   "id": "d24b5bc0",
   "metadata": {},
   "outputs": [
    {
     "data": {
      "text/plain": [
       "1"
      ]
     },
     "execution_count": 5,
     "metadata": {},
     "output_type": "execute_result"
    }
   ],
   "source": [
    "#duplicate values\n",
    "\n",
    "new_df.duplicated().sum()\n"
   ]
  },
  {
   "cell_type": "code",
   "execution_count": 6,
   "id": "2ce411e2",
   "metadata": {},
   "outputs": [],
   "source": [
    "new_df=new_df.drop_duplicates()# dropping duplicated values"
   ]
  },
  {
   "cell_type": "code",
   "execution_count": 7,
   "id": "a2de6a73",
   "metadata": {},
   "outputs": [
    {
     "data": {
      "text/plain": [
       "0"
      ]
     },
     "execution_count": 7,
     "metadata": {},
     "output_type": "execute_result"
    }
   ],
   "source": [
    "new_df.duplicated().sum()"
   ]
  },
  {
   "cell_type": "code",
   "execution_count": 8,
   "id": "547bd0cf",
   "metadata": {},
   "outputs": [
    {
     "data": {
      "text/plain": [
       "Age_08_04        0\n",
       "KM               0\n",
       "HP               0\n",
       "cc               0\n",
       "Doors            0\n",
       "Gears            0\n",
       "Quarterly_Tax    0\n",
       "Weight           0\n",
       "Price            0\n",
       "dtype: int64"
      ]
     },
     "execution_count": 8,
     "metadata": {},
     "output_type": "execute_result"
    }
   ],
   "source": [
    "new_df.isnull().sum()#checking null values"
   ]
  },
  {
   "cell_type": "code",
   "execution_count": 9,
   "id": "08f72124",
   "metadata": {},
   "outputs": [
    {
     "data": {
      "text/plain": [
       "<AxesSubplot:>"
      ]
     },
     "execution_count": 9,
     "metadata": {},
     "output_type": "execute_result"
    },
    {
     "data": {
      "image/png": "[encoded data removed]",
      "text/plain": [
       "<Figure size 432x288 with 2 Axes>"
      ]
     },
     "metadata": {
      "needs_background": "light"
     },
     "output_type": "display_data"
    }
   ],
   "source": [
    "sns.heatmap(new_df.isnull(),annot=True)"
   ]
  },
  {
   "cell_type": "code",
   "execution_count": 10,
   "id": "e50c00d7",
   "metadata": {},
   "outputs": [
    {
     "data": {
      "text/plain": [
       "Age_08_04        int64\n",
       "KM               int64\n",
       "HP               int64\n",
       "cc               int64\n",
       "Doors            int64\n",
       "Gears            int64\n",
       "Quarterly_Tax    int64\n",
       "Weight           int64\n",
       "Price            int64\n",
       "dtype: object"
      ]
     },
     "execution_count": 10,
     "metadata": {},
     "output_type": "execute_result"
    }
   ],
   "source": [
    "new_df.dtypes# checking datatypes "
   ]
  },
  {
   "cell_type": "code",
   "execution_count": 11,
   "id": "6c109d39",
   "metadata": {},
   "outputs": [
    {
     "data": {
      "text/html": [
       "<div>\n",
       "<style scoped>\n",
       "    .dataframe tbody tr th:only-of-type {\n",
       "        vertical-align: middle;\n",
       "    }\n",
       "\n",
       "    .dataframe tbody tr th {\n",
       "        vertical-align: top;\n",
       "    }\n",
       "\n",
       "    .dataframe thead th {\n",
       "        text-align: right;\n",
       "    }\n",
       "</style>\n",
       "<table border=\"1\" class=\"dataframe\">\n",
       "  <thead>\n",
       "    <tr style=\"text-align: right;\">\n",
       "      <th></th>\n",
       "      <th>Age_08_04</th>\n",
       "      <th>KM</th>\n",
       "      <th>HP</th>\n",
       "      <th>cc</th>\n",
       "      <th>Doors</th>\n",
       "      <th>Gears</th>\n",
       "      <th>Quarterly_Tax</th>\n",
       "      <th>Weight</th>\n",
       "      <th>Price</th>\n",
       "    </tr>\n",
       "  </thead>\n",
       "  <tbody>\n",
       "    <tr>\n",
       "      <th>count</th>\n",
       "      <td>1435.000000</td>\n",
       "      <td>1435.000000</td>\n",
       "      <td>1435.000000</td>\n",
       "      <td>1435.000000</td>\n",
       "      <td>1435.000000</td>\n",
       "      <td>1435.000000</td>\n",
       "      <td>1435.000000</td>\n",
       "      <td>1435.000000</td>\n",
       "      <td>1435.000000</td>\n",
       "    </tr>\n",
       "    <tr>\n",
       "      <th>mean</th>\n",
       "      <td>55.980488</td>\n",
       "      <td>68571.782578</td>\n",
       "      <td>101.491986</td>\n",
       "      <td>1576.560976</td>\n",
       "      <td>4.032753</td>\n",
       "      <td>5.026481</td>\n",
       "      <td>87.020209</td>\n",
       "      <td>1072.287108</td>\n",
       "      <td>10720.915679</td>\n",
       "    </tr>\n",
       "    <tr>\n",
       "      <th>std</th>\n",
       "      <td>18.563312</td>\n",
       "      <td>37491.094553</td>\n",
       "      <td>14.981408</td>\n",
       "      <td>424.387533</td>\n",
       "      <td>0.952667</td>\n",
       "      <td>0.188575</td>\n",
       "      <td>40.959588</td>\n",
       "      <td>52.251882</td>\n",
       "      <td>3608.732978</td>\n",
       "    </tr>\n",
       "    <tr>\n",
       "      <th>min</th>\n",
       "      <td>1.000000</td>\n",
       "      <td>1.000000</td>\n",
       "      <td>69.000000</td>\n",
       "      <td>1300.000000</td>\n",
       "      <td>2.000000</td>\n",
       "      <td>3.000000</td>\n",
       "      <td>19.000000</td>\n",
       "      <td>1000.000000</td>\n",
       "      <td>4350.000000</td>\n",
       "    </tr>\n",
       "    <tr>\n",
       "      <th>25%</th>\n",
       "      <td>44.000000</td>\n",
       "      <td>43000.000000</td>\n",
       "      <td>90.000000</td>\n",
       "      <td>1400.000000</td>\n",
       "      <td>3.000000</td>\n",
       "      <td>5.000000</td>\n",
       "      <td>69.000000</td>\n",
       "      <td>1040.000000</td>\n",
       "      <td>8450.000000</td>\n",
       "    </tr>\n",
       "    <tr>\n",
       "      <th>50%</th>\n",
       "      <td>61.000000</td>\n",
       "      <td>63451.000000</td>\n",
       "      <td>110.000000</td>\n",
       "      <td>1600.000000</td>\n",
       "      <td>4.000000</td>\n",
       "      <td>5.000000</td>\n",
       "      <td>85.000000</td>\n",
       "      <td>1070.000000</td>\n",
       "      <td>9900.000000</td>\n",
       "    </tr>\n",
       "    <tr>\n",
       "      <th>75%</th>\n",
       "      <td>70.000000</td>\n",
       "      <td>87041.500000</td>\n",
       "      <td>110.000000</td>\n",
       "      <td>1600.000000</td>\n",
       "      <td>5.000000</td>\n",
       "      <td>5.000000</td>\n",
       "      <td>85.000000</td>\n",
       "      <td>1085.000000</td>\n",
       "      <td>11950.000000</td>\n",
       "    </tr>\n",
       "    <tr>\n",
       "      <th>max</th>\n",
       "      <td>80.000000</td>\n",
       "      <td>243000.000000</td>\n",
       "      <td>192.000000</td>\n",
       "      <td>16000.000000</td>\n",
       "      <td>5.000000</td>\n",
       "      <td>6.000000</td>\n",
       "      <td>283.000000</td>\n",
       "      <td>1615.000000</td>\n",
       "      <td>32500.000000</td>\n",
       "    </tr>\n",
       "  </tbody>\n",
       "</table>\n",
       "</div>"
      ],
      "text/plain": [
       "         Age_08_04             KM           HP            cc        Doors  \\\n",
       "count  1435.000000    1435.000000  1435.000000   1435.000000  1435.000000   \n",
       "mean     55.980488   68571.782578   101.491986   1576.560976     4.032753   \n",
       "std      18.563312   37491.094553    14.981408    424.387533     0.952667   \n",
       "min       1.000000       1.000000    69.000000   1300.000000     2.000000   \n",
       "25%      44.000000   43000.000000    90.000000   1400.000000     3.000000   \n",
       "50%      61.000000   63451.000000   110.000000   1600.000000     4.000000   \n",
       "75%      70.000000   87041.500000   110.000000   1600.000000     5.000000   \n",
       "max      80.000000  243000.000000   192.000000  16000.000000     5.000000   \n",
       "\n",
       "             Gears  Quarterly_Tax       Weight         Price  \n",
       "count  1435.000000    1435.000000  1435.000000   1435.000000  \n",
       "mean      5.026481      87.020209  1072.287108  10720.915679  \n",
       "std       0.188575      40.959588    52.251882   3608.732978  \n",
       "min       3.000000      19.000000  1000.000000   4350.000000  \n",
       "25%       5.000000      69.000000  1040.000000   8450.000000  \n",
       "50%       5.000000      85.000000  1070.000000   9900.000000  \n",
       "75%       5.000000      85.000000  1085.000000  11950.000000  \n",
       "max       6.000000     283.000000  1615.000000  32500.000000  "
      ]
     },
     "execution_count": 11,
     "metadata": {},
     "output_type": "execute_result"
    }
   ],
   "source": [
    "new_df.describe()"
   ]
  },
  {
   "cell_type": "code",
   "execution_count": 12,
   "id": "fb03967c",
   "metadata": {},
   "outputs": [
    {
     "data": {
      "text/html": [
       "<div>\n",
       "<style scoped>\n",
       "    .dataframe tbody tr th:only-of-type {\n",
       "        vertical-align: middle;\n",
       "    }\n",
       "\n",
       "    .dataframe tbody tr th {\n",
       "        vertical-align: top;\n",
       "    }\n",
       "\n",
       "    .dataframe thead th {\n",
       "        text-align: right;\n",
       "    }\n",
       "</style>\n",
       "<table border=\"1\" class=\"dataframe\">\n",
       "  <thead>\n",
       "    <tr style=\"text-align: right;\">\n",
       "      <th></th>\n",
       "      <th>Age_08_04</th>\n",
       "      <th>KM</th>\n",
       "      <th>HP</th>\n",
       "      <th>cc</th>\n",
       "      <th>Doors</th>\n",
       "      <th>Gears</th>\n",
       "      <th>Quarterly_Tax</th>\n",
       "      <th>Weight</th>\n",
       "      <th>Price</th>\n",
       "    </tr>\n",
       "  </thead>\n",
       "  <tbody>\n",
       "    <tr>\n",
       "      <th>Age_08_04</th>\n",
       "      <td>1.000000</td>\n",
       "      <td>0.504575</td>\n",
       "      <td>-0.155293</td>\n",
       "      <td>-0.096549</td>\n",
       "      <td>-0.146929</td>\n",
       "      <td>-0.005629</td>\n",
       "      <td>-0.193319</td>\n",
       "      <td>-0.466484</td>\n",
       "      <td>-0.876273</td>\n",
       "    </tr>\n",
       "    <tr>\n",
       "      <th>KM</th>\n",
       "      <td>0.504575</td>\n",
       "      <td>1.000000</td>\n",
       "      <td>-0.332904</td>\n",
       "      <td>0.103822</td>\n",
       "      <td>-0.035193</td>\n",
       "      <td>0.014890</td>\n",
       "      <td>0.283312</td>\n",
       "      <td>-0.023969</td>\n",
       "      <td>-0.569420</td>\n",
       "    </tr>\n",
       "    <tr>\n",
       "      <th>HP</th>\n",
       "      <td>-0.155293</td>\n",
       "      <td>-0.332904</td>\n",
       "      <td>1.000000</td>\n",
       "      <td>0.035207</td>\n",
       "      <td>0.091803</td>\n",
       "      <td>0.209642</td>\n",
       "      <td>-0.302287</td>\n",
       "      <td>0.087143</td>\n",
       "      <td>0.314134</td>\n",
       "    </tr>\n",
       "    <tr>\n",
       "      <th>cc</th>\n",
       "      <td>-0.096549</td>\n",
       "      <td>0.103822</td>\n",
       "      <td>0.035207</td>\n",
       "      <td>1.000000</td>\n",
       "      <td>0.079254</td>\n",
       "      <td>0.014732</td>\n",
       "      <td>0.305982</td>\n",
       "      <td>0.335077</td>\n",
       "      <td>0.124375</td>\n",
       "    </tr>\n",
       "    <tr>\n",
       "      <th>Doors</th>\n",
       "      <td>-0.146929</td>\n",
       "      <td>-0.035193</td>\n",
       "      <td>0.091803</td>\n",
       "      <td>0.079254</td>\n",
       "      <td>1.000000</td>\n",
       "      <td>-0.160101</td>\n",
       "      <td>0.107353</td>\n",
       "      <td>0.301734</td>\n",
       "      <td>0.183604</td>\n",
       "    </tr>\n",
       "    <tr>\n",
       "      <th>Gears</th>\n",
       "      <td>-0.005629</td>\n",
       "      <td>0.014890</td>\n",
       "      <td>0.209642</td>\n",
       "      <td>0.014732</td>\n",
       "      <td>-0.160101</td>\n",
       "      <td>1.000000</td>\n",
       "      <td>-0.005125</td>\n",
       "      <td>0.021238</td>\n",
       "      <td>0.063831</td>\n",
       "    </tr>\n",
       "    <tr>\n",
       "      <th>Quarterly_Tax</th>\n",
       "      <td>-0.193319</td>\n",
       "      <td>0.283312</td>\n",
       "      <td>-0.302287</td>\n",
       "      <td>0.305982</td>\n",
       "      <td>0.107353</td>\n",
       "      <td>-0.005125</td>\n",
       "      <td>1.000000</td>\n",
       "      <td>0.621988</td>\n",
       "      <td>0.211508</td>\n",
       "    </tr>\n",
       "    <tr>\n",
       "      <th>Weight</th>\n",
       "      <td>-0.466484</td>\n",
       "      <td>-0.023969</td>\n",
       "      <td>0.087143</td>\n",
       "      <td>0.335077</td>\n",
       "      <td>0.301734</td>\n",
       "      <td>0.021238</td>\n",
       "      <td>0.621988</td>\n",
       "      <td>1.000000</td>\n",
       "      <td>0.575869</td>\n",
       "    </tr>\n",
       "    <tr>\n",
       "      <th>Price</th>\n",
       "      <td>-0.876273</td>\n",
       "      <td>-0.569420</td>\n",
       "      <td>0.314134</td>\n",
       "      <td>0.124375</td>\n",
       "      <td>0.183604</td>\n",
       "      <td>0.063831</td>\n",
       "      <td>0.211508</td>\n",
       "      <td>0.575869</td>\n",
       "      <td>1.000000</td>\n",
       "    </tr>\n",
       "  </tbody>\n",
       "</table>\n",
       "</div>"
      ],
      "text/plain": [
       "               Age_08_04        KM        HP        cc     Doors     Gears  \\\n",
       "Age_08_04       1.000000  0.504575 -0.155293 -0.096549 -0.146929 -0.005629   \n",
       "KM              0.504575  1.000000 -0.332904  0.103822 -0.035193  0.014890   \n",
       "HP             -0.155293 -0.332904  1.000000  0.035207  0.091803  0.209642   \n",
       "cc             -0.096549  0.103822  0.035207  1.000000  0.079254  0.014732   \n",
       "Doors          -0.146929 -0.035193  0.091803  0.079254  1.000000 -0.160101   \n",
       "Gears          -0.005629  0.014890  0.209642  0.014732 -0.160101  1.000000   \n",
       "Quarterly_Tax  -0.193319  0.283312 -0.302287  0.305982  0.107353 -0.005125   \n",
       "Weight         -0.466484 -0.023969  0.087143  0.335077  0.301734  0.021238   \n",
       "Price          -0.876273 -0.569420  0.314134  0.124375  0.183604  0.063831   \n",
       "\n",
       "               Quarterly_Tax    Weight     Price  \n",
       "Age_08_04          -0.193319 -0.466484 -0.876273  \n",
       "KM                  0.283312 -0.023969 -0.569420  \n",
       "HP                 -0.302287  0.087143  0.314134  \n",
       "cc                  0.305982  0.335077  0.124375  \n",
       "Doors               0.107353  0.301734  0.183604  \n",
       "Gears              -0.005125  0.021238  0.063831  \n",
       "Quarterly_Tax       1.000000  0.621988  0.211508  \n",
       "Weight              0.621988  1.000000  0.575869  \n",
       "Price               0.211508  0.575869  1.000000  "
      ]
     },
     "execution_count": 12,
     "metadata": {},
     "output_type": "execute_result"
    }
   ],
   "source": [
    "#Checking CoRelation As it Multi Linear Regression using Pearson\n",
    "\n",
    "new_df.corr()"
   ]
  },
  {
   "cell_type": "code",
   "execution_count": 63,
   "id": "33118470",
   "metadata": {},
   "outputs": [
    {
     "data": {
      "text/plain": [
       "<AxesSubplot:>"
      ]
     },
     "execution_count": 63,
     "metadata": {},
     "output_type": "execute_result"
    },
    {
     "data": {
      "image/png": "[encoded data removed]",
      "text/plain": [
       "<Figure size 432x288 with 2 Axes>"
      ]
     },
     "metadata": {
      "needs_background": "light"
     },
     "output_type": "display_data"
    }
   ],
   "source": [
    "sns.heatmap(new_df.corr(),annot=True)"
   ]
  },
  {
   "cell_type": "code",
   "execution_count": 13,
   "id": "3d873da9",
   "metadata": {},
   "outputs": [
    {
     "data": {
      "text/plain": [
       "Age_08_04        0.0\n",
       "KM               0.0\n",
       "HP               0.0\n",
       "cc               0.0\n",
       "Doors            0.0\n",
       "Gears            0.0\n",
       "Quarterly_Tax    0.0\n",
       "Weight           0.0\n",
       "Price            0.0\n",
       "dtype: float64"
      ]
     },
     "execution_count": 13,
     "metadata": {},
     "output_type": "execute_result"
    }
   ],
   "source": [
    "new_df[new_df.corr()>80].sum() # No High Correlation Found between Features"
   ]
  },
  {
   "cell_type": "code",
   "execution_count": 14,
   "id": "fd5eb083",
   "metadata": {},
   "outputs": [
    {
     "data": {
      "text/html": [
       "<div>\n",
       "<style scoped>\n",
       "    .dataframe tbody tr th:only-of-type {\n",
       "        vertical-align: middle;\n",
       "    }\n",
       "\n",
       "    .dataframe tbody tr th {\n",
       "        vertical-align: top;\n",
       "    }\n",
       "\n",
       "    .dataframe thead th {\n",
       "        text-align: right;\n",
       "    }\n",
       "</style>\n",
       "<table border=\"1\" class=\"dataframe\">\n",
       "  <thead>\n",
       "    <tr style=\"text-align: right;\">\n",
       "      <th></th>\n",
       "      <th>Age_08_04</th>\n",
       "      <th>KM</th>\n",
       "      <th>HP</th>\n",
       "      <th>cc</th>\n",
       "      <th>Doors</th>\n",
       "      <th>Gears</th>\n",
       "      <th>Quarterly_Tax</th>\n",
       "      <th>Weight</th>\n",
       "      <th>Price</th>\n",
       "    </tr>\n",
       "  </thead>\n",
       "  <tbody>\n",
       "    <tr>\n",
       "      <th>Age_08_04</th>\n",
       "      <td>1.000000</td>\n",
       "      <td>0.531130</td>\n",
       "      <td>-0.091289</td>\n",
       "      <td>-0.113872</td>\n",
       "      <td>-0.132429</td>\n",
       "      <td>-0.023289</td>\n",
       "      <td>-0.272817</td>\n",
       "      <td>-0.381007</td>\n",
       "      <td>-0.841952</td>\n",
       "    </tr>\n",
       "    <tr>\n",
       "      <th>KM</th>\n",
       "      <td>0.531130</td>\n",
       "      <td>1.000000</td>\n",
       "      <td>-0.203164</td>\n",
       "      <td>0.186191</td>\n",
       "      <td>-0.038971</td>\n",
       "      <td>0.019787</td>\n",
       "      <td>0.026023</td>\n",
       "      <td>-0.062033</td>\n",
       "      <td>-0.614852</td>\n",
       "    </tr>\n",
       "    <tr>\n",
       "      <th>HP</th>\n",
       "      <td>-0.091289</td>\n",
       "      <td>-0.203164</td>\n",
       "      <td>1.000000</td>\n",
       "      <td>0.364967</td>\n",
       "      <td>0.152526</td>\n",
       "      <td>0.136185</td>\n",
       "      <td>0.063020</td>\n",
       "      <td>0.168533</td>\n",
       "      <td>0.234190</td>\n",
       "    </tr>\n",
       "    <tr>\n",
       "      <th>cc</th>\n",
       "      <td>-0.113872</td>\n",
       "      <td>0.186191</td>\n",
       "      <td>0.364967</td>\n",
       "      <td>1.000000</td>\n",
       "      <td>0.151083</td>\n",
       "      <td>0.072247</td>\n",
       "      <td>0.520732</td>\n",
       "      <td>0.684018</td>\n",
       "      <td>0.118364</td>\n",
       "    </tr>\n",
       "    <tr>\n",
       "      <th>Doors</th>\n",
       "      <td>-0.132429</td>\n",
       "      <td>-0.038971</td>\n",
       "      <td>0.152526</td>\n",
       "      <td>0.151083</td>\n",
       "      <td>1.000000</td>\n",
       "      <td>-0.166590</td>\n",
       "      <td>0.355246</td>\n",
       "      <td>0.444698</td>\n",
       "      <td>0.200262</td>\n",
       "    </tr>\n",
       "    <tr>\n",
       "      <th>Gears</th>\n",
       "      <td>-0.023289</td>\n",
       "      <td>0.019787</td>\n",
       "      <td>0.136185</td>\n",
       "      <td>0.072247</td>\n",
       "      <td>-0.166590</td>\n",
       "      <td>1.000000</td>\n",
       "      <td>0.100586</td>\n",
       "      <td>0.015664</td>\n",
       "      <td>0.076227</td>\n",
       "    </tr>\n",
       "    <tr>\n",
       "      <th>Quarterly_Tax</th>\n",
       "      <td>-0.272817</td>\n",
       "      <td>0.026023</td>\n",
       "      <td>0.063020</td>\n",
       "      <td>0.520732</td>\n",
       "      <td>0.355246</td>\n",
       "      <td>0.100586</td>\n",
       "      <td>1.000000</td>\n",
       "      <td>0.719808</td>\n",
       "      <td>0.320491</td>\n",
       "    </tr>\n",
       "    <tr>\n",
       "      <th>Weight</th>\n",
       "      <td>-0.381007</td>\n",
       "      <td>-0.062033</td>\n",
       "      <td>0.168533</td>\n",
       "      <td>0.684018</td>\n",
       "      <td>0.444698</td>\n",
       "      <td>0.015664</td>\n",
       "      <td>0.719808</td>\n",
       "      <td>1.000000</td>\n",
       "      <td>0.414465</td>\n",
       "    </tr>\n",
       "    <tr>\n",
       "      <th>Price</th>\n",
       "      <td>-0.841952</td>\n",
       "      <td>-0.614852</td>\n",
       "      <td>0.234190</td>\n",
       "      <td>0.118364</td>\n",
       "      <td>0.200262</td>\n",
       "      <td>0.076227</td>\n",
       "      <td>0.320491</td>\n",
       "      <td>0.414465</td>\n",
       "      <td>1.000000</td>\n",
       "    </tr>\n",
       "  </tbody>\n",
       "</table>\n",
       "</div>"
      ],
      "text/plain": [
       "               Age_08_04        KM        HP        cc     Doors     Gears  \\\n",
       "Age_08_04       1.000000  0.531130 -0.091289 -0.113872 -0.132429 -0.023289   \n",
       "KM              0.531130  1.000000 -0.203164  0.186191 -0.038971  0.019787   \n",
       "HP             -0.091289 -0.203164  1.000000  0.364967  0.152526  0.136185   \n",
       "cc             -0.113872  0.186191  0.364967  1.000000  0.151083  0.072247   \n",
       "Doors          -0.132429 -0.038971  0.152526  0.151083  1.000000 -0.166590   \n",
       "Gears          -0.023289  0.019787  0.136185  0.072247 -0.166590  1.000000   \n",
       "Quarterly_Tax  -0.272817  0.026023  0.063020  0.520732  0.355246  0.100586   \n",
       "Weight         -0.381007 -0.062033  0.168533  0.684018  0.444698  0.015664   \n",
       "Price          -0.841952 -0.614852  0.234190  0.118364  0.200262  0.076227   \n",
       "\n",
       "               Quarterly_Tax    Weight     Price  \n",
       "Age_08_04          -0.272817 -0.381007 -0.841952  \n",
       "KM                  0.026023 -0.062033 -0.614852  \n",
       "HP                  0.063020  0.168533  0.234190  \n",
       "cc                  0.520732  0.684018  0.118364  \n",
       "Doors               0.355246  0.444698  0.200262  \n",
       "Gears               0.100586  0.015664  0.076227  \n",
       "Quarterly_Tax       1.000000  0.719808  0.320491  \n",
       "Weight              0.719808  1.000000  0.414465  \n",
       "Price               0.320491  0.414465  1.000000  "
      ]
     },
     "execution_count": 14,
     "metadata": {},
     "output_type": "execute_result"
    }
   ],
   "source": [
    "#Checking CoRelation As it Multi Linear Regression using Spearman Rank \n",
    "\n",
    "\n",
    "new_df.corr(method ='spearman')"
   ]
  },
  {
   "cell_type": "code",
   "execution_count": 64,
   "id": "f2c5d747",
   "metadata": {},
   "outputs": [
    {
     "data": {
      "text/plain": [
       "<AxesSubplot:>"
      ]
     },
     "execution_count": 64,
     "metadata": {},
     "output_type": "execute_result"
    },
    {
     "data": {
      "image/png": "[encoded data removed]",
      "text/plain": [
       "<Figure size 432x288 with 2 Axes>"
      ]
     },
     "metadata": {
      "needs_background": "light"
     },
     "output_type": "display_data"
    }
   ],
   "source": [
    "sns.heatmap(new_df.corr(method ='spearman'),annot=True)"
   ]
  },
  {
   "cell_type": "code",
   "execution_count": 15,
   "id": "9ad1e853",
   "metadata": {},
   "outputs": [
    {
     "data": {
      "text/plain": [
       "Age_08_04        0.0\n",
       "KM               0.0\n",
       "HP               0.0\n",
       "cc               0.0\n",
       "Doors            0.0\n",
       "Gears            0.0\n",
       "Quarterly_Tax    0.0\n",
       "Weight           0.0\n",
       "Price            0.0\n",
       "dtype: float64"
      ]
     },
     "execution_count": 15,
     "metadata": {},
     "output_type": "execute_result"
    }
   ],
   "source": [
    "new_df[new_df.corr()>80].sum() # No correation Found "
   ]
  },
  {
   "cell_type": "code",
   "execution_count": 16,
   "id": "2a50900c",
   "metadata": {},
   "outputs": [
    {
     "data": {
      "text/plain": [
       "Index(['Age_08_04', 'KM', 'HP', 'cc', 'Doors', 'Gears', 'Quarterly_Tax',\n",
       "       'Weight', 'Price'],\n",
       "      dtype='object')"
      ]
     },
     "execution_count": 16,
     "metadata": {},
     "output_type": "execute_result"
    }
   ],
   "source": [
    "new_df.columns"
   ]
  },
  {
   "cell_type": "code",
   "execution_count": 17,
   "id": "68c84791",
   "metadata": {},
   "outputs": [],
   "source": [
    "# Renaming Columns\n",
    "\n",
    "\n",
    "new_df.rename(columns={'Age_08_04':\"AGE\",'cc':\"CC\",'Quarterly_Tax':\"Quarterly Tax\"},inplace=True)"
   ]
  },
  {
   "cell_type": "code",
   "execution_count": 18,
   "id": "de082a4d",
   "metadata": {},
   "outputs": [
    {
     "data": {
      "text/plain": [
       "Index(['AGE', 'KM', 'HP', 'CC', 'Doors', 'Gears', 'Quarterly Tax', 'Weight',\n",
       "       'Price'],\n",
       "      dtype='object')"
      ]
     },
     "execution_count": 18,
     "metadata": {},
     "output_type": "execute_result"
    }
   ],
   "source": [
    "new_df.columns"
   ]
  },
  {
   "cell_type": "code",
   "execution_count": 19,
   "id": "1018efdf",
   "metadata": {},
   "outputs": [
    {
     "data": {
      "text/plain": [
       "(1435, 9)"
      ]
     },
     "execution_count": 19,
     "metadata": {},
     "output_type": "execute_result"
    }
   ],
   "source": [
    "new_df_shape=new_df.shape\n",
    "\n",
    "new_df_shape"
   ]
  },
  {
   "cell_type": "code",
   "execution_count": 20,
   "id": "f0ad59e1",
   "metadata": {},
   "outputs": [
    {
     "name": "stderr",
     "output_type": "stream",
     "text": [
      "C:\\Users\\ppran\\anaconda3\\lib\\site-packages\\seaborn\\_decorators.py:36: FutureWarning: Pass the following variable as a keyword arg: x. From version 0.12, the only valid positional argument will be `data`, and passing other arguments without an explicit keyword will result in an error or misinterpretation.\n",
      "  warnings.warn(\n"
     ]
    },
    {
     "data": {
      "text/plain": [
       "<AxesSubplot:xlabel='KM'>"
      ]
     },
     "execution_count": 20,
     "metadata": {},
     "output_type": "execute_result"
    },
    {
     "data": {
      "image/png": "[encoded data removed]",
      "text/plain": [
       "<Figure size 432x288 with 1 Axes>"
      ]
     },
     "metadata": {
      "needs_background": "light"
     },
     "output_type": "display_data"
    }
   ],
   "source": [
    "sns.boxplot(new_df['KM'])"
   ]
  },
  {
   "cell_type": "markdown",
   "id": "35ca41cb",
   "metadata": {},
   "source": [
    "## Oulier Detection and Removal Using Iqr Method"
   ]
  },
  {
   "cell_type": "code",
   "execution_count": 21,
   "id": "796474e1",
   "metadata": {},
   "outputs": [
    {
     "name": "stdout",
     "output_type": "stream",
     "text": [
      "153103.75\n",
      "109062.25\n"
     ]
    }
   ],
   "source": [
    "##Iqr calculations for outlier detection\n",
    "\n",
    "per25=new_df['KM'].quantile(0.25)\n",
    "per75=new_df['KM'].quantile(0.75)\n",
    "\n",
    "iqr=per75-per25\n",
    "\n",
    "upper_limit= per75+1.5*iqr\n",
    "lower_limit= per25+1.5*iqr\n",
    "\n",
    "\n",
    "print(upper_limit)\n",
    "print(lower_limit)\n",
    "\n",
    "\n",
    "# Finding the outliers\n",
    "\n",
    "new_df[new_df['KM']>upper_limit]\n",
    "\n",
    "\n",
    "#Dropping the outliers\n",
    "\n",
    "new_df=new_df[new_df['KM']<upper_limit]"
   ]
  },
  {
   "cell_type": "code",
   "execution_count": 22,
   "id": "5872f726",
   "metadata": {},
   "outputs": [
    {
     "data": {
      "text/html": [
       "<div>\n",
       "<style scoped>\n",
       "    .dataframe tbody tr th:only-of-type {\n",
       "        vertical-align: middle;\n",
       "    }\n",
       "\n",
       "    .dataframe tbody tr th {\n",
       "        vertical-align: top;\n",
       "    }\n",
       "\n",
       "    .dataframe thead th {\n",
       "        text-align: right;\n",
       "    }\n",
       "</style>\n",
       "<table border=\"1\" class=\"dataframe\">\n",
       "  <thead>\n",
       "    <tr style=\"text-align: right;\">\n",
       "      <th></th>\n",
       "      <th>AGE</th>\n",
       "      <th>KM</th>\n",
       "      <th>HP</th>\n",
       "      <th>CC</th>\n",
       "      <th>Doors</th>\n",
       "      <th>Gears</th>\n",
       "      <th>Quarterly Tax</th>\n",
       "      <th>Weight</th>\n",
       "      <th>Price</th>\n",
       "    </tr>\n",
       "  </thead>\n",
       "  <tbody>\n",
       "  </tbody>\n",
       "</table>\n",
       "</div>"
      ],
      "text/plain": [
       "Empty DataFrame\n",
       "Columns: [AGE, KM, HP, CC, Doors, Gears, Quarterly Tax, Weight, Price]\n",
       "Index: []"
      ]
     },
     "execution_count": 22,
     "metadata": {},
     "output_type": "execute_result"
    }
   ],
   "source": [
    "new_df[new_df['KM']>upper_limit] # No outliers in Km columns"
   ]
  },
  {
   "cell_type": "code",
   "execution_count": 23,
   "id": "c98a7424",
   "metadata": {},
   "outputs": [
    {
     "data": {
      "text/plain": [
       "(1386, 9)"
      ]
     },
     "execution_count": 23,
     "metadata": {},
     "output_type": "execute_result"
    }
   ],
   "source": [
    "new_df.shape"
   ]
  },
  {
   "cell_type": "code",
   "execution_count": 24,
   "id": "1187cda4",
   "metadata": {},
   "outputs": [
    {
     "data": {
      "text/plain": [
       "Index(['AGE', 'KM', 'HP', 'CC', 'Doors', 'Gears', 'Quarterly Tax', 'Weight',\n",
       "       'Price'],\n",
       "      dtype='object')"
      ]
     },
     "execution_count": 24,
     "metadata": {},
     "output_type": "execute_result"
    }
   ],
   "source": [
    "new_df.columns"
   ]
  },
  {
   "cell_type": "code",
   "execution_count": 25,
   "id": "8f7cba6d",
   "metadata": {},
   "outputs": [
    {
     "name": "stdout",
     "output_type": "stream",
     "text": [
      "108.0\n",
      "82.0\n"
     ]
    }
   ],
   "source": [
    "per25=new_df['AGE'].quantile(0.25)\n",
    "per75=new_df['AGE'].quantile(0.75)\n",
    "\n",
    "iqr=per75-per25\n",
    "\n",
    "upper_limit= per75+1.5*iqr\n",
    "lower_limit= per25+1.5*iqr\n",
    "\n",
    "\n",
    "print(upper_limit)\n",
    "print(lower_limit)"
   ]
  },
  {
   "cell_type": "code",
   "execution_count": 26,
   "id": "8ac5e2fd",
   "metadata": {},
   "outputs": [
    {
     "data": {
      "text/plain": [
       "(1386, 9)"
      ]
     },
     "execution_count": 26,
     "metadata": {},
     "output_type": "execute_result"
    }
   ],
   "source": [
    "new_df[new_df['AGE']<lower_limit].shape"
   ]
  },
  {
   "cell_type": "code",
   "execution_count": 27,
   "id": "f76eae14",
   "metadata": {},
   "outputs": [
    {
     "name": "stderr",
     "output_type": "stream",
     "text": [
      "C:\\Users\\ppran\\anaconda3\\lib\\site-packages\\seaborn\\_decorators.py:36: FutureWarning: Pass the following variable as a keyword arg: x. From version 0.12, the only valid positional argument will be `data`, and passing other arguments without an explicit keyword will result in an error or misinterpretation.\n",
      "  warnings.warn(\n"
     ]
    },
    {
     "data": {
      "text/plain": [
       "<AxesSubplot:xlabel='CC'>"
      ]
     },
     "execution_count": 27,
     "metadata": {},
     "output_type": "execute_result"
    },
    {
     "data": {
      "image/png": "[encoded data removed]",
      "text/plain": [
       "<Figure size 432x288 with 1 Axes>"
      ]
     },
     "metadata": {
      "needs_background": "light"
     },
     "output_type": "display_data"
    }
   ],
   "source": [
    "sns.boxplot(new_df['CC'])"
   ]
  },
  {
   "cell_type": "code",
   "execution_count": 28,
   "id": "716d3865",
   "metadata": {},
   "outputs": [
    {
     "name": "stdout",
     "output_type": "stream",
     "text": [
      "1900.0\n",
      "1700.0\n"
     ]
    }
   ],
   "source": [
    "##Iqr calculations for outlier detection\n",
    "                 \n",
    "per25=new_df['CC'].quantile(0.25)\n",
    "per75=new_df['CC'].quantile(0.75)\n",
    "\n",
    "iqr=per75-per25\n",
    "\n",
    "upper_limit= per75+1.5*iqr\n",
    "lower_limit= per25+1.5*iqr\n",
    "\n",
    "\n",
    "print(upper_limit)\n",
    "print(lower_limit)\n",
    "\n",
    "\n",
    "# Finding the outliers\n",
    "\n",
    "new_df[new_df['CC']>upper_limit]\n",
    "\n",
    "\n",
    "#Dropping the outliers\n",
    "\n",
    "new_df=new_df[new_df['CC']<upper_limit]"
   ]
  },
  {
   "cell_type": "code",
   "execution_count": 29,
   "id": "5ddf46c9",
   "metadata": {},
   "outputs": [
    {
     "data": {
      "text/html": [
       "<div>\n",
       "<style scoped>\n",
       "    .dataframe tbody tr th:only-of-type {\n",
       "        vertical-align: middle;\n",
       "    }\n",
       "\n",
       "    .dataframe tbody tr th {\n",
       "        vertical-align: top;\n",
       "    }\n",
       "\n",
       "    .dataframe thead th {\n",
       "        text-align: right;\n",
       "    }\n",
       "</style>\n",
       "<table border=\"1\" class=\"dataframe\">\n",
       "  <thead>\n",
       "    <tr style=\"text-align: right;\">\n",
       "      <th></th>\n",
       "      <th>AGE</th>\n",
       "      <th>KM</th>\n",
       "      <th>HP</th>\n",
       "      <th>CC</th>\n",
       "      <th>Doors</th>\n",
       "      <th>Gears</th>\n",
       "      <th>Quarterly Tax</th>\n",
       "      <th>Weight</th>\n",
       "      <th>Price</th>\n",
       "    </tr>\n",
       "  </thead>\n",
       "  <tbody>\n",
       "  </tbody>\n",
       "</table>\n",
       "</div>"
      ],
      "text/plain": [
       "Empty DataFrame\n",
       "Columns: [AGE, KM, HP, CC, Doors, Gears, Quarterly Tax, Weight, Price]\n",
       "Index: []"
      ]
     },
     "execution_count": 29,
     "metadata": {},
     "output_type": "execute_result"
    }
   ],
   "source": [
    "new_df[new_df['CC']>upper_limit]# No ouliers"
   ]
  },
  {
   "cell_type": "code",
   "execution_count": 30,
   "id": "a2eb701c",
   "metadata": {},
   "outputs": [
    {
     "data": {
      "text/plain": [
       "array([192, 110,  97,  71,  98,  69, 116,  86, 107], dtype=int64)"
      ]
     },
     "execution_count": 30,
     "metadata": {},
     "output_type": "execute_result"
    }
   ],
   "source": [
    "new_df['HP'].unique()"
   ]
  },
  {
   "cell_type": "code",
   "execution_count": 31,
   "id": "daa89810",
   "metadata": {},
   "outputs": [
    {
     "data": {
      "text/plain": [
       "array([27, 25, 22, 31, 32, 28, 30, 24, 29, 26, 23, 19, 20, 11, 18, 13, 14,\n",
       "       17,  7, 16, 15, 10, 12,  9,  8,  6,  2,  1, 44, 37, 42, 39, 40, 43,\n",
       "       41, 34, 33, 38, 35, 36, 55, 51, 48, 49, 56, 50, 54, 53, 52, 47, 45,\n",
       "       46, 64, 68, 59, 61, 67, 60, 66, 57, 65, 58, 63, 62, 71, 75, 77, 80,\n",
       "       79, 73, 74, 78, 72, 76, 70, 69], dtype=int64)"
      ]
     },
     "execution_count": 31,
     "metadata": {},
     "output_type": "execute_result"
    }
   ],
   "source": [
    "new_df['AGE'].unique()"
   ]
  },
  {
   "cell_type": "code",
   "execution_count": 32,
   "id": "612bf2d3",
   "metadata": {},
   "outputs": [
    {
     "data": {
      "text/plain": [
       "array([3, 5, 4, 2], dtype=int64)"
      ]
     },
     "execution_count": 32,
     "metadata": {},
     "output_type": "execute_result"
    }
   ],
   "source": [
    "new_df[\"Doors\"].unique()"
   ]
  },
  {
   "cell_type": "code",
   "execution_count": 33,
   "id": "a5b2521e",
   "metadata": {},
   "outputs": [
    {
     "data": {
      "text/plain": [
       "array([5, 6, 3, 4], dtype=int64)"
      ]
     },
     "execution_count": 33,
     "metadata": {},
     "output_type": "execute_result"
    }
   ],
   "source": [
    "new_df['Gears'].unique()"
   ]
  },
  {
   "cell_type": "code",
   "execution_count": 34,
   "id": "0013b342",
   "metadata": {},
   "outputs": [
    {
     "data": {
      "text/plain": [
       "Index(['AGE', 'KM', 'HP', 'CC', 'Doors', 'Gears', 'Quarterly Tax', 'Weight',\n",
       "       'Price'],\n",
       "      dtype='object')"
      ]
     },
     "execution_count": 34,
     "metadata": {},
     "output_type": "execute_result"
    }
   ],
   "source": [
    "new_df.columns\n"
   ]
  },
  {
   "cell_type": "code",
   "execution_count": 35,
   "id": "a0af55ba",
   "metadata": {},
   "outputs": [
    {
     "data": {
      "text/html": [
       "<div>\n",
       "<style scoped>\n",
       "    .dataframe tbody tr th:only-of-type {\n",
       "        vertical-align: middle;\n",
       "    }\n",
       "\n",
       "    .dataframe tbody tr th {\n",
       "        vertical-align: top;\n",
       "    }\n",
       "\n",
       "    .dataframe thead th {\n",
       "        text-align: right;\n",
       "    }\n",
       "</style>\n",
       "<table border=\"1\" class=\"dataframe\">\n",
       "  <thead>\n",
       "    <tr style=\"text-align: right;\">\n",
       "      <th></th>\n",
       "      <th>AGE</th>\n",
       "      <th>KM</th>\n",
       "      <th>HP</th>\n",
       "      <th>CC</th>\n",
       "      <th>Doors</th>\n",
       "      <th>Gears</th>\n",
       "      <th>Quarterly Tax</th>\n",
       "      <th>Weight</th>\n",
       "      <th>Price</th>\n",
       "    </tr>\n",
       "  </thead>\n",
       "  <tbody>\n",
       "    <tr>\n",
       "      <th>645</th>\n",
       "      <td>68</td>\n",
       "      <td>117955</td>\n",
       "      <td>110</td>\n",
       "      <td>1600</td>\n",
       "      <td>4</td>\n",
       "      <td>5</td>\n",
       "      <td>85</td>\n",
       "      <td>1065</td>\n",
       "      <td>8600</td>\n",
       "    </tr>\n",
       "    <tr>\n",
       "      <th>108</th>\n",
       "      <td>20</td>\n",
       "      <td>7187</td>\n",
       "      <td>110</td>\n",
       "      <td>1600</td>\n",
       "      <td>3</td>\n",
       "      <td>5</td>\n",
       "      <td>85</td>\n",
       "      <td>1105</td>\n",
       "      <td>17950</td>\n",
       "    </tr>\n",
       "    <tr>\n",
       "      <th>1348</th>\n",
       "      <td>79</td>\n",
       "      <td>61165</td>\n",
       "      <td>107</td>\n",
       "      <td>1600</td>\n",
       "      <td>3</td>\n",
       "      <td>5</td>\n",
       "      <td>85</td>\n",
       "      <td>1080</td>\n",
       "      <td>9000</td>\n",
       "    </tr>\n",
       "    <tr>\n",
       "      <th>1312</th>\n",
       "      <td>79</td>\n",
       "      <td>68945</td>\n",
       "      <td>110</td>\n",
       "      <td>1600</td>\n",
       "      <td>5</td>\n",
       "      <td>5</td>\n",
       "      <td>85</td>\n",
       "      <td>1085</td>\n",
       "      <td>9950</td>\n",
       "    </tr>\n",
       "    <tr>\n",
       "      <th>937</th>\n",
       "      <td>68</td>\n",
       "      <td>54875</td>\n",
       "      <td>110</td>\n",
       "      <td>1600</td>\n",
       "      <td>5</td>\n",
       "      <td>5</td>\n",
       "      <td>85</td>\n",
       "      <td>1070</td>\n",
       "      <td>8950</td>\n",
       "    </tr>\n",
       "    <tr>\n",
       "      <th>596</th>\n",
       "      <td>50</td>\n",
       "      <td>17619</td>\n",
       "      <td>110</td>\n",
       "      <td>1600</td>\n",
       "      <td>4</td>\n",
       "      <td>5</td>\n",
       "      <td>69</td>\n",
       "      <td>1030</td>\n",
       "      <td>10450</td>\n",
       "    </tr>\n",
       "    <tr>\n",
       "      <th>1283</th>\n",
       "      <td>76</td>\n",
       "      <td>73116</td>\n",
       "      <td>110</td>\n",
       "      <td>1600</td>\n",
       "      <td>5</td>\n",
       "      <td>5</td>\n",
       "      <td>85</td>\n",
       "      <td>1075</td>\n",
       "      <td>8950</td>\n",
       "    </tr>\n",
       "    <tr>\n",
       "      <th>719</th>\n",
       "      <td>68</td>\n",
       "      <td>88807</td>\n",
       "      <td>110</td>\n",
       "      <td>1600</td>\n",
       "      <td>3</td>\n",
       "      <td>5</td>\n",
       "      <td>69</td>\n",
       "      <td>1050</td>\n",
       "      <td>8500</td>\n",
       "    </tr>\n",
       "    <tr>\n",
       "      <th>703</th>\n",
       "      <td>65</td>\n",
       "      <td>93428</td>\n",
       "      <td>110</td>\n",
       "      <td>1600</td>\n",
       "      <td>5</td>\n",
       "      <td>5</td>\n",
       "      <td>85</td>\n",
       "      <td>1075</td>\n",
       "      <td>10500</td>\n",
       "    </tr>\n",
       "    <tr>\n",
       "      <th>942</th>\n",
       "      <td>57</td>\n",
       "      <td>54000</td>\n",
       "      <td>110</td>\n",
       "      <td>1600</td>\n",
       "      <td>5</td>\n",
       "      <td>5</td>\n",
       "      <td>85</td>\n",
       "      <td>1075</td>\n",
       "      <td>10500</td>\n",
       "    </tr>\n",
       "    <tr>\n",
       "      <th>674</th>\n",
       "      <td>68</td>\n",
       "      <td>104000</td>\n",
       "      <td>86</td>\n",
       "      <td>1300</td>\n",
       "      <td>3</td>\n",
       "      <td>5</td>\n",
       "      <td>19</td>\n",
       "      <td>1015</td>\n",
       "      <td>6900</td>\n",
       "    </tr>\n",
       "    <tr>\n",
       "      <th>592</th>\n",
       "      <td>47</td>\n",
       "      <td>26221</td>\n",
       "      <td>97</td>\n",
       "      <td>1400</td>\n",
       "      <td>3</td>\n",
       "      <td>5</td>\n",
       "      <td>69</td>\n",
       "      <td>1025</td>\n",
       "      <td>9950</td>\n",
       "    </tr>\n",
       "    <tr>\n",
       "      <th>11</th>\n",
       "      <td>22</td>\n",
       "      <td>43610</td>\n",
       "      <td>192</td>\n",
       "      <td>1800</td>\n",
       "      <td>3</td>\n",
       "      <td>6</td>\n",
       "      <td>100</td>\n",
       "      <td>1185</td>\n",
       "      <td>19950</td>\n",
       "    </tr>\n",
       "    <tr>\n",
       "      <th>301</th>\n",
       "      <td>41</td>\n",
       "      <td>39659</td>\n",
       "      <td>110</td>\n",
       "      <td>1600</td>\n",
       "      <td>3</td>\n",
       "      <td>5</td>\n",
       "      <td>69</td>\n",
       "      <td>1045</td>\n",
       "      <td>12500</td>\n",
       "    </tr>\n",
       "    <tr>\n",
       "      <th>75</th>\n",
       "      <td>23</td>\n",
       "      <td>28000</td>\n",
       "      <td>110</td>\n",
       "      <td>1600</td>\n",
       "      <td>5</td>\n",
       "      <td>5</td>\n",
       "      <td>85</td>\n",
       "      <td>1115</td>\n",
       "      <td>16950</td>\n",
       "    </tr>\n",
       "    <tr>\n",
       "      <th>640</th>\n",
       "      <td>68</td>\n",
       "      <td>119541</td>\n",
       "      <td>110</td>\n",
       "      <td>1600</td>\n",
       "      <td>3</td>\n",
       "      <td>5</td>\n",
       "      <td>85</td>\n",
       "      <td>1055</td>\n",
       "      <td>9950</td>\n",
       "    </tr>\n",
       "    <tr>\n",
       "      <th>940</th>\n",
       "      <td>61</td>\n",
       "      <td>54125</td>\n",
       "      <td>110</td>\n",
       "      <td>1600</td>\n",
       "      <td>5</td>\n",
       "      <td>5</td>\n",
       "      <td>69</td>\n",
       "      <td>1035</td>\n",
       "      <td>9450</td>\n",
       "    </tr>\n",
       "    <tr>\n",
       "      <th>1129</th>\n",
       "      <td>71</td>\n",
       "      <td>107516</td>\n",
       "      <td>110</td>\n",
       "      <td>1600</td>\n",
       "      <td>3</td>\n",
       "      <td>5</td>\n",
       "      <td>69</td>\n",
       "      <td>1050</td>\n",
       "      <td>7750</td>\n",
       "    </tr>\n",
       "    <tr>\n",
       "      <th>1391</th>\n",
       "      <td>70</td>\n",
       "      <td>51874</td>\n",
       "      <td>86</td>\n",
       "      <td>1300</td>\n",
       "      <td>4</td>\n",
       "      <td>5</td>\n",
       "      <td>69</td>\n",
       "      <td>1000</td>\n",
       "      <td>8950</td>\n",
       "    </tr>\n",
       "    <tr>\n",
       "      <th>1231</th>\n",
       "      <td>76</td>\n",
       "      <td>83405</td>\n",
       "      <td>110</td>\n",
       "      <td>1600</td>\n",
       "      <td>5</td>\n",
       "      <td>5</td>\n",
       "      <td>85</td>\n",
       "      <td>1070</td>\n",
       "      <td>6750</td>\n",
       "    </tr>\n",
       "    <tr>\n",
       "      <th>975</th>\n",
       "      <td>65</td>\n",
       "      <td>47014</td>\n",
       "      <td>86</td>\n",
       "      <td>1300</td>\n",
       "      <td>3</td>\n",
       "      <td>5</td>\n",
       "      <td>69</td>\n",
       "      <td>1015</td>\n",
       "      <td>8950</td>\n",
       "    </tr>\n",
       "    <tr>\n",
       "      <th>420</th>\n",
       "      <td>49</td>\n",
       "      <td>91340</td>\n",
       "      <td>110</td>\n",
       "      <td>1600</td>\n",
       "      <td>3</td>\n",
       "      <td>5</td>\n",
       "      <td>85</td>\n",
       "      <td>1055</td>\n",
       "      <td>10500</td>\n",
       "    </tr>\n",
       "    <tr>\n",
       "      <th>595</th>\n",
       "      <td>56</td>\n",
       "      <td>19313</td>\n",
       "      <td>97</td>\n",
       "      <td>1400</td>\n",
       "      <td>3</td>\n",
       "      <td>5</td>\n",
       "      <td>69</td>\n",
       "      <td>1025</td>\n",
       "      <td>10500</td>\n",
       "    </tr>\n",
       "    <tr>\n",
       "      <th>175</th>\n",
       "      <td>8</td>\n",
       "      <td>8574</td>\n",
       "      <td>110</td>\n",
       "      <td>1600</td>\n",
       "      <td>5</td>\n",
       "      <td>5</td>\n",
       "      <td>85</td>\n",
       "      <td>1130</td>\n",
       "      <td>19950</td>\n",
       "    </tr>\n",
       "    <tr>\n",
       "      <th>678</th>\n",
       "      <td>68</td>\n",
       "      <td>102494</td>\n",
       "      <td>110</td>\n",
       "      <td>1600</td>\n",
       "      <td>5</td>\n",
       "      <td>5</td>\n",
       "      <td>85</td>\n",
       "      <td>1090</td>\n",
       "      <td>9895</td>\n",
       "    </tr>\n",
       "    <tr>\n",
       "      <th>697</th>\n",
       "      <td>67</td>\n",
       "      <td>95750</td>\n",
       "      <td>110</td>\n",
       "      <td>1600</td>\n",
       "      <td>5</td>\n",
       "      <td>5</td>\n",
       "      <td>85</td>\n",
       "      <td>1070</td>\n",
       "      <td>9250</td>\n",
       "    </tr>\n",
       "    <tr>\n",
       "      <th>498</th>\n",
       "      <td>56</td>\n",
       "      <td>58142</td>\n",
       "      <td>110</td>\n",
       "      <td>1600</td>\n",
       "      <td>5</td>\n",
       "      <td>5</td>\n",
       "      <td>85</td>\n",
       "      <td>1080</td>\n",
       "      <td>11250</td>\n",
       "    </tr>\n",
       "    <tr>\n",
       "      <th>758</th>\n",
       "      <td>65</td>\n",
       "      <td>80086</td>\n",
       "      <td>110</td>\n",
       "      <td>1600</td>\n",
       "      <td>4</td>\n",
       "      <td>5</td>\n",
       "      <td>69</td>\n",
       "      <td>1035</td>\n",
       "      <td>8250</td>\n",
       "    </tr>\n",
       "    <tr>\n",
       "      <th>1384</th>\n",
       "      <td>77</td>\n",
       "      <td>52900</td>\n",
       "      <td>110</td>\n",
       "      <td>1600</td>\n",
       "      <td>4</td>\n",
       "      <td>5</td>\n",
       "      <td>19</td>\n",
       "      <td>1075</td>\n",
       "      <td>9450</td>\n",
       "    </tr>\n",
       "    <tr>\n",
       "      <th>485</th>\n",
       "      <td>50</td>\n",
       "      <td>62280</td>\n",
       "      <td>97</td>\n",
       "      <td>1400</td>\n",
       "      <td>5</td>\n",
       "      <td>5</td>\n",
       "      <td>85</td>\n",
       "      <td>1060</td>\n",
       "      <td>10500</td>\n",
       "    </tr>\n",
       "    <tr>\n",
       "      <th>407</th>\n",
       "      <td>47</td>\n",
       "      <td>102352</td>\n",
       "      <td>110</td>\n",
       "      <td>1600</td>\n",
       "      <td>5</td>\n",
       "      <td>5</td>\n",
       "      <td>85</td>\n",
       "      <td>1080</td>\n",
       "      <td>11900</td>\n",
       "    </tr>\n",
       "    <tr>\n",
       "      <th>1208</th>\n",
       "      <td>70</td>\n",
       "      <td>87000</td>\n",
       "      <td>110</td>\n",
       "      <td>1600</td>\n",
       "      <td>4</td>\n",
       "      <td>5</td>\n",
       "      <td>69</td>\n",
       "      <td>1035</td>\n",
       "      <td>7950</td>\n",
       "    </tr>\n",
       "    <tr>\n",
       "      <th>685</th>\n",
       "      <td>61</td>\n",
       "      <td>100748</td>\n",
       "      <td>110</td>\n",
       "      <td>1600</td>\n",
       "      <td>5</td>\n",
       "      <td>5</td>\n",
       "      <td>85</td>\n",
       "      <td>1070</td>\n",
       "      <td>8950</td>\n",
       "    </tr>\n",
       "    <tr>\n",
       "      <th>1235</th>\n",
       "      <td>71</td>\n",
       "      <td>82700</td>\n",
       "      <td>110</td>\n",
       "      <td>1600</td>\n",
       "      <td>3</td>\n",
       "      <td>5</td>\n",
       "      <td>69</td>\n",
       "      <td>1050</td>\n",
       "      <td>7950</td>\n",
       "    </tr>\n",
       "    <tr>\n",
       "      <th>21</th>\n",
       "      <td>29</td>\n",
       "      <td>43905</td>\n",
       "      <td>110</td>\n",
       "      <td>1600</td>\n",
       "      <td>3</td>\n",
       "      <td>5</td>\n",
       "      <td>100</td>\n",
       "      <td>1170</td>\n",
       "      <td>16950</td>\n",
       "    </tr>\n",
       "    <tr>\n",
       "      <th>739</th>\n",
       "      <td>68</td>\n",
       "      <td>83000</td>\n",
       "      <td>107</td>\n",
       "      <td>1600</td>\n",
       "      <td>5</td>\n",
       "      <td>5</td>\n",
       "      <td>85</td>\n",
       "      <td>1100</td>\n",
       "      <td>9800</td>\n",
       "    </tr>\n",
       "    <tr>\n",
       "      <th>576</th>\n",
       "      <td>46</td>\n",
       "      <td>34000</td>\n",
       "      <td>110</td>\n",
       "      <td>1600</td>\n",
       "      <td>5</td>\n",
       "      <td>5</td>\n",
       "      <td>85</td>\n",
       "      <td>1075</td>\n",
       "      <td>11500</td>\n",
       "    </tr>\n",
       "    <tr>\n",
       "      <th>476</th>\n",
       "      <td>54</td>\n",
       "      <td>63792</td>\n",
       "      <td>110</td>\n",
       "      <td>1600</td>\n",
       "      <td>5</td>\n",
       "      <td>5</td>\n",
       "      <td>85</td>\n",
       "      <td>1075</td>\n",
       "      <td>10250</td>\n",
       "    </tr>\n",
       "    <tr>\n",
       "      <th>344</th>\n",
       "      <td>33</td>\n",
       "      <td>28715</td>\n",
       "      <td>110</td>\n",
       "      <td>1600</td>\n",
       "      <td>5</td>\n",
       "      <td>5</td>\n",
       "      <td>85</td>\n",
       "      <td>1075</td>\n",
       "      <td>12950</td>\n",
       "    </tr>\n",
       "    <tr>\n",
       "      <th>1088</th>\n",
       "      <td>78</td>\n",
       "      <td>130000</td>\n",
       "      <td>86</td>\n",
       "      <td>1300</td>\n",
       "      <td>5</td>\n",
       "      <td>5</td>\n",
       "      <td>19</td>\n",
       "      <td>1015</td>\n",
       "      <td>6500</td>\n",
       "    </tr>\n",
       "    <tr>\n",
       "      <th>804</th>\n",
       "      <td>64</td>\n",
       "      <td>73300</td>\n",
       "      <td>86</td>\n",
       "      <td>1300</td>\n",
       "      <td>3</td>\n",
       "      <td>5</td>\n",
       "      <td>69</td>\n",
       "      <td>1015</td>\n",
       "      <td>8900</td>\n",
       "    </tr>\n",
       "    <tr>\n",
       "      <th>1164</th>\n",
       "      <td>73</td>\n",
       "      <td>97494</td>\n",
       "      <td>110</td>\n",
       "      <td>1600</td>\n",
       "      <td>5</td>\n",
       "      <td>5</td>\n",
       "      <td>85</td>\n",
       "      <td>1085</td>\n",
       "      <td>8950</td>\n",
       "    </tr>\n",
       "    <tr>\n",
       "      <th>439</th>\n",
       "      <td>49</td>\n",
       "      <td>77648</td>\n",
       "      <td>110</td>\n",
       "      <td>1600</td>\n",
       "      <td>4</td>\n",
       "      <td>5</td>\n",
       "      <td>69</td>\n",
       "      <td>1030</td>\n",
       "      <td>12500</td>\n",
       "    </tr>\n",
       "    <tr>\n",
       "      <th>491</th>\n",
       "      <td>54</td>\n",
       "      <td>60239</td>\n",
       "      <td>110</td>\n",
       "      <td>1600</td>\n",
       "      <td>5</td>\n",
       "      <td>5</td>\n",
       "      <td>85</td>\n",
       "      <td>1075</td>\n",
       "      <td>10750</td>\n",
       "    </tr>\n",
       "    <tr>\n",
       "      <th>765</th>\n",
       "      <td>60</td>\n",
       "      <td>79150</td>\n",
       "      <td>110</td>\n",
       "      <td>1600</td>\n",
       "      <td>5</td>\n",
       "      <td>5</td>\n",
       "      <td>85</td>\n",
       "      <td>1075</td>\n",
       "      <td>10500</td>\n",
       "    </tr>\n",
       "    <tr>\n",
       "      <th>756</th>\n",
       "      <td>65</td>\n",
       "      <td>80153</td>\n",
       "      <td>110</td>\n",
       "      <td>1600</td>\n",
       "      <td>5</td>\n",
       "      <td>5</td>\n",
       "      <td>85</td>\n",
       "      <td>1070</td>\n",
       "      <td>9950</td>\n",
       "    </tr>\n",
       "    <tr>\n",
       "      <th>38</th>\n",
       "      <td>32</td>\n",
       "      <td>25329</td>\n",
       "      <td>97</td>\n",
       "      <td>1400</td>\n",
       "      <td>3</td>\n",
       "      <td>5</td>\n",
       "      <td>85</td>\n",
       "      <td>1100</td>\n",
       "      <td>15750</td>\n",
       "    </tr>\n",
       "    <tr>\n",
       "      <th>514</th>\n",
       "      <td>56</td>\n",
       "      <td>52448</td>\n",
       "      <td>97</td>\n",
       "      <td>1400</td>\n",
       "      <td>3</td>\n",
       "      <td>5</td>\n",
       "      <td>69</td>\n",
       "      <td>1025</td>\n",
       "      <td>10500</td>\n",
       "    </tr>\n",
       "    <tr>\n",
       "      <th>1431</th>\n",
       "      <td>69</td>\n",
       "      <td>20544</td>\n",
       "      <td>86</td>\n",
       "      <td>1300</td>\n",
       "      <td>3</td>\n",
       "      <td>5</td>\n",
       "      <td>69</td>\n",
       "      <td>1025</td>\n",
       "      <td>7500</td>\n",
       "    </tr>\n",
       "    <tr>\n",
       "      <th>1180</th>\n",
       "      <td>77</td>\n",
       "      <td>93000</td>\n",
       "      <td>110</td>\n",
       "      <td>1600</td>\n",
       "      <td>5</td>\n",
       "      <td>5</td>\n",
       "      <td>85</td>\n",
       "      <td>1075</td>\n",
       "      <td>8250</td>\n",
       "    </tr>\n",
       "  </tbody>\n",
       "</table>\n",
       "</div>"
      ],
      "text/plain": [
       "      AGE      KM   HP    CC  Doors  Gears  Quarterly Tax  Weight  Price\n",
       "645    68  117955  110  1600      4      5             85    1065   8600\n",
       "108    20    7187  110  1600      3      5             85    1105  17950\n",
       "1348   79   61165  107  1600      3      5             85    1080   9000\n",
       "1312   79   68945  110  1600      5      5             85    1085   9950\n",
       "937    68   54875  110  1600      5      5             85    1070   8950\n",
       "596    50   17619  110  1600      4      5             69    1030  10450\n",
       "1283   76   73116  110  1600      5      5             85    1075   8950\n",
       "719    68   88807  110  1600      3      5             69    1050   8500\n",
       "703    65   93428  110  1600      5      5             85    1075  10500\n",
       "942    57   54000  110  1600      5      5             85    1075  10500\n",
       "674    68  104000   86  1300      3      5             19    1015   6900\n",
       "592    47   26221   97  1400      3      5             69    1025   9950\n",
       "11     22   43610  192  1800      3      6            100    1185  19950\n",
       "301    41   39659  110  1600      3      5             69    1045  12500\n",
       "75     23   28000  110  1600      5      5             85    1115  16950\n",
       "640    68  119541  110  1600      3      5             85    1055   9950\n",
       "940    61   54125  110  1600      5      5             69    1035   9450\n",
       "1129   71  107516  110  1600      3      5             69    1050   7750\n",
       "1391   70   51874   86  1300      4      5             69    1000   8950\n",
       "1231   76   83405  110  1600      5      5             85    1070   6750\n",
       "975    65   47014   86  1300      3      5             69    1015   8950\n",
       "420    49   91340  110  1600      3      5             85    1055  10500\n",
       "595    56   19313   97  1400      3      5             69    1025  10500\n",
       "175     8    8574  110  1600      5      5             85    1130  19950\n",
       "678    68  102494  110  1600      5      5             85    1090   9895\n",
       "697    67   95750  110  1600      5      5             85    1070   9250\n",
       "498    56   58142  110  1600      5      5             85    1080  11250\n",
       "758    65   80086  110  1600      4      5             69    1035   8250\n",
       "1384   77   52900  110  1600      4      5             19    1075   9450\n",
       "485    50   62280   97  1400      5      5             85    1060  10500\n",
       "407    47  102352  110  1600      5      5             85    1080  11900\n",
       "1208   70   87000  110  1600      4      5             69    1035   7950\n",
       "685    61  100748  110  1600      5      5             85    1070   8950\n",
       "1235   71   82700  110  1600      3      5             69    1050   7950\n",
       "21     29   43905  110  1600      3      5            100    1170  16950\n",
       "739    68   83000  107  1600      5      5             85    1100   9800\n",
       "576    46   34000  110  1600      5      5             85    1075  11500\n",
       "476    54   63792  110  1600      5      5             85    1075  10250\n",
       "344    33   28715  110  1600      5      5             85    1075  12950\n",
       "1088   78  130000   86  1300      5      5             19    1015   6500\n",
       "804    64   73300   86  1300      3      5             69    1015   8900\n",
       "1164   73   97494  110  1600      5      5             85    1085   8950\n",
       "439    49   77648  110  1600      4      5             69    1030  12500\n",
       "491    54   60239  110  1600      5      5             85    1075  10750\n",
       "765    60   79150  110  1600      5      5             85    1075  10500\n",
       "756    65   80153  110  1600      5      5             85    1070   9950\n",
       "38     32   25329   97  1400      3      5             85    1100  15750\n",
       "514    56   52448   97  1400      3      5             69    1025  10500\n",
       "1431   69   20544   86  1300      3      5             69    1025   7500\n",
       "1180   77   93000  110  1600      5      5             85    1075   8250"
      ]
     },
     "execution_count": 35,
     "metadata": {},
     "output_type": "execute_result"
    }
   ],
   "source": [
    "new_df.sample(50\n",
    "             )"
   ]
  },
  {
   "cell_type": "code",
   "execution_count": 36,
   "id": "21f020e5",
   "metadata": {},
   "outputs": [
    {
     "data": {
      "text/plain": [
       "85     612\n",
       "69     549\n",
       "19      71\n",
       "100     18\n",
       "197     12\n",
       "72       3\n",
       "64       2\n",
       "163      1\n",
       "Name: Quarterly Tax, dtype: int64"
      ]
     },
     "execution_count": 36,
     "metadata": {},
     "output_type": "execute_result"
    }
   ],
   "source": [
    "new_df[\"Quarterly Tax\"].value_counts()"
   ]
  },
  {
   "cell_type": "code",
   "execution_count": 37,
   "id": "4e76c050",
   "metadata": {},
   "outputs": [
    {
     "name": "stderr",
     "output_type": "stream",
     "text": [
      "C:\\Users\\ppran\\anaconda3\\lib\\site-packages\\seaborn\\_decorators.py:36: FutureWarning: Pass the following variable as a keyword arg: x. From version 0.12, the only valid positional argument will be `data`, and passing other arguments without an explicit keyword will result in an error or misinterpretation.\n",
      "  warnings.warn(\n"
     ]
    },
    {
     "data": {
      "text/plain": [
       "<AxesSubplot:xlabel='Quarterly Tax'>"
      ]
     },
     "execution_count": 37,
     "metadata": {},
     "output_type": "execute_result"
    },
    {
     "data": {
      "image/png": "[encoded data removed]",
      "text/plain": [
       "<Figure size 432x288 with 1 Axes>"
      ]
     },
     "metadata": {
      "needs_background": "light"
     },
     "output_type": "display_data"
    }
   ],
   "source": [
    "sns.boxplot(new_df[\"Quarterly Tax\"])"
   ]
  },
  {
   "cell_type": "code",
   "execution_count": 38,
   "id": "14b78cf3",
   "metadata": {},
   "outputs": [
    {
     "name": "stdout",
     "output_type": "stream",
     "text": [
      "109.0\n",
      "93.0\n"
     ]
    }
   ],
   "source": [
    "##Iqr calculations for outlier detection\n",
    "                 \n",
    "per25=new_df[\"Quarterly Tax\"].quantile(0.25)\n",
    "per75=new_df[\"Quarterly Tax\"].quantile(0.75)\n",
    "\n",
    "iqr=per75-per25\n",
    "\n",
    "upper_limit= per75+1.5*iqr\n",
    "lower_limit= per25+1.5*iqr\n",
    "\n",
    "\n",
    "print(upper_limit)\n",
    "print(lower_limit)\n",
    "\n",
    "\n",
    "# Finding the outliers\n",
    "\n",
    "new_df[new_df[\"Quarterly Tax\"]>upper_limit]\n",
    "\n",
    "\n",
    "\n",
    "#Dropping the outliers\n",
    "\n",
    "new_df=new_df[new_df[\"Quarterly Tax\"]<upper_limit]\n"
   ]
  },
  {
   "cell_type": "code",
   "execution_count": 39,
   "id": "75886f20",
   "metadata": {},
   "outputs": [
    {
     "data": {
      "text/html": [
       "<div>\n",
       "<style scoped>\n",
       "    .dataframe tbody tr th:only-of-type {\n",
       "        vertical-align: middle;\n",
       "    }\n",
       "\n",
       "    .dataframe tbody tr th {\n",
       "        vertical-align: top;\n",
       "    }\n",
       "\n",
       "    .dataframe thead th {\n",
       "        text-align: right;\n",
       "    }\n",
       "</style>\n",
       "<table border=\"1\" class=\"dataframe\">\n",
       "  <thead>\n",
       "    <tr style=\"text-align: right;\">\n",
       "      <th></th>\n",
       "      <th>AGE</th>\n",
       "      <th>KM</th>\n",
       "      <th>HP</th>\n",
       "      <th>CC</th>\n",
       "      <th>Doors</th>\n",
       "      <th>Gears</th>\n",
       "      <th>Quarterly Tax</th>\n",
       "      <th>Weight</th>\n",
       "      <th>Price</th>\n",
       "    </tr>\n",
       "  </thead>\n",
       "  <tbody>\n",
       "  </tbody>\n",
       "</table>\n",
       "</div>"
      ],
      "text/plain": [
       "Empty DataFrame\n",
       "Columns: [AGE, KM, HP, CC, Doors, Gears, Quarterly Tax, Weight, Price]\n",
       "Index: []"
      ]
     },
     "execution_count": 39,
     "metadata": {},
     "output_type": "execute_result"
    }
   ],
   "source": [
    "\n",
    "new_df[new_df[\"Quarterly Tax\"]>upper_limit]# No outliers "
   ]
  },
  {
   "cell_type": "code",
   "execution_count": 40,
   "id": "627e1138",
   "metadata": {},
   "outputs": [
    {
     "data": {
      "text/html": [
       "<div>\n",
       "<style scoped>\n",
       "    .dataframe tbody tr th:only-of-type {\n",
       "        vertical-align: middle;\n",
       "    }\n",
       "\n",
       "    .dataframe tbody tr th {\n",
       "        vertical-align: top;\n",
       "    }\n",
       "\n",
       "    .dataframe thead th {\n",
       "        text-align: right;\n",
       "    }\n",
       "</style>\n",
       "<table border=\"1\" class=\"dataframe\">\n",
       "  <thead>\n",
       "    <tr style=\"text-align: right;\">\n",
       "      <th></th>\n",
       "      <th>AGE</th>\n",
       "      <th>KM</th>\n",
       "      <th>HP</th>\n",
       "      <th>CC</th>\n",
       "      <th>Doors</th>\n",
       "      <th>Gears</th>\n",
       "      <th>Quarterly Tax</th>\n",
       "      <th>Weight</th>\n",
       "      <th>Price</th>\n",
       "    </tr>\n",
       "  </thead>\n",
       "  <tbody>\n",
       "    <tr>\n",
       "      <th>17</th>\n",
       "      <td>24</td>\n",
       "      <td>21716</td>\n",
       "      <td>110</td>\n",
       "      <td>1600</td>\n",
       "      <td>3</td>\n",
       "      <td>5</td>\n",
       "      <td>85</td>\n",
       "      <td>1105</td>\n",
       "      <td>17950</td>\n",
       "    </tr>\n",
       "    <tr>\n",
       "      <th>18</th>\n",
       "      <td>24</td>\n",
       "      <td>25563</td>\n",
       "      <td>110</td>\n",
       "      <td>1600</td>\n",
       "      <td>3</td>\n",
       "      <td>5</td>\n",
       "      <td>19</td>\n",
       "      <td>1065</td>\n",
       "      <td>16750</td>\n",
       "    </tr>\n",
       "    <tr>\n",
       "      <th>19</th>\n",
       "      <td>30</td>\n",
       "      <td>64359</td>\n",
       "      <td>110</td>\n",
       "      <td>1600</td>\n",
       "      <td>3</td>\n",
       "      <td>5</td>\n",
       "      <td>85</td>\n",
       "      <td>1105</td>\n",
       "      <td>16950</td>\n",
       "    </tr>\n",
       "    <tr>\n",
       "      <th>20</th>\n",
       "      <td>30</td>\n",
       "      <td>67660</td>\n",
       "      <td>110</td>\n",
       "      <td>1600</td>\n",
       "      <td>3</td>\n",
       "      <td>5</td>\n",
       "      <td>85</td>\n",
       "      <td>1105</td>\n",
       "      <td>15950</td>\n",
       "    </tr>\n",
       "    <tr>\n",
       "      <th>22</th>\n",
       "      <td>28</td>\n",
       "      <td>56349</td>\n",
       "      <td>110</td>\n",
       "      <td>1600</td>\n",
       "      <td>3</td>\n",
       "      <td>5</td>\n",
       "      <td>85</td>\n",
       "      <td>1120</td>\n",
       "      <td>15950</td>\n",
       "    </tr>\n",
       "    <tr>\n",
       "      <th>...</th>\n",
       "      <td>...</td>\n",
       "      <td>...</td>\n",
       "      <td>...</td>\n",
       "      <td>...</td>\n",
       "      <td>...</td>\n",
       "      <td>...</td>\n",
       "      <td>...</td>\n",
       "      <td>...</td>\n",
       "      <td>...</td>\n",
       "    </tr>\n",
       "    <tr>\n",
       "      <th>1431</th>\n",
       "      <td>69</td>\n",
       "      <td>20544</td>\n",
       "      <td>86</td>\n",
       "      <td>1300</td>\n",
       "      <td>3</td>\n",
       "      <td>5</td>\n",
       "      <td>69</td>\n",
       "      <td>1025</td>\n",
       "      <td>7500</td>\n",
       "    </tr>\n",
       "    <tr>\n",
       "      <th>1432</th>\n",
       "      <td>72</td>\n",
       "      <td>19000</td>\n",
       "      <td>86</td>\n",
       "      <td>1300</td>\n",
       "      <td>3</td>\n",
       "      <td>5</td>\n",
       "      <td>69</td>\n",
       "      <td>1015</td>\n",
       "      <td>10845</td>\n",
       "    </tr>\n",
       "    <tr>\n",
       "      <th>1433</th>\n",
       "      <td>71</td>\n",
       "      <td>17016</td>\n",
       "      <td>86</td>\n",
       "      <td>1300</td>\n",
       "      <td>3</td>\n",
       "      <td>5</td>\n",
       "      <td>69</td>\n",
       "      <td>1015</td>\n",
       "      <td>8500</td>\n",
       "    </tr>\n",
       "    <tr>\n",
       "      <th>1434</th>\n",
       "      <td>70</td>\n",
       "      <td>16916</td>\n",
       "      <td>86</td>\n",
       "      <td>1300</td>\n",
       "      <td>3</td>\n",
       "      <td>5</td>\n",
       "      <td>69</td>\n",
       "      <td>1015</td>\n",
       "      <td>7250</td>\n",
       "    </tr>\n",
       "    <tr>\n",
       "      <th>1435</th>\n",
       "      <td>76</td>\n",
       "      <td>1</td>\n",
       "      <td>110</td>\n",
       "      <td>1600</td>\n",
       "      <td>5</td>\n",
       "      <td>5</td>\n",
       "      <td>19</td>\n",
       "      <td>1114</td>\n",
       "      <td>6950</td>\n",
       "    </tr>\n",
       "  </tbody>\n",
       "</table>\n",
       "<p>1237 rows × 9 columns</p>\n",
       "</div>"
      ],
      "text/plain": [
       "      AGE     KM   HP    CC  Doors  Gears  Quarterly Tax  Weight  Price\n",
       "17     24  21716  110  1600      3      5             85    1105  17950\n",
       "18     24  25563  110  1600      3      5             19    1065  16750\n",
       "19     30  64359  110  1600      3      5             85    1105  16950\n",
       "20     30  67660  110  1600      3      5             85    1105  15950\n",
       "22     28  56349  110  1600      3      5             85    1120  15950\n",
       "...   ...    ...  ...   ...    ...    ...            ...     ...    ...\n",
       "1431   69  20544   86  1300      3      5             69    1025   7500\n",
       "1432   72  19000   86  1300      3      5             69    1015  10845\n",
       "1433   71  17016   86  1300      3      5             69    1015   8500\n",
       "1434   70  16916   86  1300      3      5             69    1015   7250\n",
       "1435   76      1  110  1600      5      5             19    1114   6950\n",
       "\n",
       "[1237 rows x 9 columns]"
      ]
     },
     "execution_count": 40,
     "metadata": {},
     "output_type": "execute_result"
    }
   ],
   "source": [
    "new_df[new_df[\"Quarterly Tax\"]<lower_limit] # No outliers "
   ]
  },
  {
   "cell_type": "code",
   "execution_count": 41,
   "id": "3ad9bdcc",
   "metadata": {},
   "outputs": [
    {
     "name": "stdout",
     "output_type": "stream",
     "text": [
      "1135.0\n",
      "1095.0\n"
     ]
    }
   ],
   "source": [
    "per25=new_df['Weight'].quantile(0.25)\n",
    "per75=new_df['Weight'].quantile(0.75)\n",
    "\n",
    "iqr=per75-per25\n",
    "\n",
    "upper_limit= per75+1.5*iqr\n",
    "lower_limit= per25+1.5*iqr\n",
    "\n",
    "\n",
    "print(upper_limit)\n",
    "print(lower_limit)\n",
    "\n",
    "\n",
    "# Finding the outliers\n",
    "\n",
    "new_df[new_df['Weight']>upper_limit]\n",
    "\n",
    "\n",
    "\n",
    "#Dropping the outliers\n",
    "\n",
    "new_df=new_df[new_df['Weight']<upper_limit]"
   ]
  },
  {
   "cell_type": "code",
   "execution_count": 42,
   "id": "e9e38f2b",
   "metadata": {},
   "outputs": [
    {
     "data": {
      "text/html": [
       "<div>\n",
       "<style scoped>\n",
       "    .dataframe tbody tr th:only-of-type {\n",
       "        vertical-align: middle;\n",
       "    }\n",
       "\n",
       "    .dataframe tbody tr th {\n",
       "        vertical-align: top;\n",
       "    }\n",
       "\n",
       "    .dataframe thead th {\n",
       "        text-align: right;\n",
       "    }\n",
       "</style>\n",
       "<table border=\"1\" class=\"dataframe\">\n",
       "  <thead>\n",
       "    <tr style=\"text-align: right;\">\n",
       "      <th></th>\n",
       "      <th>AGE</th>\n",
       "      <th>KM</th>\n",
       "      <th>HP</th>\n",
       "      <th>CC</th>\n",
       "      <th>Doors</th>\n",
       "      <th>Gears</th>\n",
       "      <th>Quarterly Tax</th>\n",
       "      <th>Weight</th>\n",
       "      <th>Price</th>\n",
       "    </tr>\n",
       "  </thead>\n",
       "  <tbody>\n",
       "    <tr>\n",
       "      <th>18</th>\n",
       "      <td>24</td>\n",
       "      <td>25563</td>\n",
       "      <td>110</td>\n",
       "      <td>1600</td>\n",
       "      <td>3</td>\n",
       "      <td>5</td>\n",
       "      <td>19</td>\n",
       "      <td>1065</td>\n",
       "      <td>16750</td>\n",
       "    </tr>\n",
       "    <tr>\n",
       "      <th>55</th>\n",
       "      <td>32</td>\n",
       "      <td>45725</td>\n",
       "      <td>110</td>\n",
       "      <td>1600</td>\n",
       "      <td>5</td>\n",
       "      <td>5</td>\n",
       "      <td>85</td>\n",
       "      <td>1075</td>\n",
       "      <td>13250</td>\n",
       "    </tr>\n",
       "    <tr>\n",
       "      <th>65</th>\n",
       "      <td>26</td>\n",
       "      <td>32181</td>\n",
       "      <td>110</td>\n",
       "      <td>1600</td>\n",
       "      <td>5</td>\n",
       "      <td>5</td>\n",
       "      <td>19</td>\n",
       "      <td>1075</td>\n",
       "      <td>16950</td>\n",
       "    </tr>\n",
       "    <tr>\n",
       "      <th>71</th>\n",
       "      <td>32</td>\n",
       "      <td>29198</td>\n",
       "      <td>97</td>\n",
       "      <td>1400</td>\n",
       "      <td>5</td>\n",
       "      <td>5</td>\n",
       "      <td>85</td>\n",
       "      <td>1060</td>\n",
       "      <td>12995</td>\n",
       "    </tr>\n",
       "    <tr>\n",
       "      <th>106</th>\n",
       "      <td>14</td>\n",
       "      <td>11500</td>\n",
       "      <td>110</td>\n",
       "      <td>1600</td>\n",
       "      <td>3</td>\n",
       "      <td>5</td>\n",
       "      <td>69</td>\n",
       "      <td>1045</td>\n",
       "      <td>18800</td>\n",
       "    </tr>\n",
       "    <tr>\n",
       "      <th>...</th>\n",
       "      <td>...</td>\n",
       "      <td>...</td>\n",
       "      <td>...</td>\n",
       "      <td>...</td>\n",
       "      <td>...</td>\n",
       "      <td>...</td>\n",
       "      <td>...</td>\n",
       "      <td>...</td>\n",
       "      <td>...</td>\n",
       "    </tr>\n",
       "    <tr>\n",
       "      <th>1430</th>\n",
       "      <td>80</td>\n",
       "      <td>23000</td>\n",
       "      <td>86</td>\n",
       "      <td>1300</td>\n",
       "      <td>3</td>\n",
       "      <td>5</td>\n",
       "      <td>69</td>\n",
       "      <td>1015</td>\n",
       "      <td>8450</td>\n",
       "    </tr>\n",
       "    <tr>\n",
       "      <th>1431</th>\n",
       "      <td>69</td>\n",
       "      <td>20544</td>\n",
       "      <td>86</td>\n",
       "      <td>1300</td>\n",
       "      <td>3</td>\n",
       "      <td>5</td>\n",
       "      <td>69</td>\n",
       "      <td>1025</td>\n",
       "      <td>7500</td>\n",
       "    </tr>\n",
       "    <tr>\n",
       "      <th>1432</th>\n",
       "      <td>72</td>\n",
       "      <td>19000</td>\n",
       "      <td>86</td>\n",
       "      <td>1300</td>\n",
       "      <td>3</td>\n",
       "      <td>5</td>\n",
       "      <td>69</td>\n",
       "      <td>1015</td>\n",
       "      <td>10845</td>\n",
       "    </tr>\n",
       "    <tr>\n",
       "      <th>1433</th>\n",
       "      <td>71</td>\n",
       "      <td>17016</td>\n",
       "      <td>86</td>\n",
       "      <td>1300</td>\n",
       "      <td>3</td>\n",
       "      <td>5</td>\n",
       "      <td>69</td>\n",
       "      <td>1015</td>\n",
       "      <td>8500</td>\n",
       "    </tr>\n",
       "    <tr>\n",
       "      <th>1434</th>\n",
       "      <td>70</td>\n",
       "      <td>16916</td>\n",
       "      <td>86</td>\n",
       "      <td>1300</td>\n",
       "      <td>3</td>\n",
       "      <td>5</td>\n",
       "      <td>69</td>\n",
       "      <td>1015</td>\n",
       "      <td>7250</td>\n",
       "    </tr>\n",
       "  </tbody>\n",
       "</table>\n",
       "<p>1081 rows × 9 columns</p>\n",
       "</div>"
      ],
      "text/plain": [
       "      AGE     KM   HP    CC  Doors  Gears  Quarterly Tax  Weight  Price\n",
       "18     24  25563  110  1600      3      5             19    1065  16750\n",
       "55     32  45725  110  1600      5      5             85    1075  13250\n",
       "65     26  32181  110  1600      5      5             19    1075  16950\n",
       "71     32  29198   97  1400      5      5             85    1060  12995\n",
       "106    14  11500  110  1600      3      5             69    1045  18800\n",
       "...   ...    ...  ...   ...    ...    ...            ...     ...    ...\n",
       "1430   80  23000   86  1300      3      5             69    1015   8450\n",
       "1431   69  20544   86  1300      3      5             69    1025   7500\n",
       "1432   72  19000   86  1300      3      5             69    1015  10845\n",
       "1433   71  17016   86  1300      3      5             69    1015   8500\n",
       "1434   70  16916   86  1300      3      5             69    1015   7250\n",
       "\n",
       "[1081 rows x 9 columns]"
      ]
     },
     "execution_count": 42,
     "metadata": {},
     "output_type": "execute_result"
    }
   ],
   "source": [
    "new_df[new_df['Weight']<lower_limit]# No outliers "
   ]
  },
  {
   "cell_type": "code",
   "execution_count": 43,
   "id": "38cf103f",
   "metadata": {},
   "outputs": [
    {
     "data": {
      "text/html": [
       "<div>\n",
       "<style scoped>\n",
       "    .dataframe tbody tr th:only-of-type {\n",
       "        vertical-align: middle;\n",
       "    }\n",
       "\n",
       "    .dataframe tbody tr th {\n",
       "        vertical-align: top;\n",
       "    }\n",
       "\n",
       "    .dataframe thead th {\n",
       "        text-align: right;\n",
       "    }\n",
       "</style>\n",
       "<table border=\"1\" class=\"dataframe\">\n",
       "  <thead>\n",
       "    <tr style=\"text-align: right;\">\n",
       "      <th></th>\n",
       "      <th>AGE</th>\n",
       "      <th>KM</th>\n",
       "      <th>HP</th>\n",
       "      <th>CC</th>\n",
       "      <th>Doors</th>\n",
       "      <th>Gears</th>\n",
       "      <th>Quarterly Tax</th>\n",
       "      <th>Weight</th>\n",
       "      <th>Price</th>\n",
       "    </tr>\n",
       "  </thead>\n",
       "  <tbody>\n",
       "  </tbody>\n",
       "</table>\n",
       "</div>"
      ],
      "text/plain": [
       "Empty DataFrame\n",
       "Columns: [AGE, KM, HP, CC, Doors, Gears, Quarterly Tax, Weight, Price]\n",
       "Index: []"
      ]
     },
     "execution_count": 43,
     "metadata": {},
     "output_type": "execute_result"
    }
   ],
   "source": [
    "new_df[new_df['Weight']>upper_limit]# No outliers "
   ]
  },
  {
   "cell_type": "code",
   "execution_count": 44,
   "id": "c838a691",
   "metadata": {},
   "outputs": [],
   "source": [
    "x=df[[\"Age_08_04\",\"KM\",\"HP\",\"cc\",\"Doors\",\"Gears\",\"Quarterly_Tax\",\"Weight\"]]"
   ]
  },
  {
   "cell_type": "code",
   "execution_count": 45,
   "id": "953c111e",
   "metadata": {},
   "outputs": [],
   "source": [
    "y=df[\"Price\"]"
   ]
  },
  {
   "cell_type": "code",
   "execution_count": 46,
   "id": "9c74e104",
   "metadata": {},
   "outputs": [
    {
     "data": {
      "text/html": [
       "<div>\n",
       "<style scoped>\n",
       "    .dataframe tbody tr th:only-of-type {\n",
       "        vertical-align: middle;\n",
       "    }\n",
       "\n",
       "    .dataframe tbody tr th {\n",
       "        vertical-align: top;\n",
       "    }\n",
       "\n",
       "    .dataframe thead th {\n",
       "        text-align: right;\n",
       "    }\n",
       "</style>\n",
       "<table border=\"1\" class=\"dataframe\">\n",
       "  <thead>\n",
       "    <tr style=\"text-align: right;\">\n",
       "      <th></th>\n",
       "      <th>Age_08_04</th>\n",
       "      <th>KM</th>\n",
       "      <th>HP</th>\n",
       "      <th>cc</th>\n",
       "      <th>Doors</th>\n",
       "      <th>Gears</th>\n",
       "      <th>Quarterly_Tax</th>\n",
       "      <th>Weight</th>\n",
       "    </tr>\n",
       "  </thead>\n",
       "  <tbody>\n",
       "    <tr>\n",
       "      <th>0</th>\n",
       "      <td>23</td>\n",
       "      <td>46986</td>\n",
       "      <td>90</td>\n",
       "      <td>2000</td>\n",
       "      <td>3</td>\n",
       "      <td>5</td>\n",
       "      <td>210</td>\n",
       "      <td>1165</td>\n",
       "    </tr>\n",
       "    <tr>\n",
       "      <th>1</th>\n",
       "      <td>23</td>\n",
       "      <td>72937</td>\n",
       "      <td>90</td>\n",
       "      <td>2000</td>\n",
       "      <td>3</td>\n",
       "      <td>5</td>\n",
       "      <td>210</td>\n",
       "      <td>1165</td>\n",
       "    </tr>\n",
       "    <tr>\n",
       "      <th>2</th>\n",
       "      <td>24</td>\n",
       "      <td>41711</td>\n",
       "      <td>90</td>\n",
       "      <td>2000</td>\n",
       "      <td>3</td>\n",
       "      <td>5</td>\n",
       "      <td>210</td>\n",
       "      <td>1165</td>\n",
       "    </tr>\n",
       "    <tr>\n",
       "      <th>3</th>\n",
       "      <td>26</td>\n",
       "      <td>48000</td>\n",
       "      <td>90</td>\n",
       "      <td>2000</td>\n",
       "      <td>3</td>\n",
       "      <td>5</td>\n",
       "      <td>210</td>\n",
       "      <td>1165</td>\n",
       "    </tr>\n",
       "    <tr>\n",
       "      <th>4</th>\n",
       "      <td>30</td>\n",
       "      <td>38500</td>\n",
       "      <td>90</td>\n",
       "      <td>2000</td>\n",
       "      <td>3</td>\n",
       "      <td>5</td>\n",
       "      <td>210</td>\n",
       "      <td>1170</td>\n",
       "    </tr>\n",
       "    <tr>\n",
       "      <th>...</th>\n",
       "      <td>...</td>\n",
       "      <td>...</td>\n",
       "      <td>...</td>\n",
       "      <td>...</td>\n",
       "      <td>...</td>\n",
       "      <td>...</td>\n",
       "      <td>...</td>\n",
       "      <td>...</td>\n",
       "    </tr>\n",
       "    <tr>\n",
       "      <th>1431</th>\n",
       "      <td>69</td>\n",
       "      <td>20544</td>\n",
       "      <td>86</td>\n",
       "      <td>1300</td>\n",
       "      <td>3</td>\n",
       "      <td>5</td>\n",
       "      <td>69</td>\n",
       "      <td>1025</td>\n",
       "    </tr>\n",
       "    <tr>\n",
       "      <th>1432</th>\n",
       "      <td>72</td>\n",
       "      <td>19000</td>\n",
       "      <td>86</td>\n",
       "      <td>1300</td>\n",
       "      <td>3</td>\n",
       "      <td>5</td>\n",
       "      <td>69</td>\n",
       "      <td>1015</td>\n",
       "    </tr>\n",
       "    <tr>\n",
       "      <th>1433</th>\n",
       "      <td>71</td>\n",
       "      <td>17016</td>\n",
       "      <td>86</td>\n",
       "      <td>1300</td>\n",
       "      <td>3</td>\n",
       "      <td>5</td>\n",
       "      <td>69</td>\n",
       "      <td>1015</td>\n",
       "    </tr>\n",
       "    <tr>\n",
       "      <th>1434</th>\n",
       "      <td>70</td>\n",
       "      <td>16916</td>\n",
       "      <td>86</td>\n",
       "      <td>1300</td>\n",
       "      <td>3</td>\n",
       "      <td>5</td>\n",
       "      <td>69</td>\n",
       "      <td>1015</td>\n",
       "    </tr>\n",
       "    <tr>\n",
       "      <th>1435</th>\n",
       "      <td>76</td>\n",
       "      <td>1</td>\n",
       "      <td>110</td>\n",
       "      <td>1600</td>\n",
       "      <td>5</td>\n",
       "      <td>5</td>\n",
       "      <td>19</td>\n",
       "      <td>1114</td>\n",
       "    </tr>\n",
       "  </tbody>\n",
       "</table>\n",
       "<p>1436 rows × 8 columns</p>\n",
       "</div>"
      ],
      "text/plain": [
       "      Age_08_04     KM   HP    cc  Doors  Gears  Quarterly_Tax  Weight\n",
       "0            23  46986   90  2000      3      5            210    1165\n",
       "1            23  72937   90  2000      3      5            210    1165\n",
       "2            24  41711   90  2000      3      5            210    1165\n",
       "3            26  48000   90  2000      3      5            210    1165\n",
       "4            30  38500   90  2000      3      5            210    1170\n",
       "...         ...    ...  ...   ...    ...    ...            ...     ...\n",
       "1431         69  20544   86  1300      3      5             69    1025\n",
       "1432         72  19000   86  1300      3      5             69    1015\n",
       "1433         71  17016   86  1300      3      5             69    1015\n",
       "1434         70  16916   86  1300      3      5             69    1015\n",
       "1435         76      1  110  1600      5      5             19    1114\n",
       "\n",
       "[1436 rows x 8 columns]"
      ]
     },
     "execution_count": 46,
     "metadata": {},
     "output_type": "execute_result"
    }
   ],
   "source": [
    "x"
   ]
  },
  {
   "cell_type": "code",
   "execution_count": 47,
   "id": "706a154e",
   "metadata": {},
   "outputs": [
    {
     "data": {
      "text/plain": [
       "0       13500\n",
       "1       13750\n",
       "2       13950\n",
       "3       14950\n",
       "4       13750\n",
       "        ...  \n",
       "1431     7500\n",
       "1432    10845\n",
       "1433     8500\n",
       "1434     7250\n",
       "1435     6950\n",
       "Name: Price, Length: 1436, dtype: int64"
      ]
     },
     "execution_count": 47,
     "metadata": {},
     "output_type": "execute_result"
    }
   ],
   "source": [
    "y"
   ]
  },
  {
   "cell_type": "code",
   "execution_count": 48,
   "id": "bbec075a",
   "metadata": {},
   "outputs": [
    {
     "data": {
      "text/plain": [
       "((1005, 8), (431, 8), (1005,), (431,))"
      ]
     },
     "execution_count": 48,
     "metadata": {},
     "output_type": "execute_result"
    }
   ],
   "source": [
    "from sklearn.model_selection import train_test_split\n",
    "\n",
    "\n",
    "xtrain,xtest,ytrain,ytest=train_test_split(x,y,test_size=0.30, random_state=42)\n",
    "\n",
    "xtrain.shape, xtest.shape, ytrain.shape, ytest.shape"
   ]
  },
  {
   "cell_type": "code",
   "execution_count": 49,
   "id": "6c1360cc",
   "metadata": {},
   "outputs": [],
   "source": [
    " from sklearn.preprocessing import StandardScaler\n",
    "sc= StandardScaler()\n",
    "\n",
    "xtrain=sc.fit_transform(xtrain)\n",
    "xtest=sc.transform(xtest)"
   ]
  },
  {
   "cell_type": "code",
   "execution_count": 50,
   "id": "e9f05baa",
   "metadata": {},
   "outputs": [],
   "source": [
    "from sklearn.linear_model import LinearRegression\n",
    "\n",
    "lr=LinearRegression()\n",
    "\n",
    "lr.fit(xtrain,ytrain)\n",
    "\n",
    "ypred=lr.predict(xtest)"
   ]
  },
  {
   "cell_type": "code",
   "execution_count": 51,
   "id": "81482a3c",
   "metadata": {},
   "outputs": [],
   "source": [
    "from sklearn.metrics import r2_score,accuracy_score,mean_absolute_error,mean_squared_error"
   ]
  },
  {
   "cell_type": "code",
   "execution_count": 52,
   "id": "b2dce6bf",
   "metadata": {},
   "outputs": [
    {
     "data": {
      "text/plain": [
       "0.8626587179727578"
      ]
     },
     "execution_count": 52,
     "metadata": {},
     "output_type": "execute_result"
    }
   ],
   "source": [
    "r2_score(ytest,ypred)"
   ]
  },
  {
   "cell_type": "code",
   "execution_count": 53,
   "id": "f617a680",
   "metadata": {},
   "outputs": [],
   "source": [
    "r2score=r2_score(ytest,ypred)"
   ]
  },
  {
   "cell_type": "code",
   "execution_count": 54,
   "id": "e8c7f7b6",
   "metadata": {},
   "outputs": [
    {
     "data": {
      "text/plain": [
       "8"
      ]
     },
     "execution_count": 54,
     "metadata": {},
     "output_type": "execute_result"
    }
   ],
   "source": [
    "xtest.shape[1]"
   ]
  },
  {
   "cell_type": "code",
   "execution_count": 55,
   "id": "896cc715",
   "metadata": {},
   "outputs": [
    {
     "data": {
      "text/plain": [
       "0.8600550917731893"
      ]
     },
     "execution_count": 55,
     "metadata": {},
     "output_type": "execute_result"
    }
   ],
   "source": [
    "# Adjusted R2 Score\n",
    "\n",
    "1-((1-r2score))* (xtest.shape[0]-1)/ (xtest.shape[0]-1-xtest.shape[1])"
   ]
  },
  {
   "cell_type": "code",
   "execution_count": 56,
   "id": "4987f1de",
   "metadata": {},
   "outputs": [
    {
     "data": {
      "text/plain": [
       "1912084.7234836915"
      ]
     },
     "execution_count": 56,
     "metadata": {},
     "output_type": "execute_result"
    }
   ],
   "source": [
    "mean_squared_error(ytest,ypred)"
   ]
  },
  {
   "cell_type": "code",
   "execution_count": 57,
   "id": "5b06b569",
   "metadata": {},
   "outputs": [
    {
     "data": {
      "text/plain": [
       "1002.0949047093146"
      ]
     },
     "execution_count": 57,
     "metadata": {},
     "output_type": "execute_result"
    }
   ],
   "source": [
    "mean_absolute_error(ytest,ypred)"
   ]
  },
  {
   "cell_type": "code",
   "execution_count": 58,
   "id": "1fe0a47b",
   "metadata": {},
   "outputs": [
    {
     "data": {
      "text/plain": [
       "1382.781516901239"
      ]
     },
     "execution_count": 58,
     "metadata": {},
     "output_type": "execute_result"
    }
   ],
   "source": [
    "np.sqrt(mean_squared_error(ytest,ypred))"
   ]
  },
  {
   "cell_type": "code",
   "execution_count": 59,
   "id": "a5766252",
   "metadata": {},
   "outputs": [
    {
     "name": "stdout",
     "output_type": "stream",
     "text": [
      "R2 Score: 0.8626587179727578\n",
      "Adj R2 Score: 0.8600550917731893\n",
      "Mean Squared Error 1912084.7234836915\n",
      "Mean Absolute Error 1002.0949047093146\n",
      "Root Mean Square Error: 1382.781516901239\n"
     ]
    }
   ],
   "source": [
    "print(\"R2 Score:\",r2score)\n",
    "print(\"Adj R2 Score:\",1-((1-r2score))* (431-1)/ (431-1-8))\n",
    "print(\"Mean Squared Error\",mean_squared_error(ytest,ypred))\n",
    "print(\"Mean Absolute Error\",mean_absolute_error(ytest,ypred))\n",
    "print(\"Root Mean Square Error:\",np.sqrt(mean_squared_error(ytest,ypred)))"
   ]
  },
  {
   "cell_type": "markdown",
   "id": "b0674956",
   "metadata": {},
   "source": [
    "## Model Building Using Stats Model"
   ]
  },
  {
   "cell_type": "code",
   "execution_count": 66,
   "id": "8a8ed0ea",
   "metadata": {},
   "outputs": [],
   "source": [
    "from statsmodels.graphics.regressionplots import influence_plot\n",
    "import statsmodels.formula.api as smf"
   ]
  },
  {
   "cell_type": "code",
   "execution_count": 67,
   "id": "780ed250",
   "metadata": {},
   "outputs": [],
   "source": [
    "df=new_df.copy()"
   ]
  },
  {
   "cell_type": "code",
   "execution_count": 71,
   "id": "15521c08",
   "metadata": {},
   "outputs": [
    {
     "data": {
      "text/plain": [
       "Index(['AGE', 'KM', 'HP', 'CC', 'Doors', 'Gears', 'Quarterly Tax', 'Weight',\n",
       "       'Price'],\n",
       "      dtype='object')"
      ]
     },
     "execution_count": 71,
     "metadata": {},
     "output_type": "execute_result"
    }
   ],
   "source": [
    "df.columns"
   ]
  },
  {
   "cell_type": "code",
   "execution_count": 73,
   "id": "5b571b9c",
   "metadata": {},
   "outputs": [],
   "source": [
    "df.rename(columns={'AGE':\"age\",\"KM\":\"km\",\"Quarterly Tax\":\"quarterly_tax\",\"Weight\":\"weight\",\"Price\":\"price\",\"HP\":\"hp\",\"CC\":\"cc\",\"Doors\":\"doors\",\"Gears\":\"gears\"},inplace=True)"
   ]
  },
  {
   "cell_type": "code",
   "execution_count": 74,
   "id": "434306cc",
   "metadata": {},
   "outputs": [
    {
     "data": {
      "text/plain": [
       "Index(['age', 'km', 'hp', 'cc', 'doors', 'gears', 'quarterly_tax', 'weight',\n",
       "       'price'],\n",
       "      dtype='object')"
      ]
     },
     "execution_count": 74,
     "metadata": {},
     "output_type": "execute_result"
    }
   ],
   "source": [
    "df.columns"
   ]
  },
  {
   "cell_type": "code",
   "execution_count": 76,
   "id": "3228b092",
   "metadata": {},
   "outputs": [],
   "source": [
    "import statsmodels.formula.api as smf \n",
    "model = smf.ols('price~age+km+hp+cc+doors+gears+quarterly_tax+weight',data=df).fit()"
   ]
  },
  {
   "cell_type": "code",
   "execution_count": 77,
   "id": "b789547b",
   "metadata": {},
   "outputs": [
    {
     "data": {
      "text/plain": [
       "Intercept       -14109.015468\n",
       "age               -113.763721\n",
       "km                  -0.015383\n",
       "hp                  62.330240\n",
       "cc                  -6.001359\n",
       "doors             -147.503872\n",
       "gears              416.592163\n",
       "quarterly_tax        4.239200\n",
       "weight              31.074325\n",
       "dtype: float64"
      ]
     },
     "execution_count": 77,
     "metadata": {},
     "output_type": "execute_result"
    }
   ],
   "source": [
    "#Coefficients\n",
    "model.params"
   ]
  },
  {
   "cell_type": "code",
   "execution_count": 78,
   "id": "a983d81a",
   "metadata": {},
   "outputs": [
    {
     "name": "stdout",
     "output_type": "stream",
     "text": [
      "Intercept        -7.620148\n",
      "age             -44.355662\n",
      "km              -10.908798\n",
      "hp                4.915439\n",
      "cc               -5.909748\n",
      "doors            -3.571708\n",
      "gears             2.379940\n",
      "quarterly_tax     1.895105\n",
      "weight           17.109339\n",
      "dtype: float64 \n",
      " Intercept         5.063291e-14\n",
      "age              9.327595e-257\n",
      "km                1.670179e-26\n",
      "hp                1.006418e-06\n",
      "cc                4.439336e-09\n",
      "doors             3.684585e-04\n",
      "gears             1.746828e-02\n",
      "quarterly_tax     5.831447e-02\n",
      "weight            5.423283e-59\n",
      "dtype: float64\n"
     ]
    }
   ],
   "source": [
    "#t and p-Values\n",
    "print(model.tvalues, '\\n', model.pvalues)"
   ]
  },
  {
   "cell_type": "code",
   "execution_count": 79,
   "id": "6d5cd49c",
   "metadata": {},
   "outputs": [
    {
     "data": {
      "text/plain": [
       "(0.8646571499803498, 0.8637703827402539)"
      ]
     },
     "execution_count": 79,
     "metadata": {},
     "output_type": "execute_result"
    }
   ],
   "source": [
    "#R squared values\n",
    "(model.rsquared,model.rsquared_adj)"
   ]
  },
  {
   "cell_type": "markdown",
   "id": "9b1b3833",
   "metadata": {},
   "source": [
    "# Q-Q Plot"
   ]
  },
  {
   "cell_type": "code",
   "execution_count": 80,
   "id": "edfa731c",
   "metadata": {},
   "outputs": [],
   "source": [
    "from statsmodels.graphics.regressionplots import influence_plot\n",
    "import statsmodels.formula.api as smf"
   ]
  },
  {
   "cell_type": "code",
   "execution_count": 81,
   "id": "4eba4327",
   "metadata": {},
   "outputs": [],
   "source": [
    "model_influence = model.get_influence()\n",
    "(c, _) = model_influence.cooks_distance"
   ]
  },
  {
   "cell_type": "code",
   "execution_count": 83,
   "id": "d8493c60",
   "metadata": {},
   "outputs": [
    {
     "data": {
      "image/png": "[encoded data removed]",
      "text/plain": [
       "<Figure size 1440x504 with 1 Axes>"
      ]
     },
     "metadata": {
      "needs_background": "light"
     },
     "output_type": "display_data"
    }
   ],
   "source": [
    "\n",
    "fig = plt.subplots(figsize=(20, 7))\n",
    "plt.stem(np.arange(len(df)), np.round(c, 3))\n",
    "plt.xlabel('Row index')\n",
    "plt.ylabel('Cooks Distance')\n",
    "plt.show()"
   ]
  },
  {
   "cell_type": "markdown",
   "id": "90da76d5",
   "metadata": {},
   "source": [
    "### Influence Plot"
   ]
  },
  {
   "cell_type": "code",
   "execution_count": 84,
   "id": "24221a67",
   "metadata": {},
   "outputs": [
    {
     "data": {
      "image/png": "[encoded data removed]",
      "text/plain": [
       "<Figure size 432x288 with 1 Axes>"
      ]
     },
     "metadata": {
      "needs_background": "light"
     },
     "output_type": "display_data"
    }
   ],
   "source": [
    "from statsmodels.graphics.regressionplots import influence_plot\n",
    "influence_plot(model)\n",
    "plt.show()"
   ]
  },
  {
   "cell_type": "code",
   "execution_count": null,
   "id": "113861f4",
   "metadata": {},
   "outputs": [],
   "source": []
  }
 ],
 "metadata": {
  "kernelspec": {
   "display_name": "Python 3 (ipykernel)",
   "language": "python",
   "name": "python3"
  },
  "language_info": {
   "codemirror_mode": {
    "name": "ipython",
    "version": 3
   },
   "file_extension": ".py",
   "mimetype": "text/x-python",
   "name": "python",
   "nbconvert_exporter": "python",
   "pygments_lexer": "ipython3",
   "version": "3.9.12"
  }
 },
 "nbformat": 4,
 "nbformat_minor": 5
}
